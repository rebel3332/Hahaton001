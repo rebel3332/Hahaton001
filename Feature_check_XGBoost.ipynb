{
 "cells": [
  {
   "cell_type": "markdown",
   "metadata": {},
   "source": [
    "# Обучение и предсказание"
   ]
  },
  {
   "cell_type": "code",
<<<<<<< HEAD
   "execution_count": 16,
=======
   "execution_count": 1,
>>>>>>> 02d134c60765e53fc6aa839a5e557bb0a5c5d07d
   "metadata": {},
   "outputs": [],
   "source": [
    "import pandas as pd\n",
    "import xgboost as xgb\n",
    "from xgboost import XGBClassifier\n",
    "from sklearn.metrics import accuracy_score\n",
    "import seaborn as sns\n",
    "import matplotlib.pyplot as plt"
   ]
  },
  {
   "cell_type": "code",
<<<<<<< HEAD
   "execution_count": 17,
=======
   "execution_count": 2,
>>>>>>> 02d134c60765e53fc6aa839a5e557bb0a5c5d07d
   "metadata": {},
   "outputs": [
    {
     "data": {
      "text/html": [
       "<div>\n",
       "<style scoped>\n",
       "    .dataframe tbody tr th:only-of-type {\n",
       "        vertical-align: middle;\n",
       "    }\n",
       "\n",
       "    .dataframe tbody tr th {\n",
       "        vertical-align: top;\n",
       "    }\n",
       "\n",
       "    .dataframe thead th {\n",
       "        text-align: right;\n",
       "    }\n",
       "</style>\n",
       "<table border=\"1\" class=\"dataframe\">\n",
       "  <thead>\n",
       "    <tr style=\"text-align: right;\">\n",
       "      <th></th>\n",
       "      <th>Итого</th>\n",
       "      <th>Макс. ПДЗ за 2020 год, дней</th>\n",
       "      <th>2019, Основные средства , RUB</th>\n",
       "      <th>2016, Заёмные средства (долгосрочные), RUB</th>\n",
       "      <th>2017, Заёмные средства (долгосрочные), RUB</th>\n",
       "      <th>2018, Заёмные средства (долгосрочные), RUB</th>\n",
       "      <th>2019, Заёмные средства (долгосрочные), RUB</th>\n",
       "      <th>2017, Долгосрочные обязательства, RUB</th>\n",
       "      <th>2018, Долгосрочные обязательства, RUB</th>\n",
       "      <th>2019, Долгосрочные обязательства, RUB</th>\n",
       "      <th>2018, Краткосрочные обязательства, RUB</th>\n",
       "      <th>Факт просрочки</th>\n",
       "    </tr>\n",
       "    <tr>\n",
       "      <th>Наименование ДП</th>\n",
       "      <th></th>\n",
       "      <th></th>\n",
       "      <th></th>\n",
       "      <th></th>\n",
       "      <th></th>\n",
       "      <th></th>\n",
       "      <th></th>\n",
       "      <th></th>\n",
       "      <th></th>\n",
       "      <th></th>\n",
       "      <th></th>\n",
       "      <th></th>\n",
       "    </tr>\n",
       "  </thead>\n",
       "  <tbody>\n",
       "    <tr>\n",
       "      <th>526</th>\n",
       "      <td>70.0</td>\n",
       "      <td>0</td>\n",
       "      <td>1.210191e+06</td>\n",
       "      <td>8.025478e+06</td>\n",
       "      <td>6.755414e+06</td>\n",
       "      <td>3.194904e+07</td>\n",
       "      <td>3.775223e+07</td>\n",
       "      <td>6.755414e+06</td>\n",
       "      <td>3.194904e+07</td>\n",
       "      <td>3.775223e+07</td>\n",
       "      <td>4.965796e+07</td>\n",
       "      <td>False</td>\n",
       "    </tr>\n",
       "    <tr>\n",
       "      <th>527</th>\n",
       "      <td>0.0</td>\n",
       "      <td>0</td>\n",
       "      <td>1.072955e+08</td>\n",
       "      <td>0.000000e+00</td>\n",
       "      <td>0.000000e+00</td>\n",
       "      <td>0.000000e+00</td>\n",
       "      <td>0.000000e+00</td>\n",
       "      <td>3.155414e+06</td>\n",
       "      <td>2.354777e+06</td>\n",
       "      <td>7.968153e+05</td>\n",
       "      <td>1.562490e+08</td>\n",
       "      <td>False</td>\n",
       "    </tr>\n",
       "    <tr>\n",
       "      <th>528</th>\n",
       "      <td>50.0</td>\n",
       "      <td>0</td>\n",
       "      <td>0.000000e+00</td>\n",
       "      <td>0.000000e+00</td>\n",
       "      <td>0.000000e+00</td>\n",
       "      <td>0.000000e+00</td>\n",
       "      <td>0.000000e+00</td>\n",
       "      <td>0.000000e+00</td>\n",
       "      <td>0.000000e+00</td>\n",
       "      <td>0.000000e+00</td>\n",
       "      <td>0.000000e+00</td>\n",
       "      <td>False</td>\n",
       "    </tr>\n",
       "    <tr>\n",
       "      <th>529</th>\n",
       "      <td>70.0</td>\n",
       "      <td>0</td>\n",
       "      <td>7.598726e+05</td>\n",
       "      <td>2.787452e+07</td>\n",
       "      <td>1.580127e+08</td>\n",
       "      <td>1.666369e+08</td>\n",
       "      <td>1.208955e+08</td>\n",
       "      <td>1.580210e+08</td>\n",
       "      <td>1.903682e+08</td>\n",
       "      <td>1.578911e+08</td>\n",
       "      <td>5.680981e+08</td>\n",
       "      <td>False</td>\n",
       "    </tr>\n",
       "    <tr>\n",
       "      <th>530</th>\n",
       "      <td>10.0</td>\n",
       "      <td>0</td>\n",
       "      <td>2.043312e+06</td>\n",
       "      <td>0.000000e+00</td>\n",
       "      <td>0.000000e+00</td>\n",
       "      <td>0.000000e+00</td>\n",
       "      <td>0.000000e+00</td>\n",
       "      <td>0.000000e+00</td>\n",
       "      <td>0.000000e+00</td>\n",
       "      <td>2.374522e+06</td>\n",
       "      <td>1.119427e+07</td>\n",
       "      <td>False</td>\n",
       "    </tr>\n",
       "  </tbody>\n",
       "</table>\n",
       "</div>"
      ],
      "text/plain": [
       "                 Итого  Макс. ПДЗ за 2020 год, дней  \\\n",
       "Наименование ДП                                       \n",
       "526               70.0                            0   \n",
       "527                0.0                            0   \n",
       "528               50.0                            0   \n",
       "529               70.0                            0   \n",
       "530               10.0                            0   \n",
       "\n",
       "                 2019, Основные средства , RUB  \\\n",
       "Наименование ДП                                  \n",
       "526                               1.210191e+06   \n",
       "527                               1.072955e+08   \n",
       "528                               0.000000e+00   \n",
       "529                               7.598726e+05   \n",
       "530                               2.043312e+06   \n",
       "\n",
       "                 2016, Заёмные средства (долгосрочные), RUB  \\\n",
       "Наименование ДП                                               \n",
       "526                                            8.025478e+06   \n",
       "527                                            0.000000e+00   \n",
       "528                                            0.000000e+00   \n",
       "529                                            2.787452e+07   \n",
       "530                                            0.000000e+00   \n",
       "\n",
       "                 2017, Заёмные средства (долгосрочные), RUB  \\\n",
       "Наименование ДП                                               \n",
       "526                                            6.755414e+06   \n",
       "527                                            0.000000e+00   \n",
       "528                                            0.000000e+00   \n",
       "529                                            1.580127e+08   \n",
       "530                                            0.000000e+00   \n",
       "\n",
       "                 2018, Заёмные средства (долгосрочные), RUB  \\\n",
       "Наименование ДП                                               \n",
       "526                                            3.194904e+07   \n",
       "527                                            0.000000e+00   \n",
       "528                                            0.000000e+00   \n",
       "529                                            1.666369e+08   \n",
       "530                                            0.000000e+00   \n",
       "\n",
       "                 2019, Заёмные средства (долгосрочные), RUB  \\\n",
       "Наименование ДП                                               \n",
       "526                                            3.775223e+07   \n",
       "527                                            0.000000e+00   \n",
       "528                                            0.000000e+00   \n",
       "529                                            1.208955e+08   \n",
       "530                                            0.000000e+00   \n",
       "\n",
       "                 2017, Долгосрочные обязательства, RUB  \\\n",
       "Наименование ДП                                          \n",
       "526                                       6.755414e+06   \n",
       "527                                       3.155414e+06   \n",
       "528                                       0.000000e+00   \n",
       "529                                       1.580210e+08   \n",
       "530                                       0.000000e+00   \n",
       "\n",
       "                 2018, Долгосрочные обязательства, RUB  \\\n",
       "Наименование ДП                                          \n",
       "526                                       3.194904e+07   \n",
       "527                                       2.354777e+06   \n",
       "528                                       0.000000e+00   \n",
       "529                                       1.903682e+08   \n",
       "530                                       0.000000e+00   \n",
       "\n",
       "                 2019, Долгосрочные обязательства, RUB  \\\n",
       "Наименование ДП                                          \n",
       "526                                       3.775223e+07   \n",
       "527                                       7.968153e+05   \n",
       "528                                       0.000000e+00   \n",
       "529                                       1.578911e+08   \n",
       "530                                       2.374522e+06   \n",
       "\n",
       "                 2018, Краткосрочные обязательства, RUB  Факт просрочки  \n",
       "Наименование ДП                                                          \n",
       "526                                        4.965796e+07           False  \n",
       "527                                        1.562490e+08           False  \n",
       "528                                        0.000000e+00           False  \n",
       "529                                        5.680981e+08           False  \n",
       "530                                        1.119427e+07           False  "
      ]
     },
<<<<<<< HEAD
     "execution_count": 17,
=======
     "execution_count": 2,
>>>>>>> 02d134c60765e53fc6aa839a5e557bb0a5c5d07d
     "metadata": {},
     "output_type": "execute_result"
    }
   ],
   "source": [
    "df = pd.read_csv('data/feature_check_001.csv', index_col='Наименование ДП')\n",
    "df.tail()"
   ]
  },
  {
   "cell_type": "code",
<<<<<<< HEAD
   "execution_count": 18,
=======
   "execution_count": 3,
>>>>>>> 02d134c60765e53fc6aa839a5e557bb0a5c5d07d
   "metadata": {},
   "outputs": [
    {
     "data": {
      "text/html": [
       "<div>\n",
       "<style scoped>\n",
       "    .dataframe tbody tr th:only-of-type {\n",
       "        vertical-align: middle;\n",
       "    }\n",
       "\n",
       "    .dataframe tbody tr th {\n",
       "        vertical-align: top;\n",
       "    }\n",
       "\n",
       "    .dataframe thead th {\n",
       "        text-align: right;\n",
       "    }\n",
       "</style>\n",
       "<table border=\"1\" class=\"dataframe\">\n",
       "  <thead>\n",
       "    <tr style=\"text-align: right;\">\n",
       "      <th></th>\n",
       "      <th>Итого</th>\n",
       "      <th>Макс. ПДЗ за 2020 год, дней</th>\n",
       "      <th>2019, Основные средства , RUB</th>\n",
       "      <th>2016, Заёмные средства (долгосрочные), RUB</th>\n",
       "      <th>2017, Заёмные средства (долгосрочные), RUB</th>\n",
       "      <th>2018, Заёмные средства (долгосрочные), RUB</th>\n",
       "      <th>2019, Заёмные средства (долгосрочные), RUB</th>\n",
       "      <th>2017, Долгосрочные обязательства, RUB</th>\n",
       "      <th>2018, Долгосрочные обязательства, RUB</th>\n",
       "      <th>2019, Долгосрочные обязательства, RUB</th>\n",
       "      <th>2018, Краткосрочные обязательства, RUB</th>\n",
       "    </tr>\n",
       "  </thead>\n",
       "  <tbody>\n",
       "    <tr>\n",
       "      <th>count</th>\n",
       "      <td>525.000000</td>\n",
       "      <td>531.000000</td>\n",
       "      <td>5.310000e+02</td>\n",
       "      <td>5.310000e+02</td>\n",
       "      <td>5.310000e+02</td>\n",
       "      <td>5.310000e+02</td>\n",
       "      <td>5.310000e+02</td>\n",
       "      <td>5.310000e+02</td>\n",
       "      <td>5.310000e+02</td>\n",
       "      <td>5.310000e+02</td>\n",
       "      <td>5.310000e+02</td>\n",
       "    </tr>\n",
       "    <tr>\n",
       "      <th>mean</th>\n",
       "      <td>30.400000</td>\n",
       "      <td>26.924670</td>\n",
       "      <td>7.726455e+09</td>\n",
       "      <td>3.748335e+09</td>\n",
       "      <td>3.935466e+09</td>\n",
       "      <td>4.797155e+09</td>\n",
       "      <td>4.627470e+09</td>\n",
       "      <td>5.263869e+09</td>\n",
       "      <td>6.291704e+09</td>\n",
       "      <td>6.224511e+09</td>\n",
       "      <td>3.117675e+09</td>\n",
       "    </tr>\n",
       "    <tr>\n",
       "      <th>std</th>\n",
       "      <td>48.575431</td>\n",
       "      <td>69.438625</td>\n",
       "      <td>6.396236e+10</td>\n",
       "      <td>3.640043e+10</td>\n",
       "      <td>4.726859e+10</td>\n",
       "      <td>5.313151e+10</td>\n",
       "      <td>4.961984e+10</td>\n",
       "      <td>4.993112e+10</td>\n",
       "      <td>5.649485e+10</td>\n",
       "      <td>5.359923e+10</td>\n",
       "      <td>1.279101e+10</td>\n",
       "    </tr>\n",
       "    <tr>\n",
       "      <th>min</th>\n",
       "      <td>0.000000</td>\n",
       "      <td>0.000000</td>\n",
       "      <td>0.000000e+00</td>\n",
       "      <td>0.000000e+00</td>\n",
       "      <td>0.000000e+00</td>\n",
       "      <td>-2.101911e+04</td>\n",
       "      <td>0.000000e+00</td>\n",
       "      <td>-3.247771e+06</td>\n",
       "      <td>-1.357962e+06</td>\n",
       "      <td>0.000000e+00</td>\n",
       "      <td>0.000000e+00</td>\n",
       "    </tr>\n",
       "    <tr>\n",
       "      <th>25%</th>\n",
       "      <td>10.000000</td>\n",
       "      <td>0.000000</td>\n",
       "      <td>4.136943e+06</td>\n",
       "      <td>0.000000e+00</td>\n",
       "      <td>0.000000e+00</td>\n",
       "      <td>0.000000e+00</td>\n",
       "      <td>0.000000e+00</td>\n",
       "      <td>0.000000e+00</td>\n",
       "      <td>0.000000e+00</td>\n",
       "      <td>4.044586e+04</td>\n",
       "      <td>2.967484e+07</td>\n",
       "    </tr>\n",
       "    <tr>\n",
       "      <th>50%</th>\n",
       "      <td>20.000000</td>\n",
       "      <td>5.000000</td>\n",
       "      <td>3.365096e+07</td>\n",
       "      <td>0.000000e+00</td>\n",
       "      <td>0.000000e+00</td>\n",
       "      <td>0.000000e+00</td>\n",
       "      <td>0.000000e+00</td>\n",
       "      <td>1.897452e+06</td>\n",
       "      <td>5.820382e+06</td>\n",
       "      <td>7.420382e+06</td>\n",
       "      <td>1.302274e+08</td>\n",
       "    </tr>\n",
       "    <tr>\n",
       "      <th>75%</th>\n",
       "      <td>30.000000</td>\n",
       "      <td>18.000000</td>\n",
       "      <td>2.719255e+08</td>\n",
       "      <td>1.433153e+07</td>\n",
       "      <td>2.610478e+07</td>\n",
       "      <td>5.147739e+07</td>\n",
       "      <td>4.853312e+07</td>\n",
       "      <td>6.056847e+07</td>\n",
       "      <td>1.180487e+08</td>\n",
       "      <td>1.359045e+08</td>\n",
       "      <td>6.925752e+08</td>\n",
       "    </tr>\n",
       "    <tr>\n",
       "      <th>max</th>\n",
       "      <td>370.000000</td>\n",
       "      <td>489.000000</td>\n",
       "      <td>1.037724e+12</td>\n",
       "      <td>7.441625e+11</td>\n",
       "      <td>1.038017e+12</td>\n",
       "      <td>1.142727e+12</td>\n",
       "      <td>1.058461e+12</td>\n",
       "      <td>1.058396e+12</td>\n",
       "      <td>1.171881e+12</td>\n",
       "      <td>1.090158e+12</td>\n",
       "      <td>1.817083e+11</td>\n",
       "    </tr>\n",
       "  </tbody>\n",
       "</table>\n",
       "</div>"
      ],
      "text/plain": [
       "            Итого  Макс. ПДЗ за 2020 год, дней  2019, Основные средства , RUB  \\\n",
       "count  525.000000                   531.000000                   5.310000e+02   \n",
       "mean    30.400000                    26.924670                   7.726455e+09   \n",
       "std     48.575431                    69.438625                   6.396236e+10   \n",
       "min      0.000000                     0.000000                   0.000000e+00   \n",
       "25%     10.000000                     0.000000                   4.136943e+06   \n",
       "50%     20.000000                     5.000000                   3.365096e+07   \n",
       "75%     30.000000                    18.000000                   2.719255e+08   \n",
       "max    370.000000                   489.000000                   1.037724e+12   \n",
       "\n",
       "       2016, Заёмные средства (долгосрочные), RUB  \\\n",
       "count                                5.310000e+02   \n",
       "mean                                 3.748335e+09   \n",
       "std                                  3.640043e+10   \n",
       "min                                  0.000000e+00   \n",
       "25%                                  0.000000e+00   \n",
       "50%                                  0.000000e+00   \n",
       "75%                                  1.433153e+07   \n",
       "max                                  7.441625e+11   \n",
       "\n",
       "       2017, Заёмные средства (долгосрочные), RUB  \\\n",
       "count                                5.310000e+02   \n",
       "mean                                 3.935466e+09   \n",
       "std                                  4.726859e+10   \n",
       "min                                  0.000000e+00   \n",
       "25%                                  0.000000e+00   \n",
       "50%                                  0.000000e+00   \n",
       "75%                                  2.610478e+07   \n",
       "max                                  1.038017e+12   \n",
       "\n",
       "       2018, Заёмные средства (долгосрочные), RUB  \\\n",
       "count                                5.310000e+02   \n",
       "mean                                 4.797155e+09   \n",
       "std                                  5.313151e+10   \n",
       "min                                 -2.101911e+04   \n",
       "25%                                  0.000000e+00   \n",
       "50%                                  0.000000e+00   \n",
       "75%                                  5.147739e+07   \n",
       "max                                  1.142727e+12   \n",
       "\n",
       "       2019, Заёмные средства (долгосрочные), RUB  \\\n",
       "count                                5.310000e+02   \n",
       "mean                                 4.627470e+09   \n",
       "std                                  4.961984e+10   \n",
       "min                                  0.000000e+00   \n",
       "25%                                  0.000000e+00   \n",
       "50%                                  0.000000e+00   \n",
       "75%                                  4.853312e+07   \n",
       "max                                  1.058461e+12   \n",
       "\n",
       "       2017, Долгосрочные обязательства, RUB  \\\n",
       "count                           5.310000e+02   \n",
       "mean                            5.263869e+09   \n",
       "std                             4.993112e+10   \n",
       "min                            -3.247771e+06   \n",
       "25%                             0.000000e+00   \n",
       "50%                             1.897452e+06   \n",
       "75%                             6.056847e+07   \n",
       "max                             1.058396e+12   \n",
       "\n",
       "       2018, Долгосрочные обязательства, RUB  \\\n",
       "count                           5.310000e+02   \n",
       "mean                            6.291704e+09   \n",
       "std                             5.649485e+10   \n",
       "min                            -1.357962e+06   \n",
       "25%                             0.000000e+00   \n",
       "50%                             5.820382e+06   \n",
       "75%                             1.180487e+08   \n",
       "max                             1.171881e+12   \n",
       "\n",
       "       2019, Долгосрочные обязательства, RUB  \\\n",
       "count                           5.310000e+02   \n",
       "mean                            6.224511e+09   \n",
       "std                             5.359923e+10   \n",
       "min                             0.000000e+00   \n",
       "25%                             4.044586e+04   \n",
       "50%                             7.420382e+06   \n",
       "75%                             1.359045e+08   \n",
       "max                             1.090158e+12   \n",
       "\n",
       "       2018, Краткосрочные обязательства, RUB  \n",
       "count                            5.310000e+02  \n",
       "mean                             3.117675e+09  \n",
       "std                              1.279101e+10  \n",
       "min                              0.000000e+00  \n",
       "25%                              2.967484e+07  \n",
       "50%                              1.302274e+08  \n",
       "75%                              6.925752e+08  \n",
       "max                              1.817083e+11  "
      ]
     },
<<<<<<< HEAD
     "execution_count": 18,
=======
     "execution_count": 3,
>>>>>>> 02d134c60765e53fc6aa839a5e557bb0a5c5d07d
     "metadata": {},
     "output_type": "execute_result"
    }
   ],
   "source": [
    "df.describe()"
   ]
  },
  {
   "cell_type": "code",
<<<<<<< HEAD
   "execution_count": 19,
=======
   "execution_count": 4,
>>>>>>> 02d134c60765e53fc6aa839a5e557bb0a5c5d07d
   "metadata": {},
   "outputs": [
    {
     "name": "stdout",
     "output_type": "stream",
     "text": [
      " Всего данных 531,\n",
      " Обучающая выборка X (372, 11),\n",
      " Тестовая выборка X (159, 11), \n",
      " Обучающая выборка Y (372,),\n",
      " Тестовая выборка Y (159,)\n"
     ]
    }
   ],
   "source": [
    "df_x = df.drop('Макс. ПДЗ за 2020 год, дней', axis=1)\n",
    "df_y = df['Макс. ПДЗ за 2020 год, дней']\n",
    "\n",
    "# 1234 - bool=100% day=20\n",
    "# 90 - bool=100% day=13\n",
    "\n",
    "random_state = 90\n",
    "df_train_x = df_x.sample(frac=0.7, random_state=random_state)\n",
    "df_test_x = df_x[~df_x.index.isin(df_train_x.index)]\n",
    "df_train_y = df_y.sample(frac=0.7, random_state=random_state)\n",
    "df_test_y = df_y[~df_y.index.isin(df_train_y.index)]\n",
    "\n",
    "# df_train, df_test = df.random_split([0.9,0.1],random_state=1234)\n",
    "print(f' Всего данных {df.shape[0]},\\n \\\n",
    "Обучающая выборка X {df_train_x.shape},\\n \\\n",
    "Тестовая выборка X {df_test_x.shape}, \\n \\\n",
    "Обучающая выборка Y {df_train_y.shape},\\n \\\n",
    "Тестовая выборка Y {df_test_y.shape}')\n"
   ]
  },
  {
   "cell_type": "code",
<<<<<<< HEAD
   "execution_count": 20,
=======
   "execution_count": 5,
>>>>>>> 02d134c60765e53fc6aa839a5e557bb0a5c5d07d
   "metadata": {},
   "outputs": [],
   "source": [
    "# # read in data\n",
    "# params = {'objective': 'binary:logistic', 'nround': 1000,\n",
    "#           'max_depth': 16, 'eta': 0.01, 'subsample': 0.5,\n",
    "#           'min_child_weight': 1, 'tree_method': 'hist',\n",
    "#           'grow_policy': 'lossguide'}\n",
    "\n",
    "\n",
    "# bst = xgb.train(params, df_train_x, df_train_y)"
   ]
  },
  {
   "cell_type": "code",
<<<<<<< HEAD
   "execution_count": 21,
=======
   "execution_count": 6,
>>>>>>> 02d134c60765e53fc6aa839a5e557bb0a5c5d07d
   "metadata": {},
   "outputs": [
    {
     "name": "stderr",
     "output_type": "stream",
     "text": [
      "/home/alexey/anaconda3/envs/SkillFactory/lib/python3.8/site-packages/xgboost/sklearn.py:1224: UserWarning: The use of label encoder in XGBClassifier is deprecated and will be removed in a future release. To remove this warning, do the following: 1) Pass option use_label_encoder=False when constructing XGBClassifier object; and 2) Encode your labels (y) as integers starting with 0, i.e. 0, 1, 2, ..., [num_class - 1].\n",
      "  warnings.warn(label_encoder_deprecation_msg, UserWarning)\n"
     ]
    },
    {
     "name": "stdout",
     "output_type": "stream",
     "text": [
<<<<<<< HEAD
      "[09:47:10] WARNING: ../src/learner.cc:1115: Starting in XGBoost 1.3.0, the default evaluation metric used with the objective 'multi:softprob' was changed from 'merror' to 'mlogloss'. Explicitly set eval_metric if you'd like to restore the old behavior.\n"
=======
      "[02:43:06] WARNING: ../src/learner.cc:1115: Starting in XGBoost 1.3.0, the default evaluation metric used with the objective 'multi:softprob' was changed from 'merror' to 'mlogloss'. Explicitly set eval_metric if you'd like to restore the old behavior.\n"
>>>>>>> 02d134c60765e53fc6aa839a5e557bb0a5c5d07d
     ]
    },
    {
     "data": {
      "text/plain": [
       "XGBClassifier(base_score=0.5, booster='gbtree', colsample_bylevel=1,\n",
       "              colsample_bynode=1, colsample_bytree=1, enable_categorical=False,\n",
       "              gamma=0, gpu_id=-1, importance_type=None,\n",
       "              interaction_constraints='', learning_rate=0.300000012,\n",
       "              max_delta_step=0, max_depth=6, min_child_weight=1, missing=nan,\n",
       "              monotone_constraints='()', n_estimators=100, n_jobs=4,\n",
       "              num_parallel_tree=1, objective='multi:softprob', predictor='auto',\n",
       "              random_state=0, reg_alpha=0, reg_lambda=1, scale_pos_weight=None,\n",
       "              subsample=1, tree_method='exact', validate_parameters=1,\n",
       "              verbosity=None)"
      ]
     },
<<<<<<< HEAD
     "execution_count": 21,
=======
     "execution_count": 6,
>>>>>>> 02d134c60765e53fc6aa839a5e557bb0a5c5d07d
     "metadata": {},
     "output_type": "execute_result"
    }
   ],
   "source": [
    "# fit model no training data\n",
    "model = XGBClassifier()\n",
    "model.fit(df_train_x, df_train_y)"
   ]
  },
  {
   "cell_type": "code",
<<<<<<< HEAD
   "execution_count": 22,
=======
   "execution_count": 7,
>>>>>>> 02d134c60765e53fc6aa839a5e557bb0a5c5d07d
   "metadata": {},
   "outputs": [
    {
     "name": "stdout",
     "output_type": "stream",
     "text": [
      "XGBClassifier(base_score=0.5, booster='gbtree', colsample_bylevel=1,\n",
      "              colsample_bynode=1, colsample_bytree=1, enable_categorical=False,\n",
      "              gamma=0, gpu_id=-1, importance_type=None,\n",
      "              interaction_constraints='', learning_rate=0.300000012,\n",
      "              max_delta_step=0, max_depth=6, min_child_weight=1, missing=nan,\n",
      "              monotone_constraints='()', n_estimators=100, n_jobs=4,\n",
      "              num_parallel_tree=1, objective='multi:softprob', predictor='auto',\n",
      "              random_state=0, reg_alpha=0, reg_lambda=1, scale_pos_weight=None,\n",
      "              subsample=1, tree_method='exact', validate_parameters=1,\n",
      "              verbosity=None)\n"
     ]
    }
   ],
   "source": [
    "print(model)"
   ]
  },
  {
   "cell_type": "code",
<<<<<<< HEAD
   "execution_count": 23,
=======
   "execution_count": 8,
>>>>>>> 02d134c60765e53fc6aa839a5e557bb0a5c5d07d
   "metadata": {},
   "outputs": [],
   "source": [
    "# make predictions for test data\n",
    "y_pred = model.predict(df_test_x)\n",
    "predictions = [round(value) for value in y_pred]"
   ]
  },
  {
   "cell_type": "code",
<<<<<<< HEAD
   "execution_count": 24,
=======
   "execution_count": 9,
>>>>>>> 02d134c60765e53fc6aa839a5e557bb0a5c5d07d
   "metadata": {},
   "outputs": [
    {
     "name": "stdout",
     "output_type": "stream",
     "text": [
      "Accuracy: 37.11%\n"
     ]
    }
   ],
   "source": [
    "# evaluate predictions\n",
    "accuracy = accuracy_score(df_test_y, predictions)\n",
    "print(\"Accuracy: %.2f%%\" % (accuracy * 100.0))"
   ]
  },
  {
   "cell_type": "code",
<<<<<<< HEAD
   "execution_count": 25,
=======
   "execution_count": 10,
>>>>>>> 02d134c60765e53fc6aa839a5e557bb0a5c5d07d
   "metadata": {},
   "outputs": [
    {
     "name": "stdout",
     "output_type": "stream",
     "text": [
      "Верность предсказания факта просрочки 100.0%\n",
      "Средняя ошибка предсказания 26 дней.\n"
     ]
    },
    {
     "data": {
      "text/html": [
       "<div>\n",
       "<style scoped>\n",
       "    .dataframe tbody tr th:only-of-type {\n",
       "        vertical-align: middle;\n",
       "    }\n",
       "\n",
       "    .dataframe tbody tr th {\n",
       "        vertical-align: top;\n",
       "    }\n",
       "\n",
       "    .dataframe thead th {\n",
       "        text-align: right;\n",
       "    }\n",
       "</style>\n",
       "<table border=\"1\" class=\"dataframe\">\n",
       "  <thead>\n",
       "    <tr style=\"text-align: right;\">\n",
       "      <th></th>\n",
       "      <th>Макс. ПДЗ за 2020 год, дней</th>\n",
       "      <th>Макс. ПДЗ за 2020 год, дней_bool</th>\n",
       "      <th>pred_y</th>\n",
       "      <th>pred_y_bool</th>\n",
       "      <th>Ошибка дней</th>\n",
       "      <th>acc_bool</th>\n",
       "    </tr>\n",
       "    <tr>\n",
       "      <th>Наименование ДП</th>\n",
       "      <th></th>\n",
       "      <th></th>\n",
       "      <th></th>\n",
       "      <th></th>\n",
       "      <th></th>\n",
       "      <th></th>\n",
       "    </tr>\n",
       "  </thead>\n",
       "  <tbody>\n",
       "    <tr>\n",
       "      <th>0</th>\n",
       "      <td>10</td>\n",
       "      <td>True</td>\n",
       "      <td>4</td>\n",
       "      <td>True</td>\n",
       "      <td>6</td>\n",
       "      <td>True</td>\n",
       "    </tr>\n",
       "    <tr>\n",
       "      <th>2</th>\n",
       "      <td>6</td>\n",
       "      <td>True</td>\n",
       "      <td>5</td>\n",
       "      <td>True</td>\n",
       "      <td>1</td>\n",
       "      <td>True</td>\n",
       "    </tr>\n",
       "    <tr>\n",
       "      <th>3</th>\n",
       "      <td>8</td>\n",
       "      <td>True</td>\n",
       "      <td>13</td>\n",
       "      <td>True</td>\n",
       "      <td>5</td>\n",
       "      <td>True</td>\n",
       "    </tr>\n",
       "    <tr>\n",
       "      <th>5</th>\n",
       "      <td>21</td>\n",
       "      <td>True</td>\n",
       "      <td>363</td>\n",
       "      <td>True</td>\n",
       "      <td>342</td>\n",
       "      <td>True</td>\n",
       "    </tr>\n",
       "    <tr>\n",
       "      <th>14</th>\n",
       "      <td>0</td>\n",
       "      <td>False</td>\n",
       "      <td>0</td>\n",
       "      <td>False</td>\n",
       "      <td>0</td>\n",
       "      <td>True</td>\n",
       "    </tr>\n",
       "    <tr>\n",
       "      <th>...</th>\n",
       "      <td>...</td>\n",
       "      <td>...</td>\n",
       "      <td>...</td>\n",
       "      <td>...</td>\n",
       "      <td>...</td>\n",
       "      <td>...</td>\n",
       "    </tr>\n",
       "    <tr>\n",
       "      <th>514</th>\n",
       "      <td>20</td>\n",
       "      <td>True</td>\n",
       "      <td>4</td>\n",
       "      <td>True</td>\n",
       "      <td>16</td>\n",
       "      <td>True</td>\n",
       "    </tr>\n",
       "    <tr>\n",
       "      <th>517</th>\n",
       "      <td>6</td>\n",
       "      <td>True</td>\n",
       "      <td>5</td>\n",
       "      <td>True</td>\n",
       "      <td>1</td>\n",
       "      <td>True</td>\n",
       "    </tr>\n",
       "    <tr>\n",
       "      <th>518</th>\n",
       "      <td>2</td>\n",
       "      <td>True</td>\n",
       "      <td>13</td>\n",
       "      <td>True</td>\n",
       "      <td>11</td>\n",
       "      <td>True</td>\n",
       "    </tr>\n",
       "    <tr>\n",
       "      <th>525</th>\n",
       "      <td>0</td>\n",
       "      <td>False</td>\n",
       "      <td>0</td>\n",
       "      <td>False</td>\n",
       "      <td>0</td>\n",
       "      <td>True</td>\n",
       "    </tr>\n",
       "    <tr>\n",
       "      <th>528</th>\n",
       "      <td>0</td>\n",
       "      <td>False</td>\n",
       "      <td>0</td>\n",
       "      <td>False</td>\n",
       "      <td>0</td>\n",
       "      <td>True</td>\n",
       "    </tr>\n",
       "  </tbody>\n",
       "</table>\n",
       "<p>159 rows × 6 columns</p>\n",
       "</div>"
      ],
      "text/plain": [
       "                 Макс. ПДЗ за 2020 год, дней  \\\n",
       "Наименование ДП                                \n",
       "0                                         10   \n",
       "2                                          6   \n",
       "3                                          8   \n",
       "5                                         21   \n",
       "14                                         0   \n",
       "...                                      ...   \n",
       "514                                       20   \n",
       "517                                        6   \n",
       "518                                        2   \n",
       "525                                        0   \n",
       "528                                        0   \n",
       "\n",
       "                 Макс. ПДЗ за 2020 год, дней_bool  pred_y  pred_y_bool  \\\n",
       "Наименование ДП                                                          \n",
       "0                                            True       4         True   \n",
       "2                                            True       5         True   \n",
       "3                                            True      13         True   \n",
       "5                                            True     363         True   \n",
       "14                                          False       0        False   \n",
       "...                                           ...     ...          ...   \n",
       "514                                          True       4         True   \n",
       "517                                          True       5         True   \n",
       "518                                          True      13         True   \n",
       "525                                         False       0        False   \n",
       "528                                         False       0        False   \n",
       "\n",
       "                 Ошибка дней  acc_bool  \n",
       "Наименование ДП                         \n",
       "0                          6      True  \n",
       "2                          1      True  \n",
       "3                          5      True  \n",
       "5                        342      True  \n",
       "14                         0      True  \n",
       "...                      ...       ...  \n",
       "514                       16      True  \n",
       "517                        1      True  \n",
       "518                       11      True  \n",
       "525                        0      True  \n",
       "528                        0      True  \n",
       "\n",
       "[159 rows x 6 columns]"
      ]
     },
<<<<<<< HEAD
     "execution_count": 25,
=======
     "execution_count": 10,
>>>>>>> 02d134c60765e53fc6aa839a5e557bb0a5c5d07d
     "metadata": {},
     "output_type": "execute_result"
    }
   ],
   "source": [
    "df_rez = pd.DataFrame(df_test_y)\n",
    "df_rez['Макс. ПДЗ за 2020 год, дней_bool'] = df_rez['Макс. ПДЗ за 2020 год, дней'] > 0\n",
    "df_rez['pred_y'] = y_pred\n",
    "df_rez['pred_y_bool'] = df_rez['pred_y'] > 0\n",
    "df_rez['Ошибка дней'] = (df_rez['pred_y'] - df_rez['Макс. ПДЗ за 2020 год, дней']).abs()\n",
    "df_rez['acc_bool'] = df_rez['Макс. ПДЗ за 2020 год, дней_bool'] == df_rez['pred_y_bool']\n",
    "\n",
    "print(f'Верность предсказания факта просрочки {100 / df_rez.shape[0] * df_rez[\"acc_bool\"].sum()}%')\n",
    "print(f'Средняя ошибка предсказания {int(df_rez[\"Ошибка дней\"].mean())} дней.')\n",
    "df_rez"
   ]
  },
  {
   "cell_type": "code",
<<<<<<< HEAD
   "execution_count": 26,
=======
   "execution_count": 11,
>>>>>>> 02d134c60765e53fc6aa839a5e557bb0a5c5d07d
   "metadata": {},
   "outputs": [
    {
     "data": {
      "image/png": "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",
      "text/plain": [
       "<Figure size 1440x504 with 1 Axes>"
      ]
     },
     "metadata": {
      "needs_background": "light"
     },
     "output_type": "display_data"
    }
   ],
   "source": [
    "fig, ax = plt.subplots(figsize=(20,7))\n",
    "sns.histplot(data=df_rez,\n",
    "            x='Ошибка дней',\n",
    "            # log_scale=True, #log от 0 найти нельзя :-(\n",
    "            kde=True,\n",
    "            ax=ax);"
   ]
  },
  {
   "cell_type": "code",
<<<<<<< HEAD
   "execution_count": 27,
=======
   "execution_count": 12,
>>>>>>> 02d134c60765e53fc6aa839a5e557bb0a5c5d07d
   "metadata": {},
   "outputs": [
    {
     "data": {
      "image/png": "iVBORw0KGgoAAAANSUhEUgAABIQAAAGpCAYAAAD82O15AAAAOXRFWHRTb2Z0d2FyZQBNYXRwbG90bGliIHZlcnNpb24zLjUuMCwgaHR0cHM6Ly9tYXRwbG90bGliLm9yZy8/fFQqAAAACXBIWXMAAAsTAAALEwEAmpwYAAEAAElEQVR4nOzdd5xU1f3/8dedsmW298IuvfeOCCqKii22WGPHmsTYYoySaNRoekxi8jX+rGjsYo8lVmLvYkFA2gILC2zfnV7u/f2xywoBtsjsXHb3/Xw8fMzumXtm3rR15jPnc45hWRYiIiIiIiIiItJ3OOwOICIiIiIiIiIiiaWCkIiIiIiIiIhIH6OCkIiIiIiIiIhIH6OCkIiIiIiIiIhIH6OCkIiIiIiIiIhIH+OyOwBAfn6+NXDgQLtjiIiIiIiIiIj0Gp988kmNZVkFu7pvrygIDRw4kI8//tjuGCIiIiIiIiIivYZhGOt2d59axkRERERERERE+hgVhERERERERERE+hgVhERERERERERE+pi9Yg8hERERERERke4QiUSorKwkGAzaHUWk26SkpFBWVobb7e70HBWEREREREREpNeqrKwkIyODgQMHYhiG3XFE4s6yLGpra6msrGTQoEGdntepljHDMCoMw/jSMIwlhmF83DqWaxjGK4ZhrGy9zdnu+msMw1hlGMYKwzDmdflXIyIiIiIiIhIHwWCQvLw8FYOk1zIMg7y8vC6vguvKHkIHWpY10bKsqa3fXw28ZlnWMOC11u8xDGM0cAowBjgMuM0wDGeXUomIiIiIiIjEiYpB0tt9l7/je7Kp9DHAfa1f3wccu934I5ZlhSzLWgusAqbvwfOIiIiIiIiIiEgcdbYgZAEvG4bxiWEYF7SOFVmWVQXQelvYOt4P2LDd3MrWsR0YhnGBYRgfG4bxcXV19XdLLyIiIiIiIrKXMwyDM844o+37aDRKQUEBRx11VEKef+HChRQUFDBx4sS2/9LT0/n444/brjnqqKMYOnQoEydOZNCgQZx99tkALF++nBkzZjB9+nQmTpzIueeei9/vj1s2v9/PkUceyciRIxkzZgxXX311232hUIiTTz6ZoUOHMmPGDCoqKgBYsmQJM2fOZMyYMYwfP55HH320bc7atWuZMWMGw4YN4+STTyYcDsctq50efvhhZsyYwezZs/n666/j8pidLQjNsixrMnA48GPDMPZv59pdrVOydhqwrDssy5pqWdbUgoKCTsYQERERERER6VnS0tL46quvCAQCALzyyiv067fTuoludfLJJ7NkyZK2/6ZOnbrTNXfffTdLlizhj3/8Y9tYSUkJ//nPf/jwww9ZsmQJmZmZ/PWvf41rtiuvvJLly5fz2Wef8c477/Diiy+25cnJyWHVqlVcfvnl/PznPwfA4/Fw//33s3TpUl566SUuu+wyGhoaAPj5z3/O5ZdfzsqVK8nJyeHuu++Oa1a7nHrqqXzwwQe8/fbbjB49Oi6P2amCkGVZm1pvtwJP0dICtsUwjBKA1tutrZdXAuXbTS8DNsUlrYiIiIiIiEgPdPjhh/P8888DLas9Tj311Lb7PvzwQ/bdd18mTZrEvvvuy4oVK4CWlT0XX3wxAI888gjz5s0jEokQi8W48sorGTduHOPHj+fvf//7HueLRCIkJyfvNJ6VlUV2djYApmkSDAbbvt/eb37zG6ZMmcKoUaM477zzME0Tr9fL3LlzmTx5MuPGjeOZZ57ZaZ7H4+HAAw8EICkpicmTJ1NZWQnAM888w1lnnQXACSecwGuvvYZlWQwfPpxhw4YBUFpaSmFhIdXV1ViWxeuvv84JJ5wAwFlnncXTTz+903P+74qpW2+9FYBbbrmFsWPHMnbs2B2KXjU1NSQlJTFx4kSGDh3a6ZVd6enpTJw4kdGjRzN27FgAKioq2r4GWLRoUdtqrOrqar7//e8zbdo0pk2bxjvvvAPA9ddfz5/+9CcAXnvtNQzD2GF113fV4bHzhmGkAQ7Lsppbvz4UuBF4FjgL+F3r7bY/2WeBhwzDuAUoBYYBH+5xUhEREREREZE9cMNzS/l6U1NcH3N0aSa/+t6YDq875ZRTuPHGGznqqKP44osvmD9/Pm+99RYAI0eO5M0338TlcvHqq6+yYMECnnjiiba5r732Gn/72994+eWXcbvd/POf/2Tt2rV89tlnuFwu6urq9vjX0dzcTEZGxi7vCwQCzJw5kw0bNjBixIi2Asr2FixYwIIFCwiFQowcOZKVK1cyZMgQnnrqKTIzM6mpqWGfffbh6KOP3u0GyA0NDTz33HNceumlAGzcuJHy8pb1Ji6Xi6ysLGpra8nPz2+b8+GHHxIOhxkyZAi1tbVkZ2fjcrWUOsrKyti4ceMun+vkk0/mH//4R9v3n3zyCffeey8ffPABlmUxY8YMDjjgACZNmkQsFqOsrIwlS5awePHituJMRyzLYsmSJVRUVHSqiHTppZdy+eWXM3v2bNavX8+8efNYtmzZDtfccMMNDB06tFPP35EOC0JAEfBU6x+YC3jIsqyXDMP4CHjMMIxzgfXAiQCWZS01DOMx4GsgCvzYsqxYXNKKiIiIiIiI9EDjx4+noqKChx9+mCOOOGKH+xobGznrrLNYuXIlhmEQiUTa7vvyyy+5//77ue+++9oKNq+++ioXXXRRW+EjNzd3j/Nt2bJlt4+TmprKkiVLiEaj/OQnP+Hmm2/m+uuv3+m6iy66iIcffpjjjz+eYcOGEYvFWLBgAW+++SYOh4ONGzeyZcsWiouLd5objUY59dRTueSSSxg8eDDQUlD5X9sXk6qqqjjjjDO47777cDgcHV7fnrfffpvjjjuOtLQ0AI4//njeeustJk2ahNfr7fLvcTQaxePx7PK+1atXM3HiRKDlz/6AAw4AWv5ct98fqKmpiebm5rbvn3jiCaZNm8Ynn3zSpSy702FByLKsNcCEXYzXAnN3M+dm4OY9TiciIiIiIiISJ51ZydOdjj76aK688koWL15MbW1t2/i1117LgQceyFNPPUVFRQVz5sxpu2/ZsmU89NBDLFiwgMMPP5yUlBQsy/pOx4zvTiAQwOfzUVJS0u51LpeLU045hT/84Q+7vP/222/nlltu4fDDD6eiooI333yT6upqPvnkE9xuNwMHDiQYDO5y7gUXXMCwYcO47LLL2sbKysrYsGEDZWVlRKNRGhsb2wozTU1NHHnkkdx0003ss88+AOTn59PQ0EA0GsXlclFZWUlpaWmnfg92VUzaZu3atZSVlXXqcbapqKjY7T5RQ4YMYcmSJUBLy9i///1voKUl77333iM1NXWnObFYjD/84Q88//zzbS1xe2pPjp0XEREREZE+pMYbsjuCSI82f/58rrvuOsaNG7fDeGNjY1vxYOHChTvcd9JJJ3HUUUdxwgkncOONNwJw6KGHcvvttxONRgH2uGXsySef3OUm0wArV65k/fr1QEvR5Nlnn2X69Ok7XbdtU2eXy4Xf72fdunU0NjZSWFiI2+3mjTfeYN26dbt8jl/+8pc0NjbutFn10UcfzX333Qe0FE4OOuggDMMgHA5z3HHHceaZZ3LiiSe2XW8YBgceeCCLFi0C4L777uOYY47p1O/B/vvvz9NPP43f78fn8/HUU0+x3377AfD444/vtuVr5MiRuxxvb87uHHrooTu0sW0rGgE88MADHHnkkTu0y+0pFYRERERERKRDX1Y2Mu3mV1lT7bU7ikiPVVZW1rY/zvauuuoqrrnmGmbNmkUstusdV6655hpefPFFvvjiC8477zz69+/P+PHjmTBhAg899BAA1113Hc8++2yXMj377LOcc845fPrpp22bLP/sZz/j2Wef5fbbb8fr9XLCCScwceJEJk2aRDQa5ZprrtnpcS699FImTJjA2LFjmTp1Kvvvvz+nnXYaH3/8MVOnTuXBBx/cZfGksrKSm2++ma+//prJkyczceJE7rrrLgDOPfdcamtrGTp0KLfccgu/+93vAHjsscd48803WbhwYVvmbcWT3//+99xyyy0MHTqU2tpazj333E79PkyePJmzzz6b6dOnM2PGDM477zwmTZrEbbfdxh133MGf/vQnJk6cyHnnncdbb73Fs88+S01NzS5XFj377LNce+21PPTQQ0ycOJEjjjiC1atXc/vtt7eb4dZbb+Xjjz9m/PjxjB49eofrt2zZwuWXX96pX0tnGe0ti0qUqVOnWvHYIVtERERERLrH68u3MH/hxzzxw5lMGbDn+5WIJMqyZcsYNWqU3TH2WgsXLqSiomKnPYF2N97XXH/99cyZM2eHNr5///vf1NTUkJ+fz5o1a7jkkkt2mLNtlde208MAvvrqKxYtWtStv5+7+rtuGMYnlmXtcvlXZzaVFhERERGRPi5mttya9n+eLCKSMCeccAKFhYU7jE2ePJlQKMSgQYN2OWfbJtHbKy8vj9veP/GigpCIiIiIiHTIbO0s2AsaDEQkjs4444xdtj3tbryvGTt27E5jHW1UvatCUVZWFllZWXHLFQ8qCImIiIiISIdMc1tBSG8QRXoTp9PZpXHpPbSptIiIiIiIdCjWWghSy5iISO+ggpCIiIiIiHQotm2FEKoIiYj0BioIiYiIiIhIh7SHkIhI76KCkIiIiIiIdKjKv47k4ifYGthodxQREYkDFYRERERERKRD1aENJOV8RE1ws91RRPq0xYsXc9RRR9kdQ3oBFYRERERERKRDhtXy1iHFmW5zEpHeKRaL2R1B+hgdOy8iIiIiIh1KcqRjhvN07Lz0fPceuevxc55vuX3xatj85c73H/ZbKBkPnz0ISx7aeV47KioqOOyww5gxYwafffYZw4cP5/7772f06NHMnz+fl19+mYsvvpjc3Fx+9atfEQqFGDJkCPfeey/p6em89NJLXHbZZeTn5zN58uTdPo9pmowYMYJ3332XgoICTNNk+PDhvP/+++Tn53eYU/oWrRASEREREZEO+aONOJJq8Ue9dkcR6ZFWrFjBBRdcwBdffEFmZia33XYbACkpKbz99tscfPDB3HTTTbz66qt8+umnTJ06lVtuuYVgMMj555/Pc889x1tvvcXmzbtv23Q4HJx++uk8+OCDALz66qtMmDBBxSDZJa0QEhERERGRDoVjEQAy3bk2JxHZQx2t6Dn8d+3fP+m0lv+6qLy8nFmzZgFw+umnc+uttwJw8sknA/D+++/z9ddft10TDoeZOXMmy5cvZ9CgQQwbNqxt7h133LHb55k/fz7HHHMMl112Gffccw/nnHNOl7NK36CCkIiIiIiIdCjNmYcZziMUC9kdRaRHMgxjl9+npaUBYFkWhxxyCA8//PAO1y1ZsmSnue0pLy+nqKiI119/nQ8++KBttZDI/1LLmIiIiIiIdMgfa8KRVIsv2mx3FJEeaf369bz33nsAPPzww8yePXuH+/fZZx/eeecdVq1aBYDf7+ebb75h5MiRrF27ltWrV7fN7ch5553H6aefzkknnYTT6Yzzr0R6CxWERERERESkQ4FYy95BecklNicR6ZlGjRrFfffdx/jx46mrq+OHP/zhDvcXFBSwcOFCTj31VMaPH88+++zD8uXLSUlJ4Y477uDII49k9uzZDBgwoMPnOvroo/F6vWoXk3apZUxERERERDqU4SzGDOfhi2iFkMh34XA4uP3223cYq6io2OH7gw46iI8++minuYcddhjLly/v9HN9/vnnTJgwgZEjR36nrNI3qCAkIiIiIiIdCsa8rS1jjXZHEZF2/O53v+Of//yn9g6SDqkgJCIiIiIiHWqO1gJQlDrI5iQiPc/AgQP56quv4vqY9957L3/72992GJs1axb/93//x9VXXx3X55LeSQUhERERERHpUJarP2Y4j8Zwrd1RRAQ455xztEeQ7BFtKi0iIiIiIh0KRVtaxpojDXZHERGROFBBSEREREREOtQQ3QRAuWeUzUlERCQeVBASEREREZEO5bqHYobzqA1ttDuKiIjEgQpCIiIiIiLSoVDMhyOpFq9axkS6rLKykmOOOYZhw4YxZMgQLr30UsLhcFweOxaL8Yc//IF9992XyZMnc+edd8blcePtzDPPZOrUqZxxxhl2R5FW2lRaREREREQ6VBepAGBQ+gR7g4j0MJZlcfzxx/PDH/6QZ555hlgsxgUXXMAvfvEL/vjHP+7x419//fU4HA5ee+01UlNT45C4e9x///12R5D/oRVCIiIiIiLSoXzXaMxwHlX+tXZHEelRXn/9dVJSUtpOBHM6nfzlL3/hnnvuwe/3s3DhQi6++GIAPv74Y+bMmQNANBolPz8fgMWLF3PUUUcBUFdXR1ZWFn/6058AePDBB3nrrbeYPn06c+fOZf369QCcffbZLFq0CIAf/vCHXH/99QA899xzzJgxg0mTJnHwwQezZcuWXeZetGgRubm5TJw4keLi4rbnu/7669u+BjjqqKNYvHgxAC+//DIzZ85k8uTJnHjiiXi9XgAGDhxITU0NAKeffjpjx47ds99UiQsVhEREREREpEOhmL/llLFovd1RRPbIOS+dw9Orno7r1+1ZunQpU6ZM2WEsMzOT/v37s2rVqi7n/+1vf8uAAQPavl+7di1nnXUWX375JaeddhqXXHLJDtffeOONxGKxtoLQ7Nmzef/99/nss8845ZRT+MMf/rDL54nFYhx77LEsWbKEiy66qMNcNTU13HTTTbz66qt8+umnTJ06lVtuuWWHa7788ku++uqrLv6KpbuoZUxERERERDpUG12BZRkMy5hhdxSRHsWyLAzD6PR4ezZu3Mj777/Pcccd1zbmcDj4wQ9+AMAZZ5zBVVdd1XbfwoULeeWVV9iwYUPbWGVlJSeffDJVVVWEw2EGDRq0y+fyer3k5ubu8r6//OUvPPDAA0BLQerKK6/k/fff5+uvv2bWrFkAhMNhZs6cucO8X/7yl9xwww384he/6NKvW7qHCkIiIiIiItKhAtcElnvfZKN/BVBudxyR7+zew+6N+9ftGTNmDE888cQOY01NTWzYsIEhQ4bwySefdDr7DTfcwLXXXsu7777bNpaRkbHDNdsXmerq6vjLX/7ClVde2baHz09+8hOuuOIKjj76aBYvXty2cuh/rV27lrKysl3ed/nll3PllVcCtLWyWZbFIYccwsMPP7zLOe+++y7p6elMmKB9yPYWahkTEREREZEOhWKBlpaxSK3dUUR6lLlz5+L3+9sKMrFYjJ/+9KecffbZeDyeTj/O6tWrqaio4NBDD91hfNq0aTzyyCNAy35Cs2fPbrvviiuu4Ec/+hGbNm3i5ZdfBqCxsZF+/foBcN999+3yucLhMM899xxHHnlkp/Pts88+vPPOO21tcH6/n2+++abt/uuvv54bb7yx048n3U8rhEREREREpEPVsS+xTDfDMmZ2fLGItDEMg6eeeoof/ehH/PrXv8Y0TY444gh+85vftF3z5JNPsmTJErxeL2vXrt2hqLPN8uXLuffenVcl/eMf/+Dcc8/lj3/8I4WFhdxzzz07XfP//t//4+ijj+ajjz7i+uuv58QTT6Rfv37ss88+rF2780bxp59+OkuXLuXEE08EYPPmzTidzrbWtF0pKChg4cKFnHrqqYRCIQBuuukmhg8fDsCMGTMYMmQIFRUV7f+GScIYlmXZnYGpU6daH3/8sd0xRERERERkN855+HE+bL6Ns4dfw8/mHNrxBJG9xLJlyxg1apTdMXqUOXPmtJ0cts2VV17JxRdfzMCBA23JJB3b1d91wzA+sSxr6q6uV8uYiIiIiIh0KGIGcSTX0BiptjuKiHSz6667bqex008/nYKCAhvSSHdRy5iIiIiIiHSo2vwEK+phRMbOrSwi0rscdNBBO41NnDgx8UGkW2mFkIiIiIiIdKjAmIkZS2ODf6ndUUS6bG/YKkWkO32Xv+MqCImIiIiISIciZghncjXNkRq7o4h0SUpKCrW1tSoKSa9lWRa1tbWkpKR0aZ5axkREREREpEPV1vuYkUxGpO9ndxSRLikrK6OyspLqau1/Jb1XSkoKZWVlXZqjgpCIiIiIiHQo39qfzeYK1vu/AgbZHUek09xuN4MG6e+syP9Sy5iIiIiIiHQoaoZxJm+lKapVFiIivYEKQiIiIiIi0qEa403McB4j0+fYHUVEROJABSEREREREelQnnkQlulig/9Lu6OIiEgcqCAkIiIiIiIdipphnClbaIpusTuKiIjEgQpCIiIiIiLSoVrn68SCRYxIn2t3FBERiQMVhEREREREpEPZkXmAgw3+z+2OIiIicaCCkIiIiIiIdChmRnCmVNGoljERkV5BBSEREREREelQfdKLxAJljEo/xO4oIiISByoIiYiIiIhIh7KCR4Fhst7/md1RREQkDlQQEhERERGRDsWsKM6UTTplTESkl1BBSEREREREOtSY8hxR3yBGps2zO4qIiMSBCkIiIiIiItKhdP8xGI4w6wOf2h1FRETiQAUhERERERHpkGnGcKZupDFWZXcUERGJAxWERERERESkQ83pTxL1DmOU53C7o4iISByoICQiIiIiIh1Kbfo+hjPAhsAndkcREZE4UEFIREREREQ6ZFomztRKtYyJiPQSKgiJiIiIiEiHglmPEWkezUjPkXZHERGROFBBSEREREREOuSqOxmHq5kNwY/tjiIiInGggpCIiIiIiHSopWVsA03RTXZHERGROFBBSEREREREOhTNe5BI4wRGer5ndxQREYkDFYRERERERKRjW3+A4W5kffBDu5OIiEgcdLogZBiG0zCMzwzD+Hfr97mGYbxiGMbK1tuc7a69xjCMVYZhrDAMY153BBcRERERkcSxMHF5KmiKqWVMRKQ36MoKoUuBZdt9fzXwmmVZw4DXWr/HMIzRwCnAGOAw4DbDMJzxiSsiIiIiIrYofIBIwxRGphxjdxIREYmDThWEDMMoA44E7tpu+Bjgvtav7wOO3W78EcuyQpZlrQVWAdPjklZERERERGwR2XwahruBDaH37Y4iIiJx0NkVQn8FrgLM7caKLMuqAmi9LWwd7wds2O66ytYxERERERHpoSwrhittNc1qGRMR6RU6LAgZhnEUsNWyrE86+ZjGLsasXTzuBYZhfGwYxsfV1dWdfGgREREREbFDUum/CNfvw/CUY+2OIiIicdCZFUKzgKMNw6gAHgEOMgzjAWCLYRglAK23W1uvrwTKt5tfBuz0MYJlWXdYljXVsqypBQUFe/BLEBERERGR7mRZFoHKM3C4a6kMq2VMRKQ36LAgZFnWNZZllVmWNZCWzaJftyzrdOBZ4KzWy84Cnmn9+lngFMMwkg3DGAQMA3Q2pYiIiIhID2VaACbOtFU0xSrtjiMiInHg2oO5vwMeMwzjXGA9cCKAZVlLDcN4DPgaiAI/tiwrtsdJRURERETEFjHTIrX/QiJ1sxg+6Pt2xxERkTjoUkHIsqzFwOLWr2uBubu57mbg5j3MJiIiIiIiewHTsgisP4ekvP9SGX4XGGd3JBER2UOdPWVMRERERET6qJhpgdHSMtasljERkV5BBSEREREREWlXzLJI7X834br9GJ50ot1xREQkDlQQEhERERGRdpmmRWD9eTiSt1AZedvuOCIiEgcqCImIiIiISLtipgVYuDyraTbVMiYi0huoICQiIiIiIu0Kx6J4BtxJuPYAhrpPsjuOiIjEgQpCIiIiIiLSAQP/ugtwpFSxKaqWMRGR3kAFIRERERERaVfUNAELp2cNXnOD3XFERCQOVBASEREREZF2+cP+tpaxIa5T7I4jIiJxoIKQiIiIiIi0y+1Ixr/uApwpm9gUfcvuOCIiEgcuuwOIiIiIiMjeLWq1nDLm9Kyh2Sq0O46IiMSBVgiJiIiIiEi7mkJNrS1jBzLEeZrdcUREJA5UEBIRERERkXalutJbW8Y2UBX7r91xREQkDtQyJiIiIiIi7YrGYrSdMmbl2h1HRETiQCuERERERESkXXXBOjwD7iRUczCDjdPtjiMiInGggpCIiIiIiLQrw52Nf935OD0VVJmL7Y4jIiJxoJYxERERERFpV9Q0AXClVuAlw+Y0IiISD1ohJCIiIiIi7aoObGlrGRvEGXbHERGROFBBSERERERE2pWTXNjaMraWLdYbdscREZE4UMuYiIiIiIi0K2rGAHCmVuAj2eY0IiISD1ohJCIiIiIi7drsq8Qz4E7C1YfS3zrL7jgiIhIHKgglWqABrs+Cj+62O4mIiIiISKfkpZS2tIylrWYrr9sdR0RE4kAFoUTz1bTcvvt3e3OISPdpWA+fLARfrd1JRERE4iIa29Yytg4fFfaGERGRuFBBKNEyilpu84fbm0NEus9bf4bnLoVlz9idREREJC42+dfhGXAnkZp59DfPsTuOiIjEgQpCiZacAWmFkFlidxIRERERkU4pTO6Pf935uNJXstV41e44IiISBzplLNFCzeDbCt6tdicREREREemUqGUCLS1jfiI2pxERkXjQCqFEa6xsuR1/kr05REREREQ6qdK3Es+AOzHqj6Qseq7dcUREJA5UEEo0M9py69DiLBERERHpGYpThuBfdz4OzwqqHa/YHUdEROJABaFE21YQevR0e3OISPfJHtBym5JtawwREZF4iZotLWNWyjoCjgp7w4iISFxomUqimTG7E4hId9vvipb/REREeon1vmV4BtxJavXllKaPtDuOiIjEgVYIJdq2FUKg4pBIbxWLQNgHrZ+mioiI9HSlKSPxr7uAWOpSap1qGRMR6Q1UEEq07VtIgo22xRCRbvTytfCbUvjiUbuTiIiIxEXUigEWZtI6Ao41dscREZE4UEEo0QpHwrG3t3wdqLc3i4h0j2hgx1sREZEersL7JZ4Bd5LhP57i0AV2xxERkThQQSjRomEwjJavgw22RhERERER6Yyy1LH4151PJPkL6lwv2x1HRETiQJtKJ9qaN+CpC+H7d0PRWLvTiIiIiIh0KNq692XUVUEMt81pREQkHlQQSjQzSo3DQW7eEByuZLvTiEh3sCy7E4iIiMTVWt9neAbcSb7vRlxmgd1xREQkDtQylmC1oQYOHFDGHS/+EFa9anccEekG78aaOKyslFXBWrujiIiIxEV5ykT8684n4P6Uevd/7I4jIiJxoIJQgrksi+ObvUypXgObltgdR0S6wdJBM9jodrG6aLjdUUREROIiZrW0jAWdFYScq21OIyIi8aCWsQTLciRRHI1S73BoU2mRXuqQQYcTMCOML5ludxQREZG4WOP7GM+AOykL/wGfP93uOCIiEgdaIZRgleFGbsvJ5vd5ORBosDuOiHSD9R/exguf/pPwurfsjiIiIhIX5SlT8K87nybXRzQmv2h3HBERiQMVhBIsZcxxHD/seP4STodAvd1xRKQbfFP/DRvdLpZVfWx3FBERkbiItZ4yFjTWEXKpZUxEpDdQQSjB8lPzmVgwkU9TkiDYaHccEekG85IKOb+hkbGpxXZHERERiYvV/g/wDLiTwcYZ5Db/yO44IiISByoIJdjKD2/junev48+OJph9md1xRKQbrIh5eSEtDadhdxIREZH4GJAyA/+686k13qU5RS1jIiK9gTaVTrC0kJfvN3s55fhHoHSG3XFEpBusMwNsdLtY4q+ixO4wIiIicRAzYxgG+FhHyFVndxwREYkDrRBKsFKnh3leH08ufQDr44V2xxGRbnB4UhHnNzQyJrXI7igiIiJxsTrwNqn972SY82yym35sdxwREYkDFYQS7Av/Ji4oKeLhTYsJPH8ZxCJ2RxKROFsyaAYv5BbhGbCf3VFERETion/yLMKVF7LVehtf6gt2xxERkThQQSjBMnByfLOXZwachMeytLG0SC9UZZhsNIN8FNGSehER6R1iZgynAV6rgrB7ld1xREQkDrSHUIINcqVzVmMTj/jWcKbLSVmgAdLy7Y4lInF0pJmKzx9jpOGxO4qIiEhcrAn+F2e/RYxyLSTU0GR3HBERiQOtEEqwD/pP5JiyUh6u+ZitThcE6u2OJCJx9v7Kp3nBbZG3+Su7o4iIiMRFf/cBUHURm8z/4vM8b3ccERGJAxWEEiw7eyDHDzueF2f+jsmhEAQb7I4kInFWZ0bY6HbxdvNau6OIiIjERcyK4TQcNFvriCapZUxEpDdQy1iCjdi6ip83hbk19h5zxh7JPumFdkcSkTj7XnIx3qpPGDFI7aAiItI7rA29RqzoBcYk3UdzZa3dcUREJA60QijBFq94gsM2PcuDa55h9ZgjoWSC3ZFEJM7eCFfzQloapa40u6OIiIjERX/3QSRV/5CNscUE0/9tdxwREYkDFYQSLB8XB4aivH7i65xWNBOaN9sdSUTizG/F2Oh28VrzarujiIiIxEXUjOIwDJrNdUSTV9odR0RE4kAFoQQb60znhuYoT6x8gkX3z4V3brU7kojE2ffGnMn5DY0MK5xodxQREZG4qAi/QjDvLsYmn01K9aV2xxERkThQQSjBXghuZG5+Kk+vepovUtO0qbRIL/SSw88LZaMZOuEMu6OIiIjERZnzUNIbzmdj7L+EM9QyJiLSG6gglGBFuJkdgUePepQbzSwINNgdSUTiLNq0iY3ejbzwzRN2RxEREYmLmBXFYThojK0jppYxEZFeQaeMJdiUSfOZ0ljJs5X/ZW0qXBqotzuSiMTZsZsraGxoZGjl5zDyJLvjiIiI7LH10RfxZn3GAam3U7VGe2CKiPQGWiGUYE/E6pm76j4+qPqAdxwRtYyJ9EJPhTbxcpqHUUk5dkcRERGJi1LH4WQ1n0dl5E0iWc/ZHUdEROJAK4QSrDToZb+sIfx8n1+SGnDC5i/tjiQicWZgsM7t5qmmlRxndxgREZE4iJlRnIZBc2wDZvI3dscREZE4UEEowWZ+/TIz69by0YSveNZjcc0pD+KxO5SIxNXxyaU0Vn3M8OIsu6OIiIjERaX1AvVpK9jf8w/WrjzI7jgiIhIHahlLsAciW5nr8VLZXMm7m97FG/HaHUlE4uzh0Abe8KQyRi1jIiLSSxRbR1IQnM+G8NvEsp+xO46IiMSBCkIJVo6T/cwkjhl6DK8NP5/CW6dC8xa7Y4lIHKVklLIqKYnHAuvsjiIiIhIXphXFgUGTuQFSdMqYiEhvoJaxBDvASuEAM4eNviru3PACp5p+RgQbIKPI7mgiEicnHPxnGr68i5Hlc+yOIiIiEhcbeRZ/6kZmef7G8q/3tzuOiIjEQYcrhAzDSDEM40PDMD43DGOpYRg3tI7nGobximEYK1tvc7abc41hGKsMw1hhGMa87vwF9DR3mrUc5qomFA3xZtNqtjqdEGiwO5aIxNE9X9zBOxvfYnzBeLujiIiIxEVR7GhKwuewIfwO5KplTESkN+hMy1gIOMiyrAnAROAwwzD2Aa4GXrMsaxjwWuv3GIYxGjgFGAMcBtxmGIazG7L3SAPzRzM7fSCDswfz+v63sl8gCIF6u2OJSBxlr3ydr+uW8+DzF9gdRUREJC5i21rGYhvAo1PGRER6gw5bxizLsoBtOx+7W/+zgGOAOa3j9wGLgZ+3jj9iWVYIWGsYxipgOvBePIP3VIcc9f84BDAtk1+vfIhZnlQODjbYHUtE4ujEpGLqtixhdJ7b7igiIiJxscX5NFFXI8el/4nPv5xpdxwREYmDTm0qbRiG0zCMJcBW4BXLsj4AiizLqgJovS1svbwfsGG76ZWtY//7mBcYhvGxYRgfV1dX78EvoWe59cM/cNzTx+AwHLxf+xUVbrdaxkR6mf8LreOjlBQm6ZQxERHpJfLCx1EWO5P1oXdx5KtlTESkN+jUptKWZcWAiYZhZANPGYYxtp3LjV09xC4e8w7gDoCpU6fudH9vNeTzJwikpADw4vEvQqAOUrLtDSUicVWEmyUpySz0ruRsu8OIiIjEgUkUh+GgKboRw7PC7jgiIhIHXTplzLKsBsMwFtOyN9AWwzBKLMuqMgyjhJbVQ9CyIqh8u2llwKZ4hO0Njow4OTKjDIA7v7obp8PJ/LHzbU4lIvF0kiuf2q1fMDYny+4oIiIicVHjfgKHM8bxGb/loyVT7Y4jIiJx0JlTxgpaVwZhGEYqcDCwHHgWOKv1srOAbWtHnwVOMQwj2TCMQcAw4MM45+6xfu/2c1p4FQDL6pax/KuH4e2/2htKROLqlugmliQnM9WtljEREekdsoPfZyCnsT70Hs6Cp+2OIyIicdCZPYRKgDcMw/gC+IiWPYT+DfwOOMQwjJXAIa3fY1nWUuAx4GvgJeDHrS1nAgyPwjRXy6qBW+bcwh8aArBe+22L9CZlE8/io9QU7iwosTuKiIhIXMQsE8Nw0BjdiDNNLWMiIr1BZ04Z+wKYtIvxWmDububcDNy8x+l6oeNCJqQMAuCFNS/wYUqM67WptEivcurIU6kN1DKhZB+7o4iIiMRFfcpjhEjh+Iwbefvjnd4aiIhID9SpU8Ykfn6V7uK84HIANno3ssQRxQrU2ZxKROLpN48fw9cf3Mr0rWvsjiIiIhIXGb4TGew8hXXBD0kqesruOCIiEgcqCCXY6Nk/Z/LokwE4f/z5PJ29D0aw0eZUIhJPg8Ih3vGkctvyB+2OIiIiEhemFcNhGDTFNuJKX4Fl9ZlDgkVEeq0unTIme+7kkSe3ff159ec8FFjFz0JN5NuYSUTi6zRHDrW1y5lUlml3FBERkbhoTn+ECjOf4zKu440PxmFa4DTsTiUiIntCK4QS7Kp7p3Px40cA0Bxu5itHlKaj/gz6lEWk17guupGVbjczXdl2RxEREYmL1KZTGOY6ifXBD0kufkIrhEREegGtEEqwcU21hDIHADC732yeP/EVmxOJSLwNIYk/pXn4W2Atl9odRkREJA5MK4bT4aAxuglX+gpM1YNERHo8FYQS7IxmH2SMBKAmUMOf3rmeE6w0pu5zOWQU25xOROLhLCMbb90qJvQbbXcUERGRuAhkPcjqyECOLbyGV98fjYUqQiIiPZ1axhLsJ3kZXNXwSdv3n9d+Re1n90GdTiMS6S2uLi5hdekYZk+92O4oIiIiceGuO40Ryd9nXeAjkoufIGaadkcS6bSVW5q55skviWlpm8gOVBBKsAnBIGOTW7aQzk/N58XZtzDPH4BAg73BRCRuhhVP5pVAJX+q+cDuKCIiInHRcsqYg6bo5paWMb2xlh7k7VU1PPzhemq9IbujiOxV1DKWSKbJeY1NkDWmbeiGbx5ibHoa3w/U2xhMROLp3KBF2JHPGGeG3VFERETiIpr/AKvCYzim4Ke89O5wHA59riw9x7b6ZSASszeIyF5GP8kTyTA4d8ph/IratqFVvo1UuVwQbLAvl4jE1U+X3sG6pnXsv/o9u6OIiIjEx9bTGJl6LOsCn5Bc/AThWNTuRCKdtm1FmwpCIjvSCqFEMgymls8hNyW3behfRzwIN+aqZUykFxluuflHehpZofVcY3cYERGROLAsE6fDQVOkpWUsaqogJD2HabUWhMIqCIlsTwWhRIoE+eGmtTBqbNvQPV8vpGHcwVxRPsPGYCISTxea6RgN6xlWNNDuKCIiiWXGwOG0O4V0h6L7WBmcwVGll/Dvd4aQ5Ey2O5FIp8UsrRAS2RW1jCVSNMAPNjzN7774Z9vQJu8m1ueWwbCDbQwmIvH0E0ctlW4XBzoy7Y4iIpI4Xz3Zsuq5ZpXdSaQbRKrOYpTne6wLfEZy8ROEImG7I4l0Wms9iKAKQiI70AqhRDJjTA8GGZBa2Db0y31+CdXfQNUXUDLexnAiEi8jLSe3Z6TjjGzgV3aHERFJlM1ftNx6t0D+UHuzSNxZVhSn4aC59ZSxqKWWMek5th03HwibNicR2btohVAimVEuq2/kuNxvCz+vrHuFy144A+v5K2wMJiLx9OMpV3BZwMHswil2RxERSZy8YS23WWX25pBukdRvId8E/sPErCPwrVpAsjPV7kginWaqZUxkl1QQSiQzynH9ivnb1nfbhhpDjWwwLEI6dl6k17ho6xtUTTyRufP+YncUEZHE8W1tuY1F7M0hcWdZFoEN5zAm/XDWBz4nufgJApGA3bFEOk2njInsmgpCiWRGmRkIMjS1qG3ohOEn8ETOvqQEG20MJiLxNMqVwaMrHuWXi39mdxQRkcSpeLvltm6NvTkk7kwLMGKtp4xtwZW+grBOGZMexNy2h5BOGRPZgfYQSqTUHK6afg0MObBtaHndcm73L+OySDMDLQsMw8aAIhIPl654jyx/PaXGErujiIgkTmZpy63TbW8OibuYaZHa/x5W+I7h0NL5LPpvGWnuNLtjiXSaThkT2TWtEEqklCwO2/g0/2/T4rahSCzCOjOADxPCPvuyiUjczE/yssXl5FA8dkfpk3yhKFc+/jkNfp2AI5JQo49tuXVrb5nexrQsAuvOY0zGIWzwf0Fy8RP49bpVehDtISSyayoIJVKggdmeMgYn5bQNjSsYx1MTrmRMyTSI6c2LSG8wJubggaxMrrK22B2lT1pW1cSiTyr5qEJ7s4nYwtIpPr1NzLRaWsYMB02Rra0tY9orSnqOtj2E1DImsgMVhBKpYR2//OBxDjG+XWLri/i4Yuti3pj7M/Dk2hhOROLlp2E3P6ut5yBLn5LbYdvRst6Q3qyIJNR//9Bya+oNV28TMWN4BtzFN/7FTMw5BN+qBWQkZdkdS6TTtu0hpIKQyI5UEEqgWCzMgeX9+NeWb08ZS3IksaZhDU2hRr2AEuklTk8NUOt0cJgKQrbYtk+AN6SfqSIJta1VLEl7y/Q6poG/4gLGZMxlvf9LkoufoDnstTuVSKfFdMqYyC6pIJRAVizKHL+fAamFbWNup5un97mJYx46B1a8aGM6EYmXcZ5+3JOdxRWuJruj9Emt9SC8QZ2AI5JQhaMgORP6TbY7icRZxIqBYeJ0GDRFq3GlryAUDdodS6TTLO0hJLJLOmUsgVxY/Kq2HvIn7DB+04oHKM1MY35A+12I9AY/P+VFypY9SHZytt1R+qRtnwL6QioIiSRULKwTxnqpQCSEZ8BdrPBGOaDoJB5YVUB2cp7dsUQ6re3YeRWERHagFUIJ5A03c2B5PxZteX+H8dqolwaHE4IN9gQTkbg6+bkTqffXcOTgI+2O0id92zKmgpBIQm34APy1sPIVu5NInLkc7paWsawD2OBfSnLxEy3bHYj0ECEziCNlvfYQEvkfKgglkCM1jzlJBfTLGrzD+F8OvJUrGpog0GBPMBGJq3GblvP/vrqLn/xrlt1R+iTTVEFIxBZm6+li2hOx14nGzJaWMcNBc7SmpWXMDNkdS6TT1offIG3QbXijKmSKbE8tYwnkKZvKr874707j/1r+IN8UFvFrtYyJ9Aq/9FsM9daTlpVud5Q+ydQeQiL2OPY2uOMAsFQQ6m2aQs0tp4x5XcwqPIZ7V+WQk1xgdyyRTkuliKh3OMGIXhuIbE8rhBKounkjBz56AM+vfm6H8eZwM3XuJIj4bUomIvF0XCY0Oh18L5Zkd5Q+KaYVQiL2cDhbbi3T3hwSdx5XemvL2Cwq/ctILn6ChmCd3bFEOq3ZrMKZtopQ2LA7isheRSuEEiip4m3mbF1HSXjHUxl+NPFHMO4CcOqPQ6Q3mBC1+EdONp/Fmrjd7jB9kKk9hERs8fYrP+OfJUX8KVBLid1hJK6i5rZTxhw0BVtaxgIxnTImPYdpxTAMkwBb7I4isldRBSKBshxJLaeM5Y3dYfzNyjd5cNmD3DLnFtLcaTalE5F4ub45wmivD3dGP7uj9EkqCInYo75xA19kJBM0w3ZHkTirC9bjGXAXK73pTMs7HN+qTAqPLrY7lkin5RijiHqHEYmoQUZke/oXkUDr/Fs5sLwfr2/9dIfxcCxMc+03BJ6Yb1MyEYmno3KT8TkMjouq5m4HHTsvYo+0tEIAAgP2tTmJxFu6OxN/xQWMyppOpX85ycVPUK+WMelBqs0vcaatJujPbTt8QkRUEEqoVMPBHL+fIk/+DuMHDziYh9Inkb/+I5uSiUg8TRx+DLfk5nDugEF2R+mT2lYIaVNpkYTaaIVJwqAsq7/dUSTOombLKWMuw0FzpLalZSwasDuWSKclkY1hmDg9qwhFtc+ZyDb6+DqBCp2pLS1juaN2GF/buJbfe7/kxzEf4ywLDG12JtKT3TT7JiYXTcay9AmUHWKtr/O84SiWZWHoZ6pIQjiCDYTTHMTWLIaRR9sdR+KoOrAVz4C7WO3NZ2LOQfhWeSg8qtTuWCKdlmWNIeodBpaLQCRGapLT7kgiewWtEEqg5cEaDuxfxns1X+4w7jScNBAlaFgQarYpnYjEg2mZHLZwIoHXb+T7G762O06ftG2FkGWBP6zjr0USZVCwZcVIRY1+9vU2OUkF+CsuYGTWFCr935Bc/AQ1/mq7Y4l02ibzdZyeNcT8QwlE9NpAZBsVhBIofewJzBl1Enl5w3YY75/Zn0eGz2daMATBBnvCiUhcWJbFlECA36XEOLPicbvj9Enb7w2gjaVFEueDsUdSEI0yIjnP7igSZ9+eMmbQHK1rPWXMb3cskU5LYzCGI4Yr62MC+rBIpI1axhKoLKOMX8381U7jpmVy8fpnODQ9jWMDDZCt3nuRnsrpcHJzvY9pvmbCafkdT5C4i1k7FoSKbMwi0pckZZXh3eggGAvjsTuMxNVm/yY8A+5ijbeMsdmz8K1aQMnher0qPUemNY6or6VlLKgVQiJttEIogT575w8ceO94lmx8d4dxh+HA60oiPPsyyBtiTzgRiYtQLMRhRZmEDYOTQnan6Zu2PzxEG0uLJM4+W9YQcDhYEdhidxSJs7yUYvwVFzAiawIb/ataWsb05yw9yAYex5m6nmjTRLWMiWxHK4QSKCvs5wBvMzkpOTvdd/9RD9mQSETizcBgSijCb/NyeCpm8bDdgfqg7VvGdPS8SOI8tf4VRiW5GZ9caHcUibNorOWUMadh4I3W40pfgT/qszuWSKd5zJEYzpdIynuNQHi63XFE9hoqCCXQYFcG19fWQdbgne77/Xs34d70GVdMvRIGzLQhnYjEQ5IziZtrG9nH78SXmmt3nD4ptl1BqFkFIZGESTWcNLuSCAyeTZrdYSSuNvkq8Ay4i3W+oYzJmY5v1QJK5w2yO5ZIp2VaYzGbJmOZyVohJLIdtYwl0Du+DRxY3o8VjWt2ui8UCxHe+Als+MCGZCISL83hZg4bPobolHM4Zb/r7Y7TJ5nb7yGkljGRhDnGF6TSCUsjjXZHkTgrSOmPv+IChmaNYZN/DcnFT1AdqLI7lkinbTAexpH2DZH62dpDSGQ7KgglUJ7h5gB/gMykrJ3uu27WjVzd0KxTxkR6OKfhZEq/fflj1WJOqHjU7jh90vYFIV9YBSGRRPm/jGRm+wNM1j+7XidmtbSMOQyD5khLy5gvopYx6TnSzJHg9JJc/LROGRPZjgpCCTTSlcH19U2UZJTudN+jKx7j4uIiCDQkPpiIxI3H7eFmv8EvsiZwXPpQu+P0STHz26+btUJIJDEsiwzTpNnhwL/ubbvTSJxt8K7GM+AuNvpXMyZnGr5VCyhP33kLBJG9VVp0AunBg7FiKWoZE9mOCkIJ9Gq/0Rw4bDQbmjbsdF/MihF2urRCSKSHq/XXcNj6J+Drpznt48ftjtMn7bBCSHsIiSSGZXH+kOP5PCWZJYHNdqeROCtJGYy/4gIGZwynyr+W5OIn2OzfZHcskU7b5PoXwaRPCVcfpoKQyHZUEEqgwrzhHDBgLqnu1J3u+8GoH3CHVagVQiI9nMtwMSUY5JbcbI7JS7E7Tp/kjdTjzvqIDE8zXhWERBLD4eAXkXUc2+xlZkqx3WkkziJWrKVlzGHgjTa2nDIW8dodS6TTUmOjiRlNpJbdT1AtYyJtVBBKoPFbV3O9zyI/NX+n+96vep+zspPZPPYYG5KJSLxkJaVzc00dP6tr4ARf2O44fdK6wCeklD6Bu+AVFYREEiUaJse0aHQ48MVCdqeROFvfvBzPgLuo8q9jVPYkfKsW0D99mN2xRDrNE51EiXU8TitNK4REtqOCUAI9u/wxDtywiJpAzU73OQ0njvRCIsMOtiGZiPyvSMwkFO36C4bN3k0cVlaK07I4w6c3RXYoS5pMpGEK2dH9dcqYSKIEG/jll2/wRpqHj3T6VK9T6hmOv+ICBmQOZlOgguSSRWz2V9odS6TTtiTdS63xX1IaT8WvFUIibVQQSqBSw82csEmKc+c2kmnF07h36i8o3/iFDclE5H/d9O+vmb/woy7PcztaWsZuzcnm8ML0bkgmHYlYUczAINLdeVohJJIgTYE6Li4q4DxfmAOGHW13HImzbaeMOQ0Df7QZV9o3eKNNdscS6bTUyDgAokV/1Qohke2oIJRAU52Z/MoH6Uk7v0nc7NvMOa9ewDvPnAumuYvZIpJIlfUBqhqDXZ6X5yng5kmXcUn+NE7WKWO2qIusJ7lkEVtT7tam0iIJYsVCFMai1JdPx1s22e44Emdrm7/CM+AutgY2MSJrPL5VCxiYPsruWCKdlhyeRJlxDC4yCYQjdscR2WuoIJRAjwUrOTDXhS/i2+m+JGcSpsOFiQWhRhvSicj2wjET07Q6vvB/rPdVMa/qBZKmnsfZJz/bDcmkI/muUcQaZjLQ9T2aVRASSYgsZwo3VdfxRN0S3l31b7vjSJyVpY7BX3EBZenlbAm2FN2r/OvtjiXSabWeu6niRUpDPyYY6frrO5HeSgWhBCrDzZyIgdvh3um+3JRc7ht2FvsFgjppTGQvEIqaxKyuv2BINpxMTS3h/z76Ewc/dmA3JJOO+KONGOFyCpMGaYWQSIKsblzDRcUFXF1bxyGbV9sdR+IsakZbWsYcBr5IS8uYTy1j0oMkhcfjJp1Nab+hOVJvdxyRvYbL7gB9yb5TLmRf71ZwJu3y/p+sf4apmRmcFWxIbDAR2Uk4an6n7s0idzo3f/QUr2VkUuFUzd0OddG1OAof493gfwgEf2l3HJE+weHyUJSURa0zQHMsTLbdgSSu1ng/xzPgLmqD8xiePbalZWz/MXbHEum05NAUirMLWWf9h8B3ODREpLfSu5UEui+0kQO/uRPT2vW7TJcrpeUPRCuERGwXjprEvkPL2KqG1cwrKyUVB+c2NndDMulIgWss1B/K9Kwz8YVj36n1T0S6ZtDAA/j9Ka9wZ3YW/w3qlLHepr9nAv6KCyhOK2ZLoJLkkkVs8q21O5ZIpzVm3EGFuYhxzsuJhnToh8g2Kggl0IBQkDlZI3AYu/5t/8vMGzijZD9IzkxwMhH5X6FojOh3KCR4nClMDQa5PdPDAeXF3ZBMOuKPNeKI5TAsYxIAvrDaxkS62wcb32P+S+fwx3o/RyTrZ19vE7VibS1jgai35ZSxiFrGpOdwBSeQbvTjC+tXNFsVdscR2WuoIJRAc5a9xq8qlu32/lvWPMW1/YdC2ZQEphKRXanN/Cuhfj/v8rxSTyE319Qx3xfl9MZm+A77EMmeqYl+g5n/KPdsmA+go+dFEiBpy5cUbvqCWjNIkxmyO47E2ZrmT/AMuIvmSANDs0bjW7WAIZnj7I4l0mnuwDQGug4n1ZGLXhaIfEsFoQT6Z2wLhyc37PZ+t9NNkgUE9YmLiN2McD8IDunyvGX1K5hXVkqa4eD8xiYVhGxQ5JyMu/4EDi+9AEAbS4skwKS0cv6ytYbf5eXyqqGCUG8zIHUK/ooLyE/Jpzq4ieSSRWz0qmVMeg5v9m0sj97PAVlXE/YV2R1HZK+hTaUTaIjlYn8rdbf3/2TST+DXheAHDv114oKJyE6sxn3gO2wqnZaUwdSkXO5yR7g00827lolq74nlj9Vj4Gbfork8xhqagyoIiXS357Z8yL9Kirh32nUMHKQTFnubqPXtKWP+SEvLWHO0we5YIp3mDEwiNyPIa01XE0raH5hndySRvYIKQgl0qJnCoaTs9v6nVj7F4yUFPBiox0hgLhHZWazfH1q/OqNL8/oXjufmM9/hzco3+br2a3Dqx2yi1USXE855mGs/exic1+IL9bHTRNb8F1IyoXSS3UmkD/EYTgpiMWoiXnJDTeSn5tsdSeJolfcDPAPuwhc9lcFZI/CtWsDQmRPtjiXSaQ7fDIYkpbI8toFYzEUkZuLWabAi+tg6kW6hluMduz95I9mZTJbhIhyoT2AqEdmVaN1sYt7RXZ73+ZYlzHv8ELJcaVw04aJuSCYdKXJMx9Mwnx8M/SFYLryhiN2REuv+o+GOOXankD5mbsZg/rGlmp8tuYWX/nOJ3XEkzgamzsBfcQE5KZlUB6tILllEpW+13bFEOi2U/3c+C/4fx5VeR8w/jECkj31YJLIbKggl0PC8MczKHLrb+48YfAT/pJjkkPYQErGTaVqEGqYQ2XpUl+dmhL1M3bKKhS9eyPSF4yAS6IaE0h6/WYfhCHHUoGPAdKllTCQB7tnyLmeXFPHYpq2c5CywO47EWdRsaRlzGA7CsUBry1id3bFEOs3wTaZf0gwe3fRT3NnvEwyrICQCKggl1FFH381Pj3tst/d/Xv05P3DXsTJYm8BUIvK/wjGTtMF/I2XwHzq++H8MTi/j5po6TgzBWQ2NYH2HjYhkj9TGvsKX+SA/eOUwnJ4KbSotkgCZg+ZQPOo4NmcW02CG7Y4jcbba/w6eAXcRtcIMyByCb9UChmVMtTuWSOc1z2Rw8lyy3HlYZopWCIm0UkEogW56+1pO+/epu70/2ZlMptOD5XQnMJWI/K9Q1CRcty+R5lFYXTwl7KPqL5hXVkoObn6sgpAtCoxZ5DRezsUTL8GM5PS9Y+enXwCzLrU7hfQxJww/gd/v/3uuTDN5NrrV7jgSZwNTZuOvuACPK4W64NbWlrGVdscS6TSz+K+85/sT5w77NdGmiSoIibTSbqcJNHrpC2Sl5ez2/pG5I7n9tP8mMJGI7Eo4ahJpnIIVTSNmWricnd/mPdOdxtRgkH95wrwwsJwlKgglXNCsw3LWcOqoi/iztRhvX9pU2rJg/59BSpbdSaSP+f0L57J1yxc85IWcQm0o3dtEzQiGw8ThcBCM+XGlfUNTRC1j0nOYzVMpzy/hvjXXklSQRiC8r92RRPYKHa4QMgyj3DCMNwzDWGYYxlLDMC5tHc81DOMVwzBWtt7mbDfnGsMwVhmGscIwDJ3p1+r4sMFPkst3e39TuInTXjiNF9a8kMBUIvK/QtEYaYP+Tvqw3xHr4gqhERn9ubmmjqNND/Mbm7DMPlSM2EvUWp/TkP4vZj08i9T8j/rWptKhJvjTMHj/n3YnkT4mNxKhsHkrW1wu6s0+9G+uj1jlf4vU/ndhWib9MwbhW7WA4ZnT7Y4l0mmxxpkMSZ1DbkoBVtSjFUIirTrTMhYFfmpZ1ihgH+DHhmGMBq4GXrMsaxjwWuv3tN53CjAGOAy4zTAMZ3eE72l+kRLm/NDul9emOlNJC3pJeuka8OtTFxG7hNtaxkYTM7tWEHq3egnzyvtR4EzhkvpGOr+2SOIl39qfkubruXTypXjMoXj70qbSYX/L7au/sjeH9DnnZ4zg53WNXJ2VypODJtkdR+JsYMr+hDdchNNwUh+qaW0ZW2F3LJFOc5b/hXea/sJFY35OpH42QRWERIBOtIxZllUFVLV+3WwYxjKgH3AMMKf1svuAxcDPW8cfsSwrBKw1DGMVMB14L97he5pxEYvGjN0v43c73dwx5FT44kII1IMnN4HpRGSbcMwk0jgRK5rd5YJQVuFopo44jocweMK5lY+SPGhXsMQKWjVEXGv4wcgf8/jr7/StlrGwz+4E0kddWf0WBXm5LDx8IVlJalnsbaJmBKfDwjAMgtGAWsakx4k1TqW8YBD3rvgDKSWbCIQn2x1JZK/QpT2EDMMYCEwCPgCKWotFWJZVZRhGYetl/YD3t5tW2Tr2v491AXABQP/+/bscvCc6JRCF1EHtXnP5+mcYkJPFZYGGxIQSkZ0EwmHSBt0GgGme0KW5Y/LGcPPsm/lo80dkeQoxHNqqLdHq+Iya1Gc44snniaaPwhs60+5IiRP22p1A+qhCRzK5loMti39LLDWXosP+bHckiaM1wcU4Sp8BLqY8YwC+VQsYMWWC3bFEOi1cN4uhnqEEU5sxo81qGRNp1elTxgzDSAeeAC6zLKupvUt3MbbTR+yWZd1hWdZUy7KmFhQUdDZGj3ZFdjI/CSxv95qclDwyTBOC9QlKJSL/KxyzCNfNItI0pst7CC3++mHmLZxA0ZdPc0nlSlwhvUFPtPzYXAb6f82PJ/2YQsc0fH1shdCijDTeTE2xO4n0MVelDee8QIzrGj/h0a0f2B1H4myA+0CMqosAaAjVklyyiPXe9l/TiuxNUgf9ibcb/85F439MuPowFYREWnWqIGQYhpuWYtCDlmU92Tq8xTCMktb7S4BtZ4xWAtvvnFwGbIpP3J5twj6XM3nsae1ec93En3BuYzNohZCIbUKRGJHGCYQ2H9fllrFcI5mp3iYerXqLiXVv4A9oSX2iBaythFxrOHrI0RQmD+9bx85bMW7Iz+PvOdl2J5E+5qzYeu7a9yzuiOZyEdmdmnPTv7/mn4tXd28wiYuYFcXZ+q4hbIZaW8Zq7Q0l0kmmaRFumE7/lCk8sPwOUsvvIRhWQUgEOnfKmAHcDSyzLOuW7e56Fjir9euzgGe2Gz/FMIxkwzAGAcOAD+MXuec6a8xZnDP2nHav+ceap/lxUUHLHkIiYov6YANpg24jffhNhGLhLs0dnzWYm2vqOMiZzfzGpq715UpcNDg+psp9P5e+filLY3/qWwWhQfsz3EjF40q1O4n0MaXZg8kpGke1w6LW6twpY++sruW9NSoq9ASrQ68QK7wbgJK0fi0tY5k6tlt6BtOyiNTtz9C02RR48jCjmVohJNKqM+9VZgFnAF8ahrGkdWwB8DvgMcMwzgXWAycCWJa11DCMx4CvaTmh7MeWZelfHHDRvZPJyhrA749/arfXZKUXkz/8KJhwSgKTicj2HHgI1+6P4WogZnZt7subP+DPZaXc13rKGNpDKOFyI4eSF9ufE0d4MJvX8FZfOmUMGNB/NtOLdRy0JNZvs6dA7RYOczQyyQrx207MiZkm4aheIvYEA9yHUlk5FIDGcD3JJYvY4HOxY1OAyN4pZlmkDfkdbzdM57G5f+aGh3JUEBJp1ZlTxt5m1/sCAczdzZybgZv3IFevNLWpjtTs0e1ec8aYs2DMWe1eIyLdKxSLEmkaixnOx4GzS3Pz3BlMDQZ5IrWBOweW899QEzpvJ7GCbMFw1rF/vx/y0bIsXo5sIRozcTk7vW1ejxX97EFeWfcKVjTEKSP1wYIkRjAa5NTPfs/ZAZP/SyrE08l5UdMiFO1i1V1sETUjOIxtX4dbWsaiNfaGEukky4JIwz707zeBx1Y8RvKAO/GH/mJ3LJG9gj66TqDzGppg7Ih2r3lx7Yvc8e5N/Gvo6aTP+GGCkonI9jb7KttOGWsM7Ud5p9/ewJTsYUypqWNJYQ6xmuUkGV0rKMmea3J+RLPzPf7+WZRHtjwI3IgvHCMrtfcXhJzNmxkfDLFlozq1JXFMy2QQSWQaUaqnnI7HmUJJZ+aZFmEVhHqEish/COV+AFxAUVoxvlULGDl+nN2xRDolZlqEa+cwLG0kmckrccYK8Ye7tiWASG/V+18d7y0si7OK87i+/pN2L8tIymBg0Ed0zeLE5BKRnXgcBYRq5hBpmITD6Frd/Hn/eg4bNZmyqRdxyewbSc0s7aaUsjtZoSMYbV3Pgf0P5JCicwGrz+wj1BxupDga5dRmv91RpA/xuD3c4ijmQCON3615koXV73dqXlQFoR6jv+Nw0hrPA1p+ziSXLGK9b6nNqUQ6x7Qs0obdxFt1d3HYwMPI8Z5PKLq7BhiRvkUFoUQxY+wTCDImpaDdy2b3m81fjBKygzqqWsQu4WiMaPNogluOxW0kd2lufmYZU/rty7P+tUxc+ldqOrm5qsRPyNhMwFjLuPxxTMmfA5j4+khBqCZYz8vpaax0du10PJE9saFpA8fF1vKO0+SWsiP4aeqQTs2LmRbhrm7UJraIWtu3jEVwpX1DY6Ta3lAinWSaEKnblwGeiSzesJiG3N/SENbfXxFQQShxzCg/bGjixKxR7V72Tf03HO+q4ZOw+rJF7FLp/4a0QbeRMeJX1AS79oJhRnIBN/tgWszB/MKZpEZVEEq0Zvd7rDce4sW1L3LzVydjuOtp7iMbSw+KWcwIBHnbrU8+JXEcDgeDLCdpTje1y56m+ouHOjUvZlqEIioI9QQV0efxZt4HQL6nAN+qBYzKPMDmVCKdY1oW4dqDGJo+nTR3GslWkfYvE2mlglCiOJM4acL+/N7R1O5lae40yp1pJIW0QkjELlmOAYSq5xKun4aTrq0QemrFIg7b8CQD1n3CJe8/RFqgsZtSyu5k+I9mvHEd4/LHcdrQS7DM1D6zQqgyVE9uLMbF3pDdUaQP6Zfej1smXsHESRfwJ6uaO5yda1nUCqGeo8xxJNnecwHwR7ytLWNf2JxKpHNilkX68F/xdu19TCuexhDrR8TCmXbHEtkrqCCUKA4H+/afy+jiKe1e1i+9H3/L25dxzfUJCiYi/ysUM4l6RxDacjQpzrQuzS1MymBKMMjzka1MHFhOlX9rN6WU3Qk7qvAbFZRnlDO3/DAwk/rMHkJrJp7Ei+lp1GiBkCTQJ1s+4bh1j7GibDy/c/XnmnBqp+ZpD6GeI2pG2940qGVMehrTsgjXzaZ/2niW1i5lpft6GsxVdscS2SuoIJQooWYu21zJ91x57V4WM2Oc4FvCgzNObTkjUUQSbn1gSUvL2MhrqfJt7NLcWdkjubmmjvFJecxvbCLN2bUVRrLn/MnvsNZ8hFUNq5j/xhG40lfg7SMtY/sPO5oDiqZxf8lAu6NIH5LiTGGAKx1PYyW1RKmmc//eTNMiFI11czqJhw3WczSk3w9AXmoevlULGJ1xoM2pRDrHNCFccwjD0qeS6kolzSgmHNHbYBFQQShxwn6Oqvo3t351d7uXOR1OBuSNImfwXDD0Ea+IHXIcIwltPYRw3UySHZ37pHubxza9xWFlpQxJyuaS+kYyXV2bL3vO03wsk5MWUJxWzKUTryQWLO4zK4S+fuVqMoLNXLvfzXZHkT5kTP4Y/rr6K8o/fZhbY1u4zd25lsWoaRGJWZimPgDb2/WzjiE/cDYAgaiP5JJFVPg+tzeUSCeZlkX6iF/wVs0DDM4azNTUy4kGSuyOJbJXUEEoUcwo+/sDDE8t7PDSP0+6nCMaasFfl4BgIvK/wlGLqG84oS1H4XFld2lucVIWU4JBXgpWMXFgOet9Vd0TUnYr7KzCa60nMymTY4cdjRVL7zMFoY8rXuHfjcuJffYvu6NIH/LS2pc4Pi1CnQG/HnEWvxpyUqfmxVoLQdpHaO/XcspYyweVMSuGK+0bmqJqGZOeoaVlbH8GpI2l2l/Nu8Fr8Lk/szuWyF7BZXeAPsOMclVdA+SM7fDSq95eQOrat7ihYAR4pnd/NhHZwYbwe6QNegCA9c33MJ3cTs/df/gx7B81WO5JZ75vE5npxd0VU3YjlPoWq6M1mNbZHPj4/qTmH4IvNNruWAlxpi/MlxE/v4q+xit2h5E+Iz0pnf4xk2RnEusG7kPUjFLeiXkx69uCUIrb2b0hZY9s5GmCKTXA6WSlZLW0jI1o/+Rckb2FaUK4eh5DMyaQ5Ewi01VMXdhtdyyRvYJWCCWKGWVueSl3VX/Q4aVl6f0ojUYh0ND9uURkJ9nWREJbDyNcO5tUZ9dOoXig6m0O2/wCwyacxSU/+A/ZxRO6KaXsTlLDCUxLuQqnw8mCGQtIjY6muY+sEHqPIBmmyR+31rS8AhZJgNn9ZvPXej9pLg+3ffRn/vb+bzqcY1lW2wohHT2/9yuOHUdJ+EwAgtEAySWLWOdfYm8okU4KxyKkj1zA29WPkpWcxaH5VxNoGqp2VRFUEEocM8aB/gCDO9EydsmYc7mwoQmCDd2fS0R2EolC1DeE0NajSHd3fnUQQInTw+SUIl795kkm3j+B1bXLuiml7E7UtQkf6wE4avBRpDmK+8ym0q+5LRZlZrR8Y2mzXkmM+5bex0m5qeBM4tqgk5vXdXx6T2y7N2JqGdv7Ra1I29aWVlvLmE7RlJ7BtCzCtQcwIH0UlmXxTPVPcee8Q0inHIqoIJQwafn8cvoCDhp9aoeX3rXueU4uLdIKIRGbbLJeJ23Q/5E+4lrWNnWtoDPXSuY3Hz3NoI1fMr++nqz6Dd2UUnYnmr6Yb0JPAnDGC2cQyn4UX19YIRSL8ouaGo71BvhJUQGYKghJYuSm5DIwORfyh1FvmWwxOn6TFdvuJFUdPb/32+J8gi1JjwCQkZyBb9UCRqUfYnMqkc5xGE7C1fMYkjERwzDITy7DinkIRPT/SREVhBIkkpzBARUP8uDW9zu8tjCzP8PDEQjUJyCZiPyvzMhMotVHE6mficeZ3aW592xazFFlJQxPLeCS+kby3endE1J2y6g5mX3SfgrAhRMupMDav8+0jP1n/x9RkDOYv26pAbNv/JrFft8b8j3+cOY7MPUc7gpt4I9pHZ+SusMKIRWE9noF4RMpi50GQMQMt7aMaVNe6Rm8YR/pIxfwbnXLh0Un9V9AtGmSCkIiqCCUOIE6Ds4YwkB3x/uRHD3sOH7d/ygo6huboIrsbcIxg+TIEEJbjyArqeM2z+31S8pmcjDEG/4NTBxYzvLm9d2UUnbHdG/Ea7WszDqg7ADy3IP6xgohp4snozU8Zfhh8png1IaZkhh/+uiP/OiVi8A0uSptOH9oDHc4J7pdQSgU1ZuyvV2U7VvGTFxp39AY2WxvKJFOMnASrj2A/mkjAHh0w69ILnyBQFg/e0RUEEoQd8MGrv3wCWZZKR1eu3jDYg6PrGJT+ZTuDyYiO6lxvkCs9C+kj7iWlY2fd2nuvJzR3FhTx4DkPOY3NpHrSuumlLI7VtbrLA8+DcD1713Pcsfv+sax84EG/l/hXA7ptz8XVf8XXMl2J5I+ojA5l/7LXoJ3b6XBilHl6HijVlMrhHqUGvfjVDkfB8Dj9uBbtYAxGYfZnEqkc5xGUkvLWOY4AApTSzEjmQS1QkhEBaFEaQw1ckD/fjy19aMOr81JyWFCzggcTZsSkExE/ldq4EDSm39ApH4m6a6ubSp9+6Y3OK5fMYNbW8YKk7p2SpnsudiWHzAr4zIAjht6HCNTTugbK4TqK3j0tZ/Sz1fPbaPPh2jI7kTSR5w57PtcXVcPziQWmtX8LiejwzlRFYR6lJzgSQygZR/MqBUhuWQRFb6PbU4l0jmNoXrSR17De9XPAXDa0MuI1M9Wy5gIKggljMuyONjnp8zTcfvJhIIJ/G7dSopf+mUCkonI/4rEIJ1BhLYeQU5SaZfmlmcOYlJyIW9Hapk4sJwvfZXdlFJ2x3RX0my2/L5PKpxE/9QxNAcjNqdKgLCPhVmZ/LdmCbz8S+1DJwlz1Xu/4lf5ueB0c8W8f/K3Y5/ocE5sh5YxFYT2djErCtu2hrKsllPGYltszSTSWU4jiXDtHPqnDQXg4bV/IqX0YbWMiaCCUMKkOVxcW1vPtNyO9wXa6N3Ikc7NvBauSUCyvuP0uz7gkQ+1n4t0zOt5hs0ZN5M+4lqWN37YpblHzric6858i7LRJzJ//AUUDJ7bTSlld5y5r7E80PIp4APLHuCZuh8RioWJ9PajrSN+XqjcxISkXOaXFGHGOt7HRSQeylILKY1GwZlEQ6iBjd6NHc5RQahnqU99hEoWAZDiSsa3agGj046wOZVI5yQ5UwlXz2NQ5hgAij2lmJFcrRASQQWhhNkcqOaA/v14sfqTDq9Nd6czxpVFVsiXgGR9x6fr6/lyY6PdMaQHMBoOZaB5AZH6mWQ4u7ap9K2f/JWTnz2RgRn9uWTyJRSnFXdTStmd4MYzmJV1MQCz+83m4IKLAaP3t42FvdyZncnA5FzurtqCYepNtiTGJSN+wIUNTeBM4qHXruLXL13Y4ZwdThnr7cXaXiDT+wMGO08GwLRiLS1jgY63QRDZG1T7t5A+8ho+qH4JgNNHnku4ep72EBJBBaGESU4v4eCkQkqyB3d4bVZyFn/I35epzVruH09R09KnkNIpkahBtnMgoa1HkJdc3qW5Axo3M6HiI97/6O9MXDiOT5fc000pZbeSN9Aca1mhMCRrCGNypgPQHOzdBaFIqIn/y8nm85gPAzCtPtAmJ3uFc965hn/ktrSM/ThjFP+s7vj1i/YQ6llihNtOGXM4HC0tY9Eqe0OJdFKyM5Vw7YGUpw0B4PFVd5M64Ha1jImgglDC5AyYzbWnL2bi0CM7df1JtW/xj/QkiAS7OVnfETMtfRIgnWLmPc4y60+kj7iWrxvf6dLcY3LGsaCunn6uDOY3NlJkdHyyoMSPZVkkF7zCMv8LALxX9R5/++ZMHMlV+MK9uyDkzhnEEs80ilPzmV9SRCgSsDuS9BGD8kdTOO/3MO4EmqwolQ6jwzmx7Vaw6dj5vV9z+sOsN58GwGE48K9ewOi0o+wNJdJJKc50wtWHMiiz5dj5kvQizFChWsZEUEEoYdbULOOAR/bnv+vf6NT1EzIHUZ6SDxF/NyfrGyzLIqYVQtIJlmUR3HIU41PnE6mfSaaray1ft2x6ndNLiij3FHJJfSP9krO7J6jsUsy0CGw4m/1yLgJgeM5wTh18BVYkG28vXyHUWDqBO4ZPY2TRJO6mhCSdcCcJct3M6zhpxEkAPOZfy7X5WR3O2b5LTCuE9n6pjacx1HVC2/cpxU+wLtC1PfZE7FLl20D6yGv4qPo1AE4aeQKhzcerICSCCkIJ41n/HgdXr6cw3LkVP784ciHHXPQpeLp25LXs2ral6VohJB2JmhaW5SA/qbylZcw9sEvzByblMC4U4hPveiYOLOeDxpXdE1R2KWZZOFM30BzbBEBBagHTi2ZhWUk09/I9hGrrV3PbktuoSEnDmHczVlY/uyNJH2BaJt97/FAevWdfqPyECzLHcHfV1g7nRU0Tw12H4WpSQagHMK0oju3eNTjTVtAUU8uY9AwpznTCtXMoSx8EwLOrnyRt8J/wh3T4gogKQglS7Ern2tp6RuUM79T1175zLRe/dnE3p+o7tm1eGYroRae0LxQ1Se33EJ/4/0n6iGtZ2rS4S/OPzxnDz+saKE7JZ35jE6VurdJIJNOE5IKX+Nr7HwC2+rdy+Xvfx53xRa/fVHrwksf5bFMDTsPB/P/MpynYYHck6eWiMZM/v7KMYakl5NWsgYiPJmJUulxgWe3OjZkWqWUPkFz0jFbv9gCB7AdYG3m27fvQ2l8wynO0jYlEOs/jyiJcPY+BGS3Hzuem5mKEy/BHVBASUUEoQZZ6N3BA/358WLe0U9cPdaYzZvkr8M3L3Zysb9i2Qkj7FEhHwlGT4KYTmJFzGpH6mWS5Srs0/3ebFzO/pIR+ngIuqW+kPDmnm5LKrpiWhX/9+RyQfx4AOSk5XDLhamKBAb2+ZWx9YCt3ZaUzzu/n7qotZNSttjuS9HLLNzfzf69XcGLyURzsD4AziaeysrimfGCHc2OmhRXJxDJTtUKoB3DXnsHw5OO+/b7oSdYFPrAxkUjnbfCuIn3kNXxa8xYAc/vPJaXhTEIRp83JROynglCCZBouDvb5yUvJ69T1Zw07gR9WbwZ/bTcn6xtisW0tY3rRKe0LR00sy0VBSgmhrUeQnzS0S/MHDzuSsVMu4Mu0TCYOHshbHk83JZVdaWkZW0dTdDMAKa4U5vY/CCuWhreXrxBaE6rn/9JcNJgBDMDSUd7SzZqDUQxXI7/c/A9e86SC081ZY+dz3+H303Yk1W7ETAuMKM6krTp2vgewiOzwR+rwfENTa2uuyN7O48wiXDuHfmn9AXiz8k0iJb+jLrTZ5mQi9lNBKEHK3RlcW1vPkOwhnbr+gcrXmFteihXQ0fPxEGk9zSSoFULSgXDUxDPgLj5oeID0EdfyZdN/ujT/pBEnccXUKyjI6Mf8sedSljusm5LKrpimRXLR8yxtfqVt7LSXvk9S/mu9viA0x0zis0AmtREf80uKqA7pAwXpXi3/pgz6OfLJjpngTMK37Bkqn/sxREPtzo2aFo6UljdjWiG094vk3c+ayAtt38fWLWC051j7Aol0QYY7j3D1PMrTBwOQmZRJUqyMcLT91laRvkAFoQT5yF/FAf3L+LKhcxvMlmUPZT9/kGigrpuT9Q227iFUXwF3zoXVryf+uaXLwrEYgQ1nsF/h8UTqZ5Lt7N+l+Tc+fzYX3TOZ4qCPSypXMqipppuSyq7ETAt/xQ+Zk39O29iCGdfg8E3u9XsIfRGu5e5ki6nZw7m7agv5rjS7I0kv5w1FsKKZnO6ey5RQCJxJPLfxLX5qVkEs0u5c07QwQwXEgv3Uzt0TbD2LESnfa/vWUfAk6wLv2RhIpPPWNi8jfeQ1fF7X8nd2YuFESsLnY0ay7Q0mshdQQShBcsefwsGjTiE7e2Cnrp8z4CCu98ZwB5u6N1gf0XbKmB0vOoONsPFjaNay1J7AH46C5SY/taClZczduY3gtxlipDK6uYbl1V8wse4NXl/7YjcllV0xLXB61tEU/fb0m9n9ZpPmzO/1K4Q+cxn8w9EMDicGYJq9+9cr9vMGozhS1vPr8FN8ecLtkFXOD3LG8cjGzWC1/wFM1LSwIjm4MpZpU+kewCKKw/Ftz5jh+Yam2EYbE4l0XoYrh3DtHEo8ZQAsq13GxrTrqYkutzmZiP1UEEqQIdlDuHbmtZRnlHfq+o82f8Tc4iyW+fQ/23j4dg8hGwpCXz3ZctukP8uewBcJ4hl4Ox/WPkf6iGv5yvvvLs0/LXsMl9Q3kpeSy/zGJgYkZXdPUNkl07JILnqWpc1vtI1d9sZlmPkP0tzLN5U+6/SX+fSMT1nqq2R+SRGbAlqdJt2rORQFK4lM5yDSymdAkgevFWWD24XVQUEyZlo401ZiRdPVMtYTFC1kdfCltm+NDdcwKvX7NgYS6bwMd0FLy1jGAADS3el46E8k6rY5mYj9VBBKkDcXX8cB945jVXXnThnLS8lj9uAjSD3oum5O1jdEW/cQCkVNrA6Owo27sLfl1pmc2OeV78Q0HfjXz2dW0TyiDfuS7RzYpfm/3PwGPynMpyA1n0vqGxmS3LmN5CU+YqaFf+1PmFNwetvYuePOJSd6aK9vGXuz8k0e+PoBpo35AXcfejelo461O5L0cr5QFDNUzNHmHAZ/dD+EvPzHu4bLiwowrfY/gImZFlY0i6hvqFYI9QCRTfMZ6Tny24G8p1gXese+QCJdsLr5S9JHXsNXdR8DUJ5ZzhjXj7GC/WxOJmI/FYQSpCASZq63mYyU7E5dPzh7MDcc8HsG5o3o3mB9xLaWMcsi8aeZhJpbQ7S/wabsHYKRKJhJZKdkYdYeSb57VJfmD0vKYVQ4wmpfFRMHlvOfhq+7KansimlZOD1raYptbRubWDiRbGe/Xt8y9uZLl7Hws9twOVwYhoHZQcuOyJ7yBqO4Mr7ikfDf2fzerWBGODFnHIs2VuEw2//wJWpaRH3DSMp7UyuEeoQIju0PjvN8Q7NaxqSHyHTlE66dQ7GnFIDaQC2fWQtodH5oczIR+6kglCCj3NlcV1tPUVpJp65vCDZw8IMzeeLxE7s5Wd8QjX37wjThn0T6WzcGj/gT+7zyndQGavAMvJ0v698lacgv+Mr7VJfmn5U9hh81NJKdksP8xiYGJeV0U1LZFdOElJKnWNr4ZtvYrZ/eyprk3+AN9e6Na39ZVcmrRYfx+eqXmP+f+axd/rTdkaSXaw5FsWKpFMXSSbGsllPG+u/DhrkLMJPT250bMy3cWZ9ihEu1qXQP4O53D6uDr7V979x0NSNTTrAxkUjnZbmLCFfPozStZQ+hFFcKWc5ywuEUm5OJ2E8FoQR5ybuGA/r3Y6O/quOLgbSkNGY60inZ9EU3J+sbYtt9UpnwfYS8W8CTB9POS+zzynfiNjLxr5/PtKJ9MZpmkeUc3KX5V4XW8tMZ3ycvbziXzL6R4cOP7qaksisxy8K3+nLmFJ3cNnbU4KMY6T4Tb6j9U496tFiU51KdPBfezPj0/txdtYVBRpLdqaSX8wajxPxDONE7mmyz5dj51xq+5vLl9xIy2p8bsywsMxl3aDzhmApCezPLsgisP49RafO+Hct9mg1qGZMe4pumT0gfeQ0rGr4EIM2dxuzMK4g0D7M5mYj9VBBKkBJHMgf7Q3hcnk5d73a4+XX+TPZtqmvpc5I9sm0PIbDh6Hm3B8Z+H7LUp9wThKItLWMZyR4cDd+jwDm2S/NHFE5gRL99WB+qZ+LSv/Lv5m+6KansSstGtWtoilS3jQ3PGU5R8tDeXRCK+HguPY2nfRU4nEktp4x1cOy3yJ7yhqK4c97lHxnvEQNwuDg6YziLSr9HciTY7tyYaRKpn0kk8wUCscaE5JXvxrQAI4Jju3cNVvI3NMUqbcsk0hVZriLCtXMoSC1sG3ul6WdE0l+3MZXI3kEFoQSZ4Mri2kY/OSmdbx85o+4dbsxOg0igG5P1DVFz+5axBH8See5/ILs/LHk4sc8r38kmfwWegbezsvErzP6/4KvAY12af27qQC6oWkem4WZ+4UyGWlqlkUiWZZFSsohlTe+2jf17zb95zXsFvki9jcm6WdjHHZuruWfwKazwrmd+SRErOrkiVeS78oWiWNEMiiMenM4kMAwCVUvY8Nk9mIG6dueGohGSct4hOTqESMSVoMTyXURjJp4Bd7PKv7htLGnLzxmRcpJ9oUS6ICeplHD1PErSv926ozBpMNFIBpFE7y0qspdRQShBnioZygGDh1Af7PwbkhkZgxgbCkOwofuC9RHRmEXqgNtJyn+VYKJXCEFLMWh5144vF3tkOkrxr5/PuPxxOL2zyXYM79L8Kz79M1evephsw8Ul7z/EyNp13ZRUdqWlZexn7F90fNvY9OLpHJR3KeFIUu/dqyTs4/7MDBYHNjI8czB3V21huE64k27WHIoSbR5HadMJcNAvAXizueWUMe+2EzZ3I2pGsTDIMqcQiaogtDczLQt/xUWMypjbNhbNfoYN4bdsTCXSecub3id95DWsblzRNnZ48eVEmyYRSPRWEiJ7GRWEEqSsYAwHD5xHcheOHr94wJEc7/VBoBd/qp0gMdPCmboOw9WU2D2Eti6HW8bA1qXaVLqHCEajWGYyGcmpJDcfSb5jfJfmj0jKZlg4TFWwhokDy3mq/qtuSiq7EonFcHrW0BSpbRsrTS9lUPpowMDXWzeWzhnIQ+WjWIwPl6ulZcwye+mvVfYa3mCUpIKXeC3nNZh1KQBH5I1nUWUVGc7UducaJBHeehhbkx4jgFqP9mYxy2xpGdtuzExeSbNaxqSHyHaXEq6dQ15KftvYc1tuJLnoWYJh/b9S+jYVhBJkWvU6rvWZeNyd20MI4Oa6jzll7L6QVdaNyfqGbXsIWbG0xJ4y1lwFTZVgONT610Os939N2sB/stFXQaD4OpaGHuzS/AszR3Nuk480dxrzG5sYnpzbTUllV6JmlNTSRaxo+qBt7Ovar7l73YU4PRV4g7306HmnmxdPeJkbZv+GtTE/80uK+CK7sON5InvAG4piRbLJDKVBxdsA+M0oG9wuoma43bn+iJek/NfJYgzRcPsnkom9gtFwa8vY221jnuqrGJF0io2pRDovx11GuHoehZ6CtrHi1IGY4VytEJI+TwWhBHlw2YMcsOFxAtHOFwXGlExj9pAjISWrG5P1DTHTIhYYgMNdl9gVQr7WjW1zBmqFUA+R7RiKf/18hmYPIimwL9nGiC7Nv7j6Ta7LzyEzOYtL6hsZk5zf8SSJG8Ny4V11FbOLvj3dbUDmAE4eeCVmqAhvqJcWhDYt4R+PHMGnq19gYO4I7jr0LsaV72d3KunFYqaFPxwj0rAPl1U3w5MXAvC+dy2XFxXQEGpod37YjIAjTD/XPkTC7a8mEns5cOGvuIjRmXPaxsJZz7Ah8l/7Qol0wfLmt0gfeQ3rvWvbxo7tfyGR+tkqCEmfp4JQggw0Ujg4DC5H5/vkjy0/mIsDQNXn3ResjwhGoziStrZ8ncg9hLxbWm5zBmqFUA8RjsVwkkyKO5l0/5HkGpO6NH+UO5uhkRg1oQYmDiznMbWMJVTYjOL0rKE5+m3LWGZSJmNyJ2FZrl5bEIrUruTu0AaW1HyBIxrE8dkDmBs/tTuW9GLb/i2l9XuMRQWbsZxuAOYO+R6LCg8mL3tQu/OTjUyCm07m6+jdRFKWdXte+e6iZmvLmPHtWCxpFc2mWsakZ8hy9SNcO4ec5G8P93mq8q+k9PsXAbWMSR+nXfwSZJYzg1lBJzjcnZ7zxKqn+PPyf/KSGSazZEI3puv9QtEQDpefcLA0sZvKereCMxmmX/DtaiHZq60LfEJy/9upDRxLfd4NLI9OBDpfFPrx5Euh+DP87gzmJ/VjZFHXCkqyZ4JRP6mli/imsQCY3jIWC3Ldp6fhzjoCb+gAewN2E3c0xGcVGzCP+QFrG9cxv3oxf3Qnc9iQuR1PFvkOfNsKQo4SikLfYCW5MYBg7kA2jD6Sck8u7b3iaQzXkVz4PKVJU/jGn49lWRiG0c4MsYs37GtpGfM52PZzNb32SoZlqSVaeoY890DC1fPI93x72EKppxwzHNQKIenztEIoQe4KbuDAzK6tTBmQO5LveX06ZSwODNxEmsbhSl+R4BVCWyG9EEYcDpPPTNzzyneW6xiLc+uF5KXm4QnNJIuRXZp/wTf3cZOjAY8nl0t+8B/GT7mgm5LKriQ50lpaxoqPaBvzuDz8ZNwviHlH4O2lm0o3BGr4e04Wq/zVlKaXclfVFqalFNsdS3qxbSuE+juO5vD6VEyjpfzz8Yb/cvniy9naUNHu/LAZxnB5GZZ2AFYkm7COft5rJTtTW04Zy5zVNhbMeJaNkTdtTCXSeUubXyd95DVs9m1sGztu8OmEqw9N7FYSInshFYQSZIiRxNxY1xZkTS2ZxjV+i8yQ9p7ZU6FYCEfyZrDcif3Bf+SfYf5LULMKVryYuOeV7ywcjeE2UnAZLrJCh5NjTe3S/DGpRQwOR2gMNjDx/gk8+MXd3ZRUdiUUDbeeMlbXNmYYBvuU7INlpvTaTaXrAnXcnZVJRXArDocbB2CZvfPXKnuH5tZ/S1vS/sa/85owW1vi9zOTWLSxitJAU7vz0xwFBNafz3/rb8Gd/QnhRB74IF0SicVaW8a+XcEVS15Fs7XexlQinZfjKidcO4fM5My2sWfX3Ytn4D8IhPWzR/o2FYQS5MCpP+GX0xd0ac7SmqXMKsrkXe+6bkrVd3gjzTiTq4k2j07sKWPJ6S2nxH3xKDx8ClhW4p5bvpMN4bcJFvyNiBlha+ZNrDS7VtC51BflB+/cQ7LhZH59PWM2L++mpLIrvmgzqaWLWNm0ZIfxK9+5kOSCl9raXHqbwbhZsm4Thww6nNpwI/NLinjbp/93SPfZtkIoL2kg4Ugh/qKW4nnQjLHB5SIUC7U7vz68mZTiJxmePotYoDyx/2+WLmkMN+AZcDerfR+1jWXV/5RhrtNsTCXSeXnuwYSr55Gd/O1BPf0y+hELlqplTPo8FYQS5Nbmrzly1cIuzclLzeMIM5n8sDYj3lMpRjbhupm4c99O7Aqhpy6Czx8Fd+sJKtFg4p5bvpNcppPd9COSnEmkR2eQYY3u0vyz697l91mppLg9XFLfyMTkgo4nSdx4XFl4V13FvkWH7DB+1dSrCDfsQ3MvLQitHTCNf8w4ia2BavLTiriraguz1DIm3Wjbaru5BefxUu2PqZzxKwC+8K7n8qICNgXa3zcvHAviSKplUs4hmOECrRDai6U7s1pbxma2jQXSn2NjdLF9oUS6YGnzy6SPXEDtdj+Xjh5yDKHNx6sgJH2eCkIJMiJmcUDmkC7NKU4r5hfjLmT46BO6KVXfEYj6cKRUYcXSEvcppBlrWRlUuwqS0lrGdNLYXi8ci5FkpOEwHORGDiPLnN6l+eNcmQyKWvijQSYOLGdhg04ZS6RQNNRyylikYYfxiUUTSDWyeu0KoXXJKdy55V0aQg04HEk4Jp2BWTbN7ljSi237t/TE1ktIzX2DYKjlA48ZuSNZtLGKASn57c7PcJYTWX8lj224gaS8N1QQ2otFrJaWMed27xoi7tVqGZMeI8c1kHDtAWQkp7WNvbz+GdKG/B5vUK/NpW9TQShB5i17navWda11JGpG2W/N/dzpjnRTqr6jMVKLy1NBpG5m4lYI+WvBMls2ld62Qiii/aD2dpvM16hOvxWAytTfstbx/7o0/6dpwzkpEMXtTGJ+YxPjknQKSyI1hutILV3E6uYdC3E3vHsDzpJ/9do9hOaEYnw+7WZG5IygOepl/uaXed1stDuW9GItq+0sBmeO5ArrZQa9eiEAYau1ZayDFbF14XW4Sx5iSu6hxHzDtan0XqwmUINnwN2s8X3WNpbTeDlDnWfYmEqk8/LdQwlXzyM9Kb1trDSjmJh/IP6I3mdJ36aCUIL83qzmBGdNl+a4HC6O6jeHEVrJuMcynCWEts4jpfgFfBFfYp7Uu6XlNr0Q3J6Wr8MqCO3tMiL7Ux75EQBZ5nTSY2O7NP+0hg+4JSMZt9PNJQ3NTElu/1Nyia9MVyHeVVcxo3DODuNnjjmTzMDRbfue9Dafvf83/vHuDQSiATKSMrhr3MUcmD7Y7ljSi7UUVw0un3A9+/tiRFpPGfs6VMflRQWsi3nbnR80AziSqtin8DBiwVJCiTwBVLokKykPf8WFDM/89pAFv+d5NsXesDGVSOct9T5P+sgFNIa+/aBkTvn+mNWnEo25bUwmYj8VhBJktOViNqldnvfzkIv9n7tamxHvIW+kGUdKJY5YLqFErRDybm25TS+CrHIYfhi4khLz3PKdRaIxUhwtS4oLzUPJjM7sYMaOxmcOYlDucCKxCBMH9ONO36ruiCm7EYwFcHrW4Is17DA+PGc4Ga78XlsQ+irawJ2ulk18DQwcr96I9eUim1NJb+YNRfCkBLjs3RN5N90kSsspY5NHfp9F31vEsGFHtjs/xzEUZ9XPeWDNzSQXP0s4pk+/9lbRWAyMKM7tThkLu1fhtbRxvfQMOa4hxOrmkOxMbht7q/Itkgf+jq2BShuTidiva+egy3f2vVjyt/vIdMF5de+Slp/N38K+lhOr5DupD1fhzlxKesNFRNMSVJTZVhBKK4C8IfCDRxPzvLJHat3PE3NVACez1v0HMFOBzheFfv69fwEQM2PMH38BE0u7VlCSPVMfqia1dBFrmsZzIKPaxu9beh+VnrtIDfzTxnTd54ywk9NTh4MrlUA0wPyiXK4IrOccu4NJr+UNRfEkuxmXN5H81RWEW19Shs0wG5o3UOgpJNW1+w/CqiOrsAqeYJ/CQ3lyVbJOGduLbQlswjPgbtb6SoCWgxYKmi9nUH7XX9eK2CHPPRyzLokUV0rbWE5KDs7IYCIRo52ZIr2fVgglyPWOes6wNnZ53gFZI5gVCEKgvhtS9R05rkEENp2AP/NRGiKbEvOkA2fDCfeywWGx/yP788KKJyAaTsxzy3eW6j+UEc7zAchhGqnRCV2af+Kz3+fvH9+C0+HkksmXMK1YG/smUk5SKd5VVzG1cN8dxucNnMdw44f4Qr1zr4DXzSbucjRjGAbJzmTurm7msOQSu2NJL9YcjJLpzuKGmTczLRgmYjkBWLXyBS5ffDmrvnqk3fnhmB/LvYl9iw8m5h+ogtBeLC+5BH/FhYzInNg21pz6bzaZr9kXSqQLlnqfxj30agLRbzeQHps/lhzfWRDTXo/St6kglCDjckezb87ILs87o3wuJzV7IdgQ/1B9iC/aiCt1PUlWAZFogj4JyC6HscezpG4Z9aF6Cp76Iax8OTHPLd9ZOBYl1dnyqWcxc0kP79vBjB1N8jUz8P27W75eOI7bntGmm4kUiPlxetYQiO64f0l5Rjl5yeU0B3tnUfY9I8TDsVoAHIYDw+EgZvbO9jjZO/hCUVye9Zz84vdYmuwmRMs+HGMzB7NoYxVjPKXtzs9xjCG9egH3ffNHUsse1Clje7Go2dIy5nBs1zLmWoMPtYxJz5DrGgYNB+J2fLtf0Iq6FdTnXs/m8Jf2BRPZC6hlLEG+f+z932neLVWLeb68lNcCDfEN1MfUhtfhzvmQ0ujVmJEEfRLw9bMQC1NjNFOcks/U4HodO98D+NKeYkXUBI5mpeMvBFOjwOxOz1+QMgQiVQCc0xxgUm7X9w6T764uuJnU0kVUNE9nH4a0jb+58U3eC12DYf7MxnTd5xeDjmVBwei27+fnpfHDwAZ+ZGMm6d28oShpSR5GFk7iwi9O48IB0xjPt6eM5cUCeNqZXxNdRjD3BfYrOZivvq5TQWgvttG7Hs+Au1nvGwQMB6DQdyml2SntTxTZS+Q6R2E0ZOByfPvWNyMpA481hFhUf4+lb9MKoQS56vXLuPA/53Z53sSiyRxjZIFTmxHviTznKGKbzmWD804azK8T86Qf3QUf3sE5Y88hIymdm/NydOx8D2DUHcmE1LMAyDMmkxqe2KX5x3g/4f+11oAu8YaYmZQX54TSnvykAXhXXcWkgh1b9SYWTGS/rMvx+9OweuEm/U8OmszjnpYXuoZhcFfSUI4u7trqNpGuaA5GKUgayG/3+y0pFBIItxR0KoJbubyogOXe9tvkg6YX07WJWaUHEPUNV0FoL1aYWo6/4kKGZn576mZTygtsttQyJj3D14FFMPAqTOvbnzOl6aUMss7HCJfZmEzEflohlCCTvnkDX2b7y6d35aCxZ3DgmNOxAG159t01R+tweirwOIqJRhO4qXTeEK5/93rCZpRJwZBWCPUAkZhJqqvlc+1+zoPwB9s/Ovl/TXFk0N8MAjC9OIvTmpdxadxTyu74Yt6WlrGYD8hvG89NyaXUM4ioWUsoapLidtoXMt5Mk5dXPkUQOGnESQC4DvolVmqhvbmkV/OGotQ6X+GIJ6/jX8YW1m4+DhjN8IyBLNpYRdmk9t9k5RqTyWsYysLl/8AzYBmh6NR2rxf7RM1oS8vYdi9EQ67V+NDeK9Iz5DhH4Gg6CIfx7VqIhmADK9wLSIscDugDFOm7tEIoQU4NWpyX0r/L815c+yJTH5jKxqYN3ZCq76iNrIbs1xjlPoNYMEGfBHi3YKYVsrR2KccMOZojfH6tEOoJCh7nq+DDAHwdu5WazD93afp1yQM5PNpSaz/LF2aqOzveCaUdtcFKUksXUemt2GG8srmSR6suwZW+ovcdPR9q4vYPn+Xe7BltQxe9chGPLW9/U1+RPeENRclJKmZSwUQmsYqUUMseVlFgg8uFL9r+ByA10c9pyriHOWVzCdftRziqY+f3VpXetXgG3E2lf1XbWEngEgZY821MJdJ5ec4xuJuO3GEs2ZVMljGUWESnOEvfpoJQgvwkzeTSwIouzxuUOZDTGhtJ+eD2bkjVdxQ4J+PefCWfR27B7/6o+58wFoFAHY6MYh7/3uNUBao5vqwf0PtaVXoT07QIVB3LlMyTgZa/N0nByV16jMP9X3Bvasvqkx/7Isxy53cwQ+KpKHk43lVXMS5/x9PhitOKOaH858T8A/EGe1lBKOLn7qwMXg5+26JzW0OIk9Z9YWMo6c0sy8IXijI8YyY373MdAEGz5SXlpuRULi8q4Mvcfu0+RsjyEnVtYt9++xJtHks4ppaxvVVJ6iD8FRcyOPPbw1Eakl5kC6/YmEqk874OPEKo31U7jKW6Upmc+mNM33CbUonsHdQyliBTwzGMrJwuzxuZN4qRfhMrpFajPeGNVmOkrCLT2Y/NkQRs8uurBuAjI8Qji3/KuPxxFE27FCZc2P3PLd/Ztjckae6WU8bKXQdQ5avr0mNMG3I4ZWX7AbBveRHH5WTSO7cx3jt5o43btYxlt42nulIZlDkMWNP7VgiFfTydns5k/0bmtQ65DQcxSysupHuEoiaRmMV7zX/jijdd3AIEWgtCA7MHs+h7iyhNb79NPtfah5hvEvd/fSfpQ58hHH0wAcnlu4hsO2XM+LZnLORcA2hlhfQMOY5RuH2hncbfDV6DzzMGmJv4UCJ7Ca0QSpCzfGHO9Azq8rx1TeuYVpjGi97V3ZCq76iOfk04+2lmZl1IqGlY9z+hMwlmX05DZgnL65Zz3LDjuGD8Bb1yM9veJBQ1SS17gM+bnwLgq8g/ac79Y5ce48ZZN3LIgEMAOHPM2ezT/8C455Tdqw6tI7V0EZt9lTvd9+evL8Sd824vLAh5eW5jFdcPPaVt6BJPjAfCVTaGkt5s27+hfp5hjM5u+X9qMNayMjLWtIkNz/0Y38r/tPsYNeYnVKfexZzyAwhXH0pIm0rvtdZ5V+AZcDebAxVtY/1CFzPAPM++UCJdkOsYR6r3iJ3GC5NGEA52/QN7kd5EBaEEOS8vjWv8y7s8Lyclh1PMVAZEIt2Qqu8oNPYlu+YG3mi8CSvrDUyzmwszaflw8PUcMul8nj/+ed6sfJMp90+g+pUF3fu8skfCUZPgxh8wI/dYAApdE3AGpnR6fsyMcegD03nw4ZY+9Yu2VLJf9fruiCq7UZI8Gu+qqxiZO3qHccMw+MnY64k2Tex1LWNWyMctOdl86P+2CPbXUCqnO3TCnXSPbf+GDio5ifOGnQiAv7UgtNVXxeVs4ZMtn7b7GGEaiTg3MrV4KoZvMqGIVrTtrfqlDsdfcSEDMoa2jdW7X2KL0X7RT2RvsTz8AM1F1+w0vn/uDwnUT+j+9wUie7EOW8YMw7gHOArYalnW2NaxXOBRYCBQAZxkWVZ9633XAOcCMeASy7L0fwtgn+mXkOHO6PK8zKRMfuouwwx0rW1FdtRsbiaWvJyipEFURbNaVoIkdeMpQw0bwLuFmze8REFaIbP6zeL0kBNX/brue07ZY6FoDLBIc7ecMtY/eT+WN23p0mNMt1Ioba4B4ICNTzOv9iMWTDot3lFlN7a1jIXNILDjz9xReaOwzA/whXtXQShsmTyclUlmcAvbtpV2Gg5MtOJCuse2FUJ/XXE2dc4Tqe3/Tz6s9fAToF9aCYs2VlE8akC7j5Ed3Z9Ma38eWPYASUP+RiB6fwKSy3cRaT1lbLuOMYKOtURI0KmtInso2xhDtX/n1/2v1t1EcrGbUPSw7n1fILIX68wKoYXAYf8zdjXwmmVZw4DXWr/HMIzRwCnAmNY5txmGoX9d8P/ZO+vwqo6tD7/HJSfunhDc3Z1CgZa6UFpKW6jLrSuVr+63cuuUUocWSoVSrFDc3SHubsdln/39cUJCGiGEGGG/z9OnZGb27LWTIzNr1vot5vSaw/Vdr2/UtePFVN6SlTatQRcYRcJBjN4/MjnsPlzlfbE190nkwZ9g3gTKbMUYHUZ6BPbgYdEHfynSq03jcLnRxX7B/nKPH/uA9QvsYa81+HqFXMHLigjGuT2L5JtsMELp1xymStRBni0RXcRiCmw1HXlv730GbegfGNtZhJCmw2h23nKQ2cPmVrY9rrHypVDQilZJtGc87yE3vQOGEO/XkQLvHuS4PA5YARmZSiVml63eOYpl28hWzWNo+FAUJZdjd0kn9G2VFOMR9LFfUmCrikKMdt5LtOuOVrRKQqLhBMj74GX993YWInSdcNtDsUoRihIXMGd0CImiuAH4d3jK5cDXFf/+GrjitPaFoijaRVFMARKBwU1j6vnNjfP78OKvjXMIXddrDoMvfreJLbqwCBbHEl72CstyX0cT8kfzaxWY8kHtzZvj3uWRgY+QUZ7BIE0Jy12FzXtfiXPCIbixpt/GkCCPNG+ouhcYBzb4epvLxiTncX5SOgC43S5jjFLKTW9JorT9MCU+TkffhBp9D/R7EHvROMztTEOoxFbCu7ve5XhJVSXLN6Z+zezLvq7nKgmJxuN5D8m5s8fjTAjoweUFnxLuSAGgxGnkwdBgtptS653DIZZjl+fQNaArevtQXC5ZveMlWo8Yrx5YUu8kylAV9VWkXEG+XEoCkDg/OO76iuKAuTXaJ4bfgrNkhOQQkrigaayGUKgoijkAFf8PqWiPBDJOG5dZ0VYDmUx2h0wm2yWTyXYVFLT/U8wR5SX0kjeuGsNd/e5hTPTYpjXoAsPkzsGpOUK4Ph63M7D5I4RMeST5BHPbyts4XHSYAF0A18t8iXO1r41oe8PqcAByvFSeSnSxmhGIpeMbfL1MJmOwzIswPIGRE33h/6wnm8NUiTowuUpOSxmrTregjsjc2nYnKl28ez4/HJpPeuHRyjalXInbLaWMSTQPJrsLuSabezZdxtbUNYzK/4EQl0fEPFgfzOKsHMYb6i+k4euYQA/xBf5K+Qtj2FOUCWeXnivRcrgqUsZOrzJmladglSe3olUSEg3Hj17obWNqtP+V+wG66K+wOiSHkMSFS1OLStd2vFNrDLAoip+LojhQFMWBwcHBTWxGG8Pt5p7SMq706dyoy+//7Tpu/nog2Mqb2LALhxL2UKj5gSti7sJZMhybq7kdQgVY9QE4BAcauQYvlRePamLo5pBSxtoy5XYz+tjPOVi2AYB9lvkQ/XKDr9coNLwsD2W0qAVgul3OSIVvs9gqUTu5tuPoIhZTYq+pu/bh3g/RR3/V7lLGEtwydqVmMDGuKhz+mRVz+GTFXa1olUR7xmh3Ibo1jAgfQ4jKc9hlERQIbhG32kDmhKcpjx1a7xylik2kyxfQI7AHPuarEV3aljBdohEkGfejj/2SYnt+ZVus6x4iHXe2olUSEg3Hn374Oi6u0R7l1QHBGtn8B8USEm2YxjqE8mQyWThAxf9PfUNkAtGnjYsCshtvXjvB7eLKyDDeKqm/4kZdXGSIZ1pRHlhLmtiwC4cA58V0tL3OkvR30Eb+gN3Z3CljefQ0RPLd1O/o6O+pynGJsoAXuw5v3vtKnBuiGkvaHAYHe06RwtS9EMobnvVa7ihnkrqEpQM8VXdmj3yeCYMfbA5LJeogWjMIU+LjxHpH1+ib0XUG2vLr213KWLI5h3cD/MlzlFa2veTy5m5r69kk0b4x2VyIzkCeH/Y8CVrPoZ4DJTangMnt4MFjX7HJmFTvHE5ZKTZyifWJxc89HEGQBIrbKrH63lhS7yTcK6KyrUi5ikKFlDImcX5w0v0luT7P12i/OPpaHIWTpJQxiQuaxjqEfgdmVfx7FvDbae3TZTKZRiaTxQOdgB3nZmI7wO1ijMVKd23ImcfWwuURo7jGaJIcQueAhSysymNEeEXjtgc3/0lAaHfe0wg8s+mZyqaru05neIeagnYSbQebywWiHC+1J2UsXj8EZ+GEBl+vkCkYHDGc0LA+AEw9MY+5WauaxVaJ2jEKRSj0yThFR42+CEMEXgofjLaafecz6bZCfvAxUOaoiiJVyBQIorTAlWgeTHYnmoBtTP31IsrspQA4RQVWp4CvQsfiyMuYrAqtdw4vyxT6Kp9hV94u0r0foVRIbAHLJRqDszJlrKrNIpNSxiTOH3zF3ng7R9VoX5n9Dfr4/0opYxIXNGd0CMlksh+BrUAXmUyWKZPJZgOvAxNlMtlJYGLFz4iieBj4CTgCrADuFUVpRYrbxYMlZVzi26VRl3+St5mBcdGIkkOo0ZTKt5OrXMTlcTNxFE7E1tyi0td9gzJmGBqFprLpNlU444+ta977SpwTeZZc9HGfc6xsFwB7jN+hSXixwdd7qbx4WRPP8MzDAFzv34cxmvo3RRJNS67tCLqIxZQ7aqbY/p70O0V+b1HuMLWCZc3HWLmBXUUuugRUfce8RCHvy6U0Y4nmwWwX0IghjIkag6FCM82JEqtDQHS7yNzzJeVpG+udw6T+h2T3d8T6xBLmuhZcAS1hukQjSDLuQR/7JeWOqlTcePddhNultFSJ8wNfcQD+zkk12qMM0QjWeClCSOKCRnmmAaIo3lBHV63H5qIovgK8ci5GtTvUXkzuPoBpShv3NuLyAcF9uWPfd7gsxaia3LgLAz/bZcR6XcqvafPQxW7E7hzQfDdzC+AWuK/ffdWanz3wMXvLEllGw8uYS7QsenkglrQ59B8/CIBwTTd2lxpxu0Xk8jNXwCm0FjLj8If8R/TlksG3M+vIOgjqBIOa23KJU0RrhmFP9iFEXzMic1z0OJZst2Gxt69qRrusuWzw1nC3y4pO6Ylue1YRhtIuHSJINA9GmwtvsQcvDB8Pxckc7fkI2buCsDoFHG4nD4YG84g5lVvqmcMpL8Eq5hGiDyFMPpoSp1R2vq0S7zUAS+qdBOurND8L5GuwKm3AiNYzTEKigSTzOSZ9OlA9antizBRey9VLGkISFzRNLSotURtyBePiLqZzaJ9GXT44aiR3lJajsEunvY3FIkvHLD9JhCECty28eSOEcvZR9mooV/40kbXpayubRxtiubbcCIIkLN1WsbmcgBy90iNuGq8fjKNgEoLYsI2KSq5iMBpCZB7X7eV6K084UpvJWonaMAlFKPQpnqo4/yJIF4SPMgiTvX2ljB3vPpnvdYpqbQqZErcoVRmTaB5MdifOgO+4dcWtENCB7B53UoAfVoeATm1gcVYOlxk61DuHpvwyBmqfJK08jX3y+ymT720h6yXOlqqUsaptg4UUbIr6daIkJNoK3u4++LpG1mhfn/0nXh1fpdRqbAWrJCTaBpJDqCWwlvJEfh4TZd6NunxD2Qn6xsdwNLRTExt24WBSbSGTJUyLvwp73uXYm/MkwJSPVSYjyiscb3XV33yiXzdmlBsRHebmu7fEOZFpTkQf+zlp5uMA7DH+hKHLcwjuhjmEfDW+vOz2Z5DME6VxjUvNuEa+7yUaR679IMqwnzA7a77P9hXsY7/4AuXutFawrPm4sddsds/cUxkdBPC6j4Y3w2sKa0tINAUmuwtvOjMicgSUZRGevxEtdiwOAWRyMpVKSl31q5pb9WtIdC0kUBdIguIGcETUO16i9Thp3IE+9kssrqqDyQTuINR6TytaJSHRcHzdgwhyX1SjPdonApe5c/NXH5aQaMNIDqGWwG5kTP4Kvjz6XaMuj/fryN197ibAP6GJDbtw8DJdTV/lsyxP/xmvhDebN1fYlEeYIPDhyFcZFFaVK7TUlEz/+BjyjZnNd2+Jc8JXEYMlbQ49ArsDEK7tgqN4GO4GRgjlmHKYJM9lNRYAZgpaJst9ms1eiZpEq0cjpj+Nn8avRl+3gG4M83oUqzmw5Q1rRlb/dhuf/DGrWtsTw1/giZEN17+SkDgbTDYXUcrxzOk1B5LX0X3dbAIpx+YUEBB5MDSY1eb6Ha+CohiLmIe3ypsY1TgEu1/LGN8MCG6xwQcH5yMd9EOwpN6Jv9a/si1ftoZi1fJWtEpCouGkKj4mVVNT0WRU9HDsOdcgCJparpKQuDCQHEItgCg4mWi20FHXuCpj0T7R3GV2EZRSv0CjRN3YFamYSSTCEIZgicXmbMa0LVMBX/p6M2Pjo9VSNroZormnpBRNLaksEm0Du8sJohy9yrMw6ODVH0fBFFwNXOirFWoGiSqCKlLGrtYYediV3mz2StTEJBQg0yXVmi5lUBkI1IZgdjgQG+jkOx/Ynb+H30oOVWtTJP+DsPf7VrJIor1jsrs4oniSd3e9C4InBdOBEotDQClXsThkAld3ua7eOeRFVzHU62EsLgvrbHdg0W1oCdObhWvmL+aJ3/5pbTOaDafoBJkLxWm7BjOp2KWUMYnzBG+hP/5CzZSxnblb8er4Krnm1JY3SkKijSA5hFoAmehmblEJY/y6Ner6Ylsx/U5+weKDC5rWsAsIq3YjacJvTIq7CFvO9TiFZhSVNeURKNcS75dQLd++a6dLuGPo03gZpLD4tkqa+RD6uM/Jt2UDsLv0Fwxd5mJ3NUxzJlAXyCsDHqPfgDsBuCqgNxeFDGw2eyVqkuvYB8GLcLhr/s3KHGUsK3ochfehdlVR5EmTixU+Q6q1/ff4D7yc+mvrGCTR7jHZXUSqhtIzqGelLp4TJVangEwmI7P7NErDetQ7h8tnBcfti9EqtPTSzUQw16851JZJVL3IyvIHWtuMZuOkcQv62C+xC/bKto6yOwg231fPVRISbQeDazDBjKvRHqQPQmbtgtN1xjpLEhLtFskh1AJYnWZGx0TyY+GuRl3vrfbmdrcXPZxSZEljURffwGDdk/yTuQavhDcothU0382cVq5QBvHKyOqhqelqDf2Of8LK/B3Nd2+JcyJQ2RVr+hzifDzaKxG6TjiKR+BuoDZvWnkak07MY72Pp3zyjZd/w9TJHzSXuRK1EK0ahyprbjU9nVP4any5IuJpXKYumOzt5/P0J4WdH4XCam0PauOZa24/UVASbQuTzcUAn5uYFDepMkLolEMI4JH1D7P86I/1ziEqi7GKBSjkCrrqL8JhDa53fFtGmfsQppNPUWC0n3nweUgH/QgsqXdiUOsr2/L4m1LNn61olYREw8lUf0CS8vUa7V0DuqItuwG5u32lkktInA2SQ6gFkLkFJpktxOlCG3W9Sq7iXnUUXW31CzRK1I1DlUK5mESQLghs8ThczbdREi//H1PC/Pn2yLfV2oOQc2fEWDqq/Ou4UqK1sbmcqOQqVApPylecoS+OginIZIozXOlBq9AyyBBLgDEfgOm/X8P9q+5sNnslamIW8hF1SbWmhKnkKiK9PM4+k639OITWq2Gts6ham0Iuxy22nygoibaD4BaxiPn8UjyLVamrqjuEHJ731aKcQmaUldU7jzP3eob7eCJMfi2+C/z/Om9TOR3aHWhC/+SfxJOtbUqz4DqVMlatylgqDqWUMiZxfuDlGkiAOLxGe2JJIo6IF8mwSVUOJS5cJIdQC6D1i2Xu0LkM63Jlo+e4xJ3KC7LSpjPqAsPlvY5kx58MCB2AquRGZO7mE/q1C3aGhA8hwqt6apjemMfdm78mzlTSbPeWODfSbDtQRn1CucNTSWVv6R8YuszFaDc16PpQr1BeST1Gr31LALiiMJdJOe1zg9BWyXHuwRXwIyK1byy/TnkKdeB6zPZ24iwRnHyUm88X4ZOrNX9sS+dZg/QVL9H0mB0uEFX08plEjE8M+MXiTpiAEwVWhyecMlulokiw1TuPPPBPjlp/A2CI30xcpu44hfPPISSKInK/zah8DrAq5fzVQaqPE6YN6GO/BFlVuGwn+RwCjFLKmMT5gZdjKKGMrdHurfZG6+yKKHi1vFESEm0EabXYAhTJYXTSN/xavL/Rc8z0SmCCWSpX3mhyb2a498Psy9+HO/JVcm0nmnT6XanFpBd5Kktpv5rKC8pIJsROqD5IpWdSdASvJy9u0ntLNB2Bsv6o8u/GV+0LQISuI47iEQ2OEDpRfJKL1GVscnscSNPxZpqoP8NVEk1JtHIiXnnPoqjjbza7y9M4S4ZhtDejsHyLIuPTkbfyl19Atda79R15qax9pq9ItC4mmwvR5c3UiDvpGtAVel2DfOYvqBRVKWNP+hv4zXIGQX1lEVa3J7Kth884BFsUDqGB+bltCLvLjfHoq5iTH6CsoHdrm9MsdNCNwZJ6J2pFlc5KHmsp10opYxLnBzn6/3JC/laN9lCvUMKcs1A6o1vBKgmJtoHkEGoB1HYjk3w6Eq00NHqO6X3vZsTgB5vOqAsMQZOEUUzFR+2DyhWPIKibdP77f9zLi8uOgMPC0rJjTDr5JYXW6poeqHTcWlbOWENck95boulwuJyoFEoUco8zIc7QE0fBFJQ0rBzprhQzXc1u5DaPaPnN8gLuIq/Z7JWoiVnIw61JRiarXTg+1jcaRFn7SRlTKPnLlMIuS3b15vgxCH1vaCWjJNozZrsLpe9u3j5+LbnmXHDawGlFp1ZUpox9W2TmVl1cnXO43SLWrJsY4X87AD9nP4Y2fDEO1/nnEDI7HGhClqPxTuKQcQWu89CpdSZcbicyuataoQyTmIZDmdiKVklINBydfSBBDKvRbnQYyTA8TZbwT8sbJSHRRpAcQi2Ad2kWc3csYYBb1eg5nshczrX5q5vQqgsLmf8aTlpX0sGvA0GWW1EKYU02tyiKFJrs7EgpQjDmEeZyMdAQh7/mX1pBKj0zyk0M1py/wpntnXTneiyBH1b+vK9kBYYuc2s69+pgVxLcXyAS79YCMA0vJos1xY0lmo9cYSdW37rFbBccfwdt+C+etJf2gLmI38Km8GyXm6o1f2k8wpMlO1vJKIn2jNHuwu0IZmjIxfiofWDN8/B2F3QqRWWEUK5SQaG7bt1DQRTRhP7GMfNyAEYEX4+zbAB21/mXyllms6Ly24EmaB3yoD/Yl9n+DgFOWtahjZ5fzdHeWXkbfu24sppE+0JvH0G4fEyNdq1Ci4/YHdEl6XtKXLhIDqEWINOSy+iYSFYWNT5lbHL4MG4M6Au28qYz7ALCmnEbo/zvJcuURb7f8+Q6G1fxrTbMDgGnIFJuc5GWnsJQm51Xu8+ujDKpRKXjyeBArk3+ocnuLdG0BLhHEGi8v/IUNEwXj6N4BArZmSPKXIKbv1M3c1eMjEN4tDOulflyhVtyCLUkUfKp+Bc/V2f/7T3vwZZ3SbuJEBJL03h9x+tsTfyjWvvsqIm80eG6VrJKoj1jsrlwW2O4pcuD6FV6j6i0QoVOrcDi8Dh0nvU3sNhdWuccgltEri7C4vZo6vXyG4lgiTsvI4RwqzGdeJGboz/DdOJ5jma3v1TNDtrxODPvqtaW6/4Hs25ZK1kkIXF2FHi/zRHx3RrtKoWKbsrbkVu7tIJVEhJtA8kh1ALoUDDJbCFC1/jIkHFuDZf98yFioSRQe7a43SJyfRJlQjo6pQ69OwG30HS6LiVmR+W/U1JSuC4ijJfTa8mrV+mZ4teDmyPGNtm9JZoWh9uBWq6t/DneuzuOginolGcWG9yVVoLRoiDY5o1O1xOA2fJCZqvqr7Qj0bSY3TkI6uQ6++N8IwAZpnYiKm23lfK7wYsTtupRbIqjf+Be9WwrWSXRnjHZXWjClzB31yxPg+AAhRqdSoGtIkLoy8sWc8ek/9U5h8stYs24jZGBNwOwKP3/0Ed/dV46hAosJWhCluHjXYZ/yAH+Sml/0dwutxOFvPrfxiSm4VBJKWMS5wca+2BC5ENq7dsnPkOx+vcWtkhCou0gOYRagEClnrlFJfTy69zoOb4r3M2QuGiMpuwzD5aohsstogleSaJlHQHaADpwOwpHQpPNX2qpEqfNzU5nvMVCn9ABNQfKFYyZ8TuXDH8Kt3j+LXovBHLE1eTrP678+UDpWgxdniHblHnGa1cfyUPhCmVH5lz2R80G4JKhj3LJsMebzV6JmuQJ2zAafqqzf9HJ79DHzMPUTkSltYKLLemZzOpwebX2b81JPBjs20pWSbRnTDYXgqkTk2KmehoEV2WEUGXKmCWXQlvdqbaCW0QTvpijpjUAjAq9HEfxCOznoUOo2FqGym8H5a4c1P47OG7c1NomNTmJ1r+Rh8+v1tZNdQs+pf9pJYskJM4OjWUEEYpRtfYFK3si2CU5B4kLF8kh1AKcMGUwOiaSjcWHGj1H/9D+PFRcgsJubELLLgwEt4gl9R5GB87BITg4qnyaQvnaJpu/xOKJEIoL1PNJUW/uuPo3pnWfUevYxYe/ZdiPw8i35DfZ/SWaDl/HeGJd91T+HKqNwVE8ErW8/ogyURRZeTQFbcf/wztgIzarpyLgVZ2u4qpOVzWrzRLViWQaIeVP19l/TedrkBfMajcpY0XmXN4I8OOotfpnyo3eXXgvr6CVrJJoz5jsLlzG3szuOcfTUBEhpD8tZez/Vt3Nj6vqdhZ4UsYKsAoVKWOBQ3CZO56XDiFvRRimEy8yKmISN8a8QVHKdRSZ2lfaWLx6IrLcO6q1ZQvrMXtJURUS5wel/m9wyPVBrX2DvG/DWda3ZQ2SkGhDSA6hFsDbN5pJ6lBCfGIbPUeP0P7MKDehtpua0LILA5fbjcJwnHIhC5Vcha8sAdHp12Tzn3IITe4ZTo48gyHr7+RQ8dFax/Zd8xqPaOPRKSVdmbaIXXCiVlSljMV6d8ZRMAUvZf2RFifyTGSVmhkZfD3/c/3CRYmvAnDX92O4+ZvaQ5QlmgcLObiUqXX2B2gD0Cl1lNvax4at1FrEbwYD2a7q+nJKuQo3MnCffxtsibaNye5C3+Fd3t7zkqdBrgC1F1qVAmuFQ+hTI9yniqpzDpfbjTXtbkYEeyrh/Zz6Hl7xH5yXKWNZpiw0IcsocWTRIVSGJvQ3Vp9s/AFgW8QlOlDIxWptJjEdl5QyJnGeoLIMI1QxqNa+zabXcAVK+p4SFy6SQ6gFCE+YxNyb1tElbmyj59hrSmNQXDQ7S441nWEXCC5BRBvyJyfMG5DJZPTT3Yto7t5k859KGZvcM4wr3PsZLUYTYYiodWxHuZbLBB8+WJPaLkvTnu8Uq5eRJv+y8ueDpZsxdHmGNGNSvdetPpILMifPjrifzg43zoo/7WRRyzRHvZdKNDEF4mZKdD/X2f9Pxj9Ygt6n2N4+omcSooazJXQKEzpMrda+yHSSu8OCwd0+IqEk2g4muwuMAxkRNdzTcPU8uHN9NQ2hPIWcAnfdTle3G7QRP3LM+A8AI8MmYS+8CMd5+L2Yb81H5bcDs1BMp1A9Kr/dbEmv/VDofCXRthIheEG1tm7qWXgVPdQ6BklInCUq80iiVCNq7YvUdsNljcR5Hn7+SEg0BZJDqAXYn7OD0T+OZFfOjkbPEe3fkf/IQ4gKkFTwzxaXW8Sc/BBjgmYCsN3+HGavP85wVcM5FSHUM8KHG2UHuSO7hABtQK1j09Raxjj38/X+PzieJ6X/tTW0pil0Vc6p/DlMF4WjeCR6hU+9160+kod/wgJe3/M0CplY6RC6QhHItS5Vc5os8S/C3VcRZX2qzv5hEcOIsN2P09F0wvKtyUnvAN4IDibXZa7Wfl3UBD6WRwFi7RdKSDSScqsTnfUiJsdNrtZ+esrYazo33zjq1jx0ud3INflYBY/ofq/Afgimbtid55/Ye6iqK6YTLzI4fDCdA+KJNb1DQV7H1jarSYlXT0FddHu1tmxhAzbDb61kkYTE2WEKfpUD9o9r7RseNB1nyYhKDTQJiQsNySHUAvhl7GJSYSaBTluj5wjSBXHzjL8I7ndzE1p2YSC4RZTeRykXcgAIUnXGZQ9ssvlLLU68tUqUCjkfh1h53M+IKNa+CQtR6rnJ5IXbHk6xWQodaWs4BSdahaby5xhDBxwFU/BW1e7gA8grt7E/s5QxwTcxvct05DIRR4VD6H5XKjeoJcdfS2IRs3AoUurs91H7YFAZKLc3/vO4LZGdf5ClJ5ZQ7qieMqbodgnixS+DUlPHlRISjaPEXowj6lGWnFjiafj9flj2kCdlrGJD9b5NzcPK2iNloULbL+U/jAj2aKz9lvY1Xp1eOS8jhNJNiWhClmF2FSOTyQgNO8EB++cI7vbjjHW5nchl/6oy5k7HpZFSxiTODxTm4YSpBtba90/RR+hiPsfmkBxCEhcmkkOoBYhV+TC3qIR4n7hGz+F0Oxnw3QC+3vdZ0xl2geByu9GE/cpJ03YAhvvNxlZSSxWwRlJiceCvV4MoMtVsIr4skMT82rWe9CovJpeC2+knOYTaIBbvXzju+q7y5yNlOzF0mUti+ZE6r1l9JA+Zqphreg5neORwFIg4BRkAkxR+XCFFCLUohbKNFKl/qbM/pSyFE4rXKHUfb0Grmo8xydvZlpFLZ//qVSx/PbmU21behihpCEk0MRa7G1/HZLoGdPU05B+D4hRPlbGKDVWBXE6eWHfKmMPlRBv5HSdMWwAYFjYKe96l52WEUL41G5XfDgSsAPj7WBDVmRzKLmply5qOZMdy7AHfVGvrrpmJtkBKGZM4P5CXjyZKPbTWvmivzgiWeClCSOKCRXIItQDbypMYHRPJ4bK6T63PhEqu4iG3D0MOLWtCyy4MBLeIOfFJRodcC8D60rdQhS5qslzhYrMDf70KwVbGZFMZoWXxbEsprnWs6BXEvWEWNKHLJIdQG0Qsuox++qoovBBdOI7iEXgr644QWn0kj4DIDTyx9VbcohunXIPFrQRgmjKI652KZrdboooQ5zXEOh6rsz/WJ5aBmsdwmmNa0KrmY4c5kzf8vbG6rNXaLzdamJ+TB9aSVrJMor1is2uI4kp6BPXwNJyqMqZS4HKLOAU3b0XE8GVI3RFCTrdQUWXME9nWLbA7rvLe2F3n34YsQj0I04kX6RKQAMD9A+ZgSfkPh7LMZ7jy/CFWcSlepbOrtWULG3H4SCljEucHjoiX2Wer/VB9dNhlOAonSg4hiQsWySHUAgTJtUwyW/CvQ1emocxUR9LJaj3zQIlq2FwulIYjlLvyAAjTJiDYw5qsvG2pxYmfXk16/gGGxEWTFGBne3LtJ4OFF39CXsGVuMr7SA6hNohTcKI9LcUm0isWR8EUfFTBtY432V1sTSpiQth1vDzyZeQyOS8n/Mh/VR4doof9DVwTEdYitkt4sMmycSjS6uzXKXX4aHwwO9rHZ+lJRwlLtXJkyKq1KxRKRECURKUlmph8926OaO4msaQiXUhwgkKFTu1xfludAm+NeZsnh9St5SVDhSXlIYYFXwLA6ozfMHR+mVJ7aXOb3+SkmQ+jD1uOTfB8psQE6PGN+ZmlSQtb2bKmwyU6kMurr5nKhQwEzclWsqjlWHYgmx+2p7e2GRLniKx8OBGq2rMD1uV/j1fCW5URjhISFxqSQ6gF6Kj2Y25RCRHekec0z43udJ5QljWRVRcONqcdbfivJJv2AjA6ZAbO4tGV1VDOFU/KmAqDIZwHQkYSEDSG7SnFteoIncw34iztj9sWQZHkEGpTiKKIInQRh61VFaoSyw9g6DKXE2X7ar1m/fECnJTRJVpgWMQwALw0Csx2zyb8ooRLubLrdc1uu0QVxYp15Cl/rbNfEAXWlj+LQ78TdzvQ+LgRb7bZ/dEqtdXal5efZHZ4KHanpZUsk2ivOG3+xCqmEqyvcJQLjuoOIYdA4bqXyNv4Zp1zmBxmtJHfcdK4C4CBoQOw5V6G6D7/UmwL7akofLfhEj2f+3K5HB8vFxml7Sc6L9W1DLPP99XaeupuRJ33SCtZ1HL8sD2d1/862q40oS5ExNKxRGuG1NoXa4jHZeosRQhJXLBIDqEWYK05ndGx0SSbMs9pnpmGTlxpbD8hyC2FXKbCdPJpRoROA2Btwafoouc1mUPoVISQxjuUWZPep1/X8RQY7SQX1vxbabe9z6SoZzHEf0yJ5BBqU7jcItbs6xjoW+XACdIG4ygegUEZVOs1q4/k4hN4nPcOPU6OySNafkfKg1zvWArA1NJCbsxq/yeobYkg2w0kCA/X2a9WqJkW+izOsr5Y2sHib4Ujnw80NZ9jqn8P5ufkoZZLX/MSTYvFFEQfrxvw1fh6GipSxnSqKofQeyV7+Sx/W51z2AUHck0+NrdHdL9TQAdc5X0Q3Odfim24fDzeuW/io66qRjk95gXy0ke1m+/5aPll+BlvqdaW6dyE07f9p4xZHALlNhcHMktb2xSJc0CM+T/2mOfV2jcyYgL2vMubbF8gIXG+Ia0UW4DQPjOY1G06Pt5159M3hCl+3RlkKgVBSgE4G+wuB0rDEUyuQgDC9bEItqgmSRlzuNyY7C789Wre3/gcExeOYkisNwDbk2vqCJnKCplhLiRcnCZFCLUxHC43MplQLdIi3CsKR8EUAtQ137tOwc3aY/mMjZzM5xM/J9Yn1nON5QQBQgGiKPLE0a+4LH1JA25uAWf7SGFqbWzyDOzy+sP7A3VByGTOykiu85n9GhWrFTWfQy73pIy5BWfLGyXRrrH7/MYK411VDTf8CGOfrHIIOQVeFXx5VlZ7qi2ATuGDJflhBgdfBMC2nM0YOr9EnrXxWoutRaZ9Dy6/P6q1BfjnoY/7kD+P7z77CXfNhyW3n3lcCyK4ncjk/64yloVbe6KVLGo5LA7P5+umk4WtbInEueAuHUmEpl+tfVvy/8Kr00sUWaQsDIkLE8kh1AL0COzB3KFzCdLVHmXQUF43HmRadCQ4pDLWZ0OZoxxt+K+kmA4CMCbsShwFk5vkJKDU6nHq+HupmGgXuDc3iw7B3gR7a9ieUlNHKM8iZ6TVTLS6N0Xm9lH2ur1gd7nRRX3DQVPVwj7FeAxDl7kcKd1eY/zOlGLKbQ58gvcS4xODTObRcJEh4kaOzelmnCqQa+sutFPFqxHw3x5N9SgXNGWqteTIfq93zLKcN1EH/43Rdv47hJ64YRV/zKz5+vzbmMTs8FBMjtorHkpINAa7S8Bh6kRfn8uqGkN7QECHypQxi0OgUAY5Yt2HHiX2IrSR35FsPABAl4AuOPMvR4Ffc5rfLBS7krBrq0dDDYyOBreWw42pNLbsITj4EzjbzhohTfyVUq8fq7X11E1HkfNoK1nUclgqdGU2Sg6h8xpXyThitINq7YvxjsJl7IndJaUFSlyYKFvbgAuBP1c/yhuZK/npmhWEnYOO0KRBD9KpLAV0/k1oXfvHS+GH6eTTDB0yEoB/8n9E32EZdtfwc5671OI5fffTq4nNszNI1CNTKBkSH8D2ZI+O0ClHAUCWWcZSby928DBK23PnfH+JpsPhcmPNvJkhnftXtgVqA3EUj8BXFVpj/KojeWj1hfya8RGDYiOINHje23LcuJFhdriYrA4F27Ez39wnEswFTfYsFzJ+lpmE+davQzKjw2O8diQNUzuIEPr+6Pe4RTczu8+s1j5+6CN0Ml6HIVhyNEo0HSabC8HckZHBvasa1/wfRA9GpxoMgM0p8KXChCDC13XMY3N6Usbsbo/GVZhXGCpLfxB0zfwETU+QcxoG59RqbZ0CY4hzPkJGrvrsJ/SNhphhoNKeeWwLESVeTYG1+mFkpnMLgt9eYFLrGNVCnHII7UkvwWR3YdBIW6fzEXWH59ljGg+8XqNvSMRg7LnliO62856TkGhJpAihFiBSEJhkMqJTGc5pngGhA5gUNwnBLeW4ng0mpxml4SgWwZPCFaGPQrDEN0mE0Cl9AC+NwKSyrczz9WgIDOkQSG65jfTiKkHXIpOdIoeCATY7o7xupMwsk0QK2xAOlxtkLnTKqgV8iD4UR8EUAtXR1caKosjqI3mMiOnJqqtXMT56fGWfJ0JIhsUuMNd6nCm+Dbh51EDwj2uiJ7mwscvTsMnqTxkL0QeA3HHWKWO704rbXFnsbZteY8uBmttupVyJKIq4aZpqihIS4KmsqI/9hGV5r1U1bvsE0jajV3s2yhaHwP+JAbws1l1Z1U8dgiX5YQYEew5qjhUfg7jnybYdaFb7m4M891bKNMtrtOtD/2af8MLZfc87bVCWCX7RcOBnMDciwqgZcIl25LLqz2EUskB3YaSM9Y7yxeUW2ZbUNv4eEmePs3gkkZo+tfYdKNqJV6eXyTBKmo8SFyaSQ6gF6KvyZ26JEV9tQ3aGdbNs3+eMXjSa7GPtX8SvKSm2FaINX0qG2bNwGRVxEfbcK7E7z32jVHJahNALTgNjNJ5IkqHxnoXwttPKzyfmm7ChJt7pYpB3H9yijDKrpO/RVrA67ehj53GofG1lW6Y5BUOXuRws2VRt7NEcI1mlVvzCtpNcloxBXeXslYluROSYHS7GqIKYbjvD68xu5O/Ulaw3110qXaLhmLRryBL/rHfMHxnz0Ub8fFYpYwVGO9d8upX317StBeOHObl8EjSyRvvG/fOZvWo2Rdl7WsEqifaK0ebCWTqYgcHjqhpPiUqrPUtKq1OgcPBtZA+cWccskG/NQRv5HWmmowBEGCLQlF2FWgxvVvubAyPHKVPsrNHePSgepzWK43lnoUtSkgKIIIrwyxzY+23TGXoOZPILRdqF1dp66q9HzHy8lSxqGQS3iM3pZmTHIHQqBZsSpbSx8xFRFLEXTiBaV3vZ+UhDCC5jD9xuTQtbJiHRNpAcQi3Az8aTjI4Ko8x+bmJlvf278mRRMT42SRPibAjQRGI6+XTlSeSWvBV4dXyNUnv5Oc9davFECOk0bsaYjHQxRAHQMcRAoJe6mrD0yXwTK4WBHJv+O+/mPo7KZx/F5oYIzEi0BHYXWFLvYHDQxMo2f40fjuIR+Kmrb1JWH8lDJnOzp2wp6zLWVevbP2kRX7smYXG4mDjoAWaN/L/6b1yWxYOhwbwRKKWCNgXe5bPopryv3jE3dZ2NLfvas4oQyiq1Iorw4470tlOJxOXgQx89y+x5NbpG6qOZn5NHoExKb5BoOkx2F86y/owOr/icdLtBFEChRlshKm1zCHyes57/ptXtmLW5rMg1+TjdHp0cP40fescgZIJ3sz9DU6Mvv54h6pppKLf2vQZ77hXsTT+L8vOmPFDpods0iB0Bu76ENhAVHi5cQ5ijuoMv07EVApe2kkUtwylBaT+9iqEdAthwUkrtPh8RRTB0mcue8u9r7e8S2Bmx8GqU7rqF8CUk2jOSQ6gFiJXrmWR1oFGcm+c5Nqgbl5osqCWR0LOi3F6G0nAEq+BxAIUbQnGZOzVphNA/2b8zzl+GJc6jSySTyRjSIYDtKVUOocR8E26NH506jeDa+PsQLPEUmaRKY20Fm8sJMjd6VVXKWJA+CEfBFILVcdXGrj6aS7/oAFZfu5IH+j9QrU8M70MOgZjtAi9kreKi45/Vf2NTLouzcphbVILobr70ni2JhRzMbP8VNByKdKxk1DsmxMsfmdx+VhpCuWWejWuJxcnv+7PPycYmw2lmnZeOg66af1e5XIUICO7zXydJou1QbDbh3fVZ/sn7ydPgrohyVahOSxlz8Yz/AN4MGlHnPEGaGCzJD9M7aCAAhdZCSoKfIsu1uVntbw7KVRvIY1WN9mh/Dd4d3+anpC8aPlmHsfB0NoT3hUFzoDQdTq5uMlsbi0t0IJNV/34yujPbfcqYtUI/SK9WMrJTMMkFZrJKpYqg5xuCKOIoGkOktmet/cllyWg6vESyuWaBBgmJCwHJIdQCDFb5Mddor1bOujGkOsoYGRvFuqJDTWTZhUGBNRtt+K9kW1IBGBo+DHvONdAE4nGlFgdqhZwJsWN5ftjzePWfVdk3JD6QrFIrGRU6QifyjIwKKEO5/FGm+XVDdOsosUgOobZCsbUEfew8jpVXVYvJs2Rh6DKX/aVVaWTZpVYOZZUTE3OUeQfn4a2qfqIdt/t1xsj3Y3G4GKWLYIZ/b+rDUZbFu/5+3BkWQomjtEmf6RQrDuVy05fbeWLJ+afPcbZY9CvJdP9V75i/M/9EHzuPMlvDq/jklnk2ARG+WhZsTkUU24D+l8PCL1m5PBV1cY2uncYUZoeHkmvJbwXDJNorZocLe/7F9AupSL0QKr7DFOrTys67KTr6K1kHf6xjFsg2p6KN/I4sczIAPmofAmzXohHim9X+5sCuPkqhe2+NdqVCSZhyEEXFIWc3oUwGcrknSsgQBjvnNZGljSdXsZh89c/V2np5XYcr/bFWsqhlMDsEVH7bOGlez+hOnkrBm6QoofMOtyjiKJxIjL72svM+ah+Utp7IhHOT9pCQOF+RHEItwNehMYyOjcYpnJteTKhPFI+XmukqFYc7K0K1CZhOPk3fIM8Cdl/hNrw6vkaWOfWc5y6xOPD3UqESnFxs6FCtTOyQDtV1hE7mm+jh54TdX/HKsdfQhi+myCw5hNoKKpkBS+odlamFAD4aHxzFIwhQRVW2rTnqSc9R6NNYn7G+WhU5gMADn9FffhKzXWBCzklu2/1LvffNKUlki15Hr4DuKOVN/97enlzEAwv3olTIOZpbXimE3l7Rlcyml/ruesdc0XEa9ow7MdsbnoqRW25HpZBx7/iOHMkpZ2fqWaSBNBNuu5GXAv3ZYsut0TfIrzPzc/II0/i1vGES7RaLAxzFoxgQWiHOKlfBpJchdgRaVYWGkMPFV+5i3lSa65zHKliRqwsQKkrTaxQa/N1DkQl1C1G3VRxZNzMx4Pla+y6Lvp3MrFiKzQ10Pi+a6Sk7D6BQwYBbIHENFCc3jbGNJMQxnUhhRrW2DPs25EH1f7+d71gcLpTehzlY9jcdQwyE+mjYIJWfP+9wCW4MXZ9id9lPtfYH6YLws8xA445tYcskJNoGkkOoBUgI7cOk+Cko5IpzmsdL5cXlbi1BDkl35mwod5SgNBzFKnhS7cIMwQjmjriFc998l1ic+OlVzFo1h3eWXA0ZVeGmnUO88dOr2J5STKnFQYHRTliQZ7F7Z8RoHMUjKZZSxtoMNqcnZUynqipZ7q/xw1EwhSB1QmXbqsN5dAjy4p3xL/HN1G+qT1IRNeIWZVgcLl4xHWVMsFe99w2zm/k+O5dXko/gLkxsugcCjuaUM+ebXcQE6Pl4Rn9EsbrQeXvEpUrFImbWO8agNqBTyyi3NTz0P6/cRoi3lqv6ReGrU7FgS8q5mnrO2P2iWRMcQ5JvzQgEuUKFG3Cf40GEhMTpHC/bi3fXuSQbKyKVVVoYfj9E9kcmk6FTKbA6BR5TRvBfu77OeSJ0nbGkPETXgB6VbUn6R8hlRXM/QpPidouIPuvIcKyvtV/jcxJDlxf48/juhk2YuRNcp63xBt4K130DvjFNYG3jcWFHVqPKWA5yfftOGbM4BJylg8i1pbA8ZTmjOgWzObFQqhB7nuGJEBpHlK57rf0Wp4XiwGdIcaxsYcskJNoGkkOoBRhZkMFcs4hcdu6/7kkhBj4JCWsCqy4ccixpaMOXUlhxit47uDu2nGtRc+7icaUWB356JS/FXsY1RhMYqjZmcrmMwXEBbE8pIjHf44yKCgkEYIQ+Cp0smGIpZazNkG3ORB87jyRjVUpmib2oImXMs0goszrZllxEn45FPLb+MYqtxdUnET0aC25kmB0CIzQhzDyDcHhe7BCKowZymR98e3Jxkz1PRrGFWfN34KVW8vVtgxnTJRi9WsGWdl42125YQZqrpp7H6ezJ34M79FMKbPU7jk4nt8xGuK8WnVrB9MHRrDyc1+paEjq1F+unb2Bmz1tr9B1QwpzwUNL0559Ir8TZc/P8HSzY3PxOSqUQhKNgEh394zwNDjMcWw5lWQDo1B6HUAkCWbK69avSTMfRRn5HvtVznUwmI8o9A42j9g1bW8XucqP0Pkyes/ZU/omd+uIsGktKXgP04ewmMOZAQIeqNu8w6H4ZKFo3MrxAvYhcxZJqbb0NV2FPfaKVLGoZzHYXgjUGL6WBPEseozoFUWpxcji7/evxtS9kOAonEaOvPYVfo9BgEPogFyRRaYkLE8kh1AJ8euw7JqTXHqZ4tjw66HEu6nhZk8x1oRCl64np5NN0CegGQFLZSbw6vkaK+dzLMZdYnHjprEQIbro5HGAIrdY/tEMgGcVW1p/w5JzHhHocQt/mbUIW/QYFJkkgvK3grQzFknYHvQP7VrWpvSpSxjyns/8cz8flFukYIXKw8CDe6n9ttiscQqJMjsXuYqw2nDnG+p0Gq4QS7ndn8lhRCeN9OzfJsxSZ7MyavwObU+Cb2YOJ9NOhUsgZHB/AlqT2He6uKridvrrb6x3TP6Q/QcYHcTsCGzxvbrmNUF+P7tjMobGIosh329LOydZzpTBxDS99O5ojyTVFZ/tEDGf+xfOJC65dRFOi/eB2i2xOLGTl4ZrV5poa0eWL2jSBIL1HTwVjLiy8AVI3AaBTKbA4BL51F/GKum5nuE2wINfkI1AVwRYuH47oCK3zmraI1SlgSbuHyyMfrbU/3i+COMWVHMmxnHmyU2lhgQnV2+1G+GkW7Ktbk6m5CbDOIIbrq7Vl2LejCFlSxxXtA6tDwCv+A3oHDeK2nrcxPMHznbFRShs7r7A4rBi6PsWe0tqr4inkCuK4GZW9WwtbJiHRNpAcQi1AZ5mGiU7ZmQc2gKllZcTtb99fwE1NqaMQpeEoTrdnY+6j9kFm64zMXX8qT4PmtjgwKrdzdeoizAoVaP2q9Z/SEVq4MwOdSkFYoOfncbooQmy3VVYpk2h9bC4H4EavqaoG6K3xqqgy1gXwlJsP9FJz18CrWXH1CvSqf6VEVDiElAoFZofAW8bDDA/3q/e+V4lefNv5Vq4xmjA0QXlhs93FbQt2klVqZf4tg+gcWuW0Gp4QSFKBubJiVntEUKdiFrPqHaNVatGp5BgddWucnI4oiuSW2Qjz8TiEovz1TOweysJWLkFfWnKSNc5C8s01HQEyYy7i7gUIBe07paM9UWZvXNRBmdWJ4BY5nF3W7GLnB0xLIO4p3BWfdTgrHN4KT6qtTq3A5hR4sOvNfNTh+jpmgWhdbyzJD5Pg27GybT9zKdGeX+sbq1NAHbySZMvWOsfIghdy2P0q7jOlGRUnef4f8C+HkNoABcdh+yeVacktjUt0wr9SxspdOSi8mufzZXdaMdd8soUiU+tKJJgdAra8SxkdMZYbl9/In2kL6R7uw0ZJWPq8QiZT4CgcR4SuS51jTqqeJ1vxc539EhLtGckh1AKMl/vwpOPcSs6f4j8nFvBA+u9NMteFQpb1BNrwpZQ7Pek94YZwNCU3oOfcxONEUaTU4qSbz2j+q++Ojz7YUxnkNLqG+eCjVVJgtNMxxIBca4BL3iG+8zTCNJ0oMjXg1FCiRUg3HUcfO49sc1XahcVlxtBlLvvKfsfhcrP+eAGjuuqZ/ud1bM6qpTyyTAETX2K/sjcWh4uhYUOYpaunao4ocnLVE8hTNvLfAD+mH/74nDZ0TsHN3d/v4WBWGf+b0Z+BcdUFWocneE71tya339NNwe9PUh1r6h1TaCkkQ/suhcLBBs1ZbnNhdQqVDiGAW4bHe0rQ72u9EvQdFQbWp2cxNnpMjb5jubuYXbiB41lbWsEyibPl761vMXLhSPal1a5FUyuiCF9OwrHjS8DzOs0sad40Rr3QDW/rZVUp8McrKvqFe0SmdSoFVodASfxwMhJG1TlPiukg2sjvcKy4C/b9AEAn1bXILf2b1f6mxuoQUPnsJ89+vM4x4yIvwVowgaQCY/2TFZ1yCHWo3i6TweA5kLMfMnedo8WNo0T3A9n8Wq2tj/eVWJKebPJ7ZRRbuP2b3exKK2F3WuuK95vtdgRrHAPC+hPnE0egLpBRnYPYnVaCxVF3SqRE20IuU+IonESsV90Rs0HyvmCPbDmjJCTaEJJDqAV4157ONK+mOeW4ydCZW8vOsKiQqEacdjCmk08T7xMHQImtBGfkiyRZ/zmneY12Fy63CMpCeusjKxfEp6OQyxgc79mUdwoxeE5RB80hRafngOwpitwN25BKND8Byo5Y0u6gs3+nyjadUlORMtaBbclFGO0uBiVo8dX44qWqJcJMoYQRD5Ci7YbZLjBq5FPcOX1Z3Te1G3nXR8vHciOXGc1cL/Zn4c7URtnvdos8vvgAG04U8NpVvZjYvSr1Yl36OpJKk5BrsvHRu9mS2I51hLLvop9XTU2d0wn1CqW34klEc9cGTZlX7omoCvOtcggN7RBA1zBvvtrSeiXoj5en8XKgPzmumqmnXX07MD8njy7asyx5LdHy5B+lx5rX6GezEf/nWWywrSWQsR1n2gbk6nxAbH5tE0cUoeJEz7/dAuxeAB3GVqY56dSelLFF+7/g/zY9U+c0NpcZhSYf1YnfYdVcEFxEaYbgsoU3r/1NjM0pYE56nKvj6q5seHX3cQjmTmxIOkOlsOEPwP17QGOo2df7elB7w84vztHixuFruok4xTXV2tLtu1CHNm1El9HmZM7Xu3DK8tFGLORYfutG4hRaizF0fJN/sv/ilZGvMDluMgPj9DgFke3JxWeeQKJNUGovrUgZq3s91kM7A0y1l6WXkGjvSA6hFqA7WsYJqjMPbABDfDrS02IElyRG3FBKHLkoDUdxVWgVaJVa1M4uyN1+5zRvqdkJMhe/5r7AwvA4mLGw1nFD4j05551Ope4c/YOosgKGet9LWVl4q20mJapjddkBN3q1urJNq1R7UsZU3Vh9JA+tSs6VPfowb9I8+ob0rTmJ4ILjf9FBUYDF4eK9HW8w6LuBdd/UlMc7+YU8EX8l3e7YwpKc4Tz92y5WHzl7LZDX/jrK0r1ZPHZxF64fVFWRxi7YeXXHqzyx4QluWD6dqLidbEkqarevO7cmBYuQDRk76kyvUCvU6NVKTK6GOddzymo6hGQyGbcMj+NoTjk7UlpnY5BnL2SVlx5LLRnJCrkSEXCL0il2W6d4w+tsM/jydofprLWk4cxt4EFBsSea8Xj+OrwS3sW721McyipvRkshUf4+Ofr3PD+cXAXlmTBwdmW/TuVJGbu7pJQv8krrnCdWPwjf5JsJFwSwFEFxMjusr+Hw/7ZZ7W9qLA4XmtDf69UkjPJXYej4Br+n1r5GqESprqkfdAqNN/S9AQ4vBVPLO0kEHDWrjLlyUBqO43Y3QDC7Ifdwi/xn4T4SC8p56pI4VL772JO3t0nmbiwulxpr9jUMDx+M1WXlosUXccj8KxqlXNIRamoEJ2Tubpa0SCUaHIXjiNTXrdO4x/EmJt+vmvzebZqsPdBE71+J8xvJIdQCTB7yEA8Pm9skc31uPsnF0RG4/13dSKJOMqyH0YYvxSZ49EJ0Sh3BtlnohXMTjyuxOECU8Z8ub3Nl9IQ6x43pEoxCLqNfjJ+nYdnD6A/+TGffPjhdbsyO1tMgkagiybgXfew8Su1VizyX6PJUGStfwrbkIoZ1COTW1Tfy0b6Pap/EaYEfpzNG3IHZLjC4MIPbCvPrvKezLIv9Gg1q73DSlUpKw95FYTjKfxbu5WhOwzd2n29I4ouNKdwyPI57xlZtKHbm7sQpOJk3aR5fTf6Kl0e8zBUdriOr1Ep6cftMV5QFLiPf/At8ORHWvlTnuJ3Wt7Bqa0n7q4W8Uw6h01LGAC7vG4mfXsWCLamNtvdcGK0MYENmHgkBNSOdki15zA4P5aAxvRUsk2gwRUmsTfubZwMMLAsI5rngQHbu/rRh11aIEPex2XFZ4lCYhnIwu3nXBmrzCKIVFRFCwV1g5EPQZUplv74iQqgUN+nyujcayabdEPkzZfIKb2bBUbp7XY6rdFhzmt/kmOx2VL57yLXVXeFNq9IQJ87GWNi3/sl+mgUH66k0OWgOKNSe1LEWptzwHRnu6tEVvb0vx5z4NCJNo5H5+l9HWXcyhQ595hMVLNDZ9g7lxXU4yFoIq8ON2tmZaJ9odEodN3e/mZFRwxkcHyDpCDU1m96DeePhj/80uVNIrdDgKJxEtL7uqOAITS9clrgmvW+bJmMHfDEOtnzQ2pZItAEkh1AL8ErRDq5LbprqEOOD+vB8YTFui+QQaigJutGYTj5NmL6qnGSez/OkCb+d07zFFgdydSEBpTsJ/3Qc1HGq2znUm91zL2Joh4qKRiodOK38nvccmpCVFJukaK/WZuXhXNbu8yfM8hDhhrDKdoVMgVA6En9lR3LLbEQHaOkT3IcY75jaJ6oUlVZicbgYrovg7tK6UzgKSk7yZEgQ2225BG/6lL45PZjecyzeWiVzvt5FgfHMqaa/7Mnk1eXHuKR3OM9d2h2ZzLM4L7GVcO/f9/Lu7neJ9YnFW+3NtIRp+PnnoA7+q92Wn3dk3MsY9STPDxvfAVftv8OLA5/FUjgU4UxCr3gqjAGE+FTXgtOpFVw/KJpVR1qnBP2WiG68MvgarEJNkfAO3jHMz8mjt+78SsG54Nj0Lldbnfw0/hNm9rubH4lgWOLGhm2IipMRgP1aDWLmjYwPupfD2c0bIeQ0dSReW+G0CegAF71QKSgNFRpCToEljlzmGup2FFgFE25NEZxyJuQfI1bbD7s56ryKXnQKckwnXuCqhBvrHTc2chzpZfkUmetwxFtL4civUJ6F1WWl1FZac0xwF3j0JHS66FzNPmv0ZbPoqLyyWlumbRea8MW4hHOPQly0M50vNqZw/aBIQgw6vFRe6P1Okmje0qqvhwzrYRSxr3K46DAAs3vNJsIQQd84kZP5pnZdoKFFcQv8cXABh/3CeNOdT4m9tEmnz7fkY+j6FHtLVtY5pr/vVVgKh51Z/L29UF5RfMPZ8msXibaH5BBqAXqJSkZ5nZuA8Sm6dJrK8JHP4NYHnHlwC2J3CSzckd6gzVVLU+TIRmk4CrKq00pvsQdy17lpa5RaHKj8dvJy3kLQ+UFw3RFHfvqqNCRUenBauCbuXhzFIyi2SA6h1uSnXRnc/d1uOoVqeXJyFxRyRWWfXCZHLJ6KD90w2l0EeSt4avBTTEuYVvtkFQ4hlcpTZeyjskP0jYuuc3MX7JfAb+qujE+YhubkSq40lyDoDvP5zP4Ume3c+e2ueqtYrTuez+OLDzA8IZB3r+uDvOK0PbEkET+NH++Ne4//9P9PtWvyHcfR+h5lQ2Lm2fyazhtk2mSS9f4ws6K87J5vah3no9UhU1gwN0AYNLfcRqCXGo1SUaOvNUvQp+JkRekRFLKadsm9AhH7zcQVXHeIvEQrU57D8SOLebvzYEKCuqGSq/Dtcilvy8owpTUgeq0khYMaNQ+GBhMWcIidwuOUa5eRX948m1S36MYS/hwp7l9g5zzYVTO9QltRZWyOPp6vS+r+buugG8FVab3wdbvBEAr5R9hS/iHa6Hkebb7zhFJbOZrQ30kzHal3nML7GLqYL/jr+O7aB5xWYeyZTc8wetHoqkpup6PWg8MCpS0b+ecWHcjk/6oyJuSi9DqBwLmlnGxLLmLur/uJ77KSe8bF8t3U7xgQOoBccS1O/TaKza23RlIJ4ejLbiDWx7OGt7qsXPHrFeTIPGLqdUYJCU7Pd08TOMsuBBwnVvCGXuSFyFh+NiWxI3eH5/OliUTUtXKdp8qYvu6Is23ln6KP/Ri76wJJoTr1+dLjyvrHSVwQSA6hFuCyY+u5P/1ok8y12ZLFxOOfctLetk73lx/M4clfDrL2WN3pMa1Fpm0f2vCluE7T0oiXzUTjOLN4nCiKOIXavxxKzE40RYP5MqcAZa9rPYLCDaEiQqhvSB8QFRSbW7es6oXMZ+uTeHzxAUZ0DOLKkUU8uOEubK7qmyllh2fZXuqpgrPD+AXT/5xe94QVjh+VQoHF7mKANpTZpeVVX7z/IjM4nhPDZqP1Csah9CLdq5xlWR9TLjvMu9f1ZU96KU/9crDWE9K96SXc890euoR589nMAZXOipSyFK5fdj3zD81neMRwfDW+1a67vfftjPV6nR0phQhNUOa+raEM+Z00y98QNxqih8LGd2uNEtpQ9Dma4JWY7Q1wCJXZCPXR1rpBi/LXM6l7GD+2Qgn6GUYzG/vPRa1Q1+jLFCzMzl3FbqF5I0YkzgHvMA6OfoAlznyUcs/3R1FkX3708eFw8eEzXz/xJXoOfYivcvLoQhTDw8bjtkVyqJmEpZ2CC3veJXTU94V/XoeTq2uM0as8KWNlokCqwvMdWtuJe6J5GwvDCrFd/SVEDoCCY/TyuRhH0Tgc59GGrMxmROW7hyJ7/dUGr+k+FmvGLeQW+dY+oKhCcDowgcFhg3l4wMPIakvFEkWYd5EnraYFsfp9Q6prebW23j7TMCc+jULWwLVPLaQVmbn7u91EBJuwaXaxt2B3ZZTrQ73ewppxK0kF5nOy/VywO5R4iz0qv0d1Sh2vj3qdhwbdQZBBw6bEOnSE9n4Hv98POz5vQWvPX9R7v+PPYicfT17An1f9ycWRY/h613skf3up53d5jmiUXp6UMa+6D0ii9d1wmTtjbeHv8VZDyjSROA3JIdQCzKWQWbKzF4mtja7esTwfPZVQW+t9QdbG/gzPAnRTG8ypTtBOxJ78DDqlrrLtpPxN8lTfn/Haj/9JYthrf9e6aSwx2+njs4JAlwN6X9dwg1R6cFpZnf09+thPKZJSxlocURR5bflRXvvrGJf2DufLWYOYljCF+RfPR6/UVxsrKx+J0+xJEesfPJSp8VPrmbgiQkipxOwQGKqP4P7SsjodQhsS/+Cx9Y/hcDuwyb0YahF4beg8RkWNYkL3AB6Z2Jmle7P4+J+katclFZi4bcFOgr01LLh1MN5aT8pGia2EOJ84HhrwEFd3urrWe2oUGrrHuLGFvcK8vfXoVZyHiKKIJeUBns47BvMmwLinILI/2GpukK+KeQB73jRMtoY5hIJ83Yz7aRwvb3u5Rv8tI+IotTj5bV9WkzxHQ/lj+7v8d8/7tfZFaYOZ3/NeBuojWtQmiQbiFkAm45oRz7D2unWVG84+USP5Z8ZmhvS/88xzGIL5Ra+hWBZPoM6HZ0c8isvUhYOZzVOq22x34Szrx3hrLpgLYOBtNcbo1J6Usd9lFp700/LjjgyGvf53jehhm1COTVOGovvlnhPqHlcSZ+iFYO5wXjmEVARgOvFC3VGjFUT5BhHjHcWWzDrEp4uTABklOn9GRI5gdNRorvnjGo4U/SvySCbz/L6S1kJhYtM8RANQF91KJ81l1drSbbvRhC/GKTgbNWe5zcnsr3cheO3mixsuZvlVf3J5x8sr+w1eRtTBKzma13rizVnCP+T5za12UDQmegxJZUn0STCx6WRh7SlGQsW6Lr8Bjt0LHFEUeVJt5XDfawj2jiBEH0KJYGW+ny9LIhLgt3vhryfPKdoq25yJoetT7C/5u84xg4Mm4yi86IJxCJWVZ/G3Xkfx2hda2xSJNoDkEGoB+roVjJDVUqK6EYQovRi9+Qs0aVubZL6mYn9mKUCbrLpQ7MhA5X202mlbgKILOCLrvS671MqHa09SaHKw5mhNh16uuZB9YUfYEBIHYb0bblDCOIgbydWdr8SafQNFJilCqCVxCW6eWHKAzzYkc9PQGN6f3g+1Uo6tQofl9JQxAEXZVEoKO4DczvjYsczqMavuyRVK6HQxVq9ILA4XnxtP0CcuGpdQu9PvmoMrWOIKxlvljQU9PtgYGtmX/+39Hzf/dTN3jo3lsj4RvLXyOCsO5QAe58TNX+5AIZfxzW2DCfb26NocKjzElF+msC5jHTd1vwk/rV+dZk7p2gNXeV/KyoLrHHM+IrhFFPpkjK588I3ylMOe/j0YaqaH+uh0yJRGjA2IEMortxHp48/kuMn0COyBW3RXixYaEl9Rgn7z2ZWgd7jcvL3yOLvTGrGBd9k5gJWdYu2aJHJ7OeLq53AnrTv7uSWan1XP8ve3k7lr9Z1YXFV/Q5lMRqYxkzv+vImC7HrSJexG7L/cwavHv+EZwyjMAd3YU7AF7y4vsDO7/vSlxrIn7yDeXV7EVvgj+MVAwvgaY3RqBaII1499mx8uW8Ifh0+SV26h6F+RsB20E7ghoweq1I2eA5WxT7K5+Bu8Ovz3vErZyLfmogn9nSxz3aLSp1AGruGk+8vaPyOKksA3ij8z1jD1l6m4RBdapRaLs5b3d/+bQa6CXV82wRM0DLfMjox/VxnLR+l1Aqdw9htol+Dmvh/2kmY8gRj0AzuKluOv9a82xiLmog7cwOG8M/9umwulvRvRws3VDhRFUeSpjU/h8tpMkdnBkVoKQJhtpbwZ4IdZY2hJc89L8ix5HJA5KIofXtnmr/Vn0bSfeGjG32zodw3b9s+H765sdFSLTm7AUTSOcF2HOsdsKV6IV8dXsF4ghV6OdRzFg6HBJNrb3r5NouWRHEItwDUuFXcoQ5tkrhIZTIiJZFnxviaZrylwuNwczi7HR6skudBMZknbql6Uad+FPGgpMoe5Uvi5u/Z6MA6t97o3VxzDLUKQQcOve2ue/NssKp7MjmZKj5meU7uGMvpRGPcUnQPiUIq+5JvbbkqH2e7iw79PMuL1taw8nNva5pwzNqfAPd/v4addmTwwoRMvXd4TRYXuzivbXuH5Lc/XuEaIeh6L4TdUPnu55e/J5Jrr+T3o/OHGn8gLHY1TEOnZdw5z+tyJTKmtdfgeay5Feh9kMhkmtBhkFvz1aroGdKV/SH9ERN68pjd9o/14aNF+tiQVMmv+DkotDhbcOpi4II+j2Sk46eDbganxU+kT3OeMv4fYQAOhzukczLCzImVFA35z5wduEbRhS9mkMoFvtKdRFOHYn55yzaexKf8XtJELz5gyZncJFJkdiJpEegb15PKOl/PStpd4adtLlRu7UyXoj+Ua2d7AEvQ2p8Dd3+3mf+sS+XlXxtk/bHkWzxSV8EPX22vtLrCVMjs8lC3G1ttMSdSBuRB2zcem8cLkNOOvqb4R1opyMnL3kLXtw7rnKE5Bc2ARa3s/jqVwMCF6OZ39OxOjuJSkvOZxqHgpgjDkjWJQ0WEYcCvIay4hdSqPQ73QUkZyaQoHZU/g3e0ZjuZX17xJMm+gOOwvOLHSEy2VtYfBum7Y8qecVxFCZbZiVL57KHec+X1/edwtmFLnkFxYS4T36Efhio8ZFzOO8YH388SPBTzX/xO6BnRlf8G/qop5h0L3y2Dv9+BomWhxZ+DXpDqrC/L28ZmKOfFpNEpNHVfVzSvLj7Ip9TAvTbmY+RfP54auN9QYMyFmPJGl71FY0nqamU6HjhBF38o0NgCVQsVXk7/i1dHPAdSaNnZI58W3vj4sjenVYrael7gFQvb8wLLxnzElfkq1rjCvMORKNZ8qrXycMACxKLnRr3cvlQ+OgklEGzpC/lGo5aAk1tARl7E31lp0BTOKLS2eEt7c9Ir0FAfY6mieiFKJ8wvJIdQCPKw0cperEQv+WvDVBfBsiZlB6M88uIU4kWfE4XJz64h4ADa1sSihjurL8Mt6BF6LhE9HgihywPERFv8v6rxmX0Ypv+7L5vZR8VwzIIoNJwtrRPJk2E8wP2AS/sPPMpffVg7l2RwuOow65gNSjccb81jNisPl5ustqYx5ax3vrD6BxeHi0Z/2k1rbQvY8wSm4ueWrHaw6kscL07rz8MTO1RZ5b415izdHv1njOqV5hKeksyOe+/reR6i+Hueu2w12I15Kj6Ogu38/7u93f42oo1N8prTypVgKwAafaXyguAWFXMZFsRfxxOAn2JS1ieTy43x+8wD89SpmfLGd5EITn988kJ6RnhSTffn7mPbrNDJNmTw37DkCdYEN+n0MTwhkn3ERr2x/BYu9HHZ+ed7nlLtFEVnyndxVUuSJEDrF1o88IefOqrD/qzvchDVj1hlTxvLLPe/7NMc6/rftNWRl2fhp/PDT+FUbd6oE/dcNKEFvcbiY8/Uu/j6Wj0GjJKcxlWrKMnk+KIC/XbXryQV7hTA/J4/h+vojISVaga0fYRdsTBn7Ct9N/a7G50OHoK4s9x1O7xP/gKuOlOLiZHZrNKy05bLDfQ8XF31NmFcYl0TPIrfMSWkzFCsQBS2XG80Ei3LoN7PWMaccQus2PM2jGx7BWTIYgJxyY7VxDlc+GSq5533qdsG8ixhVeADB3AW76/wR4vWSxeNOfYlhFZur+hib0A2FNqd2YengLrhih3OyOJEtByLZm17K5R9t5tZlj3L/2vtraNsx6Hawl8HBn5voSc5A3m101l5arSnDuhdN+GKsdVRyrIvvt6fx9e7NGBLeR+G3nUFhg2r9jlTKlagC/+FoWQME1puJIs1SDsterdEe6xPLXxmLiItKr1VYeuDAu1l59Upu6nqDx+EpUSt5h39h4okv2HJkYaWO2unIZXI+uegT3pv2PZm3/MZvhXs8a+jjZ3eQlVaejKHrU6SlfAIfD4Xf7quhLTgoZBT2vGnY/uWQLjY7uPi9Dby4rHkiL1uLjPUvE+xy0cnWjIf4ghN2fHHery0vBCSHUAswMKAbQwO7V/58Ll5mpVzJeLzwc7SdMoH7MkqRKUvZ43idED9bm0sbK3am4q0/LW+/8CTB6o64LLWXDhdFkZeWHSHYW0OPjhnYvZcjuEWWH8w5fRAu12JKNUuqORUaxOrn4LPRdAnoQqD5Dly209JZ0ra06uLB7Rb5dW8WE979h+d/P0yHYANL7h7OH/ePRC6Xcc/3e5rslMThcrdoOdk9aSWEpC5jZcISbqlwXp7i2yPfsiN3Bz2Deta4TmuagmDqTqCXnpk9Ztb/9y7Pgtei6FHoqUDyw9oH6bOgF1ZLLZt2h4UPc3J5KdyTdrFH7MJB79GV3VaXlVe3vcqCwwsI8dbyxayBdAwx8N71/RjRMQjwvFYDtAFEe0fXiDI4E8MSAjHlTObFgfPRrXoO/nwYsuvQtzhPENwi/oZDZCsVVQ4hmQzGPgWmXNi9oHKsn06PTGmi3Fb/ZuZUyfnbuz3N136DkS2ZzQO97uSBfg/wR/IfzN00F8EtoFMrmD4ohpWHc+stQW+0OZk1fwdbkgp5+9o+DE8IJKfs7D/PnSVp7NRqyKT2zbNcrkQEBHcrbK7tRvjmCsjY2fL3butYimHHF/zQaSiTNzyA0WGsddieuIFMDNaTfOjH2ucpSWGll54PkpZgQYe/6Ik03W76AH3M581Sfv6v9F/4vuMe9lyyBAy1p5vq1J6N/aXKGL7LKcJRMgzj0deQuaqPHyz2YnF2rud9qtRAYAJ/W3dj6PQqJkfDHaStfWqfZ0tBFfJ7/ZGjFXQMMqCLWMTqjOrizFhLYPXzHDqxjPvX3UeJeIC5l3RjUFwAu/cNJs55Pw7XvxwmMUNhyF31VjdtSkQcyP9dZawyZazhGkJbEgt5/vd9jI7tzQP97mdy3OQ6x8pkMopkmyhxH8Xuap2/s1g+hJ7am2q0q+Qqfjr+E0HB6exMLamRZvTRlpe4eMnFfPK/TpCxo6XMbTVsTqFRkX3WgwvpLsiI7V675iGAr8aXAG0AC47/yNu73qZs45vw4/Xw90ueQ7gG4KXyxVE0jn75ez0N5ZnV1gMAu4pWYuj8Avnm6nuYhTvTsTgEFu/OpMDYfiQe/khdgVEuZ0pJQZ2VcM+Vov0/8PCu17HaSptlfommQ3IItQAzrvyBWy6ZB0BWqZUBL63mgR/3Nnohc5OvjHfNJ5rSxHPiQGYpfjo9B4v2EBVzmM1JhW2q/Hymcys5fhurGtK30tfnMqwFY2t1SCw7kMPutBIenpjA+3vfJszbi4RwO4v3nVYpLnMXv+T8wxzHqLM3qEJU2kftQ5AmnCKLydOeuhm+mgK7a5bybW5EUWTtsTymfrCRBxftw1ujYsGtg1h0x1AGxPoT5a/nv9f34UhOOf/3x7mLJK49lkffF1fxU2NSZRpJZomVKFk+XbKWwKElle1u0c1vib+xPmN9rdeZQ15EE76Y8sBXmX9wfv03OU1UGqArBuaUlqGo5XUmGLNY5aXHqvMDQFd2kutkqysjAnRKHV9c/AWvjHgFi9NCjwhf1jw8hkt6hwOwv2A/t6++HV+NL19M+oJg/dnpAQ1LCEQUvCnd9hU3ZS9nz8AboeNFZzVHW8MtipSE/cNK74CqlDGA+FEQOxI2vQtOj/NlT+FG9NELKLSW1jtnbpkNZHY2Fy7EGt4HMrYh+/v/kMlk5JpzybPkVVYwnDnMU5r42621l6AvtTi4cd529qaX8uEN/blmQBQRfjpySs8+QkgV1pPl8TOY1e/eWvvLXVZmh4fyjyn5rOc+Z0rSIHkdfHkR2E0tf/+2zI7PwWGkc++ZTIydiLfau9ZhMV0uo7sLnCfqOAkvTuYpu5JXB39NqeiNt9vjALqh2zXYCydwsELXrymJU3fDlncJXuF96xzTP8YflULG3rwy/tBrMXR8E+9uT7Elt3pFsmT738wNOu19GtyVscYibDlX0NCl0Q/b0+n9f6tY1YrpzGXOAtxeu+p07J2ORqWmi/tZbHkXV+8oPAmb36ObqGCMz7PIbV24blA0X986mEfHj2bzcRi74HZ+OXyadqRMBlPegJghTfxEdRD2Fcm2NdWaevtOxpz4NHpVwzQyUwrN3LVoJV4JbzN9jIU5vWfX+fo/xWM95mPLu4y0otaRIrBZfYjS9ajRLpfJ+eWyX7i/38M4XG52pFaPgOh96A8AFnjrsGTXEhHWDigw2lm0M505X++kz/+t4rYFZ3cA4CxNR5u8ng87XEe0X93aPqd4csiTfDPlG9SjHuOH7uNxb3wbFt5Qa9GIf+Oj8sdRMIlullLoMA7iRsGGt8FR9bqK8YnBWdYfh6vq0M8luPl2axqdQw04BTffbk09q2dsy8wuM9PZ4WRORFizpZ7+efhb9ut0GNV6th383vNZ1wSsO5ZPmaVxYvYStSM5hFqAu1fM5uG/7wfg+21pWJwCv+/P5qZ52yk2n31Y90Oho7gqcvSZB7YQ+zPKCI7YxUMDHmJmt1sotTg5lNU8ZW8bQ4LiGq7MPc1xk76NPaZv0cd/UEO80uYUeP2vY3QL9+Hq/tF8O/VbpsRPwRk8j5N8RHqR50PTufdbvvT1Iz2wEYsxtR6cFmRAovIN8mQVC+XY4RA/Gta8CMamqUrXEHamFnPdZ1u5bcEurE6BD27ox7L7RzK2S0i1aJjxXUO5e2wCP+7I4Jc9mY2+39K9mdz+zW4sDqHBeitNQfiBj7hJuQZ3WB/48xEwejYRcpmcn6b9xBODn6j1Oo1tGIK5I10VdzIhdkL9N6lwCOnUnqpfCbIQ7i8tQ11LKHSRMYeXgwLY6fJs5OKMe5hd+kG1xU0H3w4cLjrMpCWT2Je/r9r1ZfYyCi2FNVMJGkiIt5YbAk4yMelTRJ0fpt7XQt4RKGg7zuazxe0GU+LjqHsvgagB1TvHPQWmPNjlcbhOiZ+EOeUeXM6aJdtPJ6/chlxTwM9J88koPgaD74RtH8Ox5dzR+w4+uegTUspSeGHLC4T4KLm4RxgLd6bXODEuMNqZ/vk2juUa+WzmgErHXrivFqPdhdF2doubQ2oVT6ttZNtqTxnz1QYwnwjGhZ05laXJCeuJcMufbNdqPRGRElVofMjrfQ3dOk7hsUGP1Tks2DuCDyMuJjBpPWItTjVncTLvBwaRXpZPMd7oXZ7PjckJYwlW9mBvdhM7291uxu14lieNxyurGtZGdICeG4fEstqWzSJfL3poZoIzmFJr9c8plyufdJWyyiEU0p3uZRnITZ1wCmc+UBJFka82p+Bwubnn+z0sO1B/2ffmwuDuTWjJW3Ty79Sg8T0iAkh1LafIctoGrMhTRXKNo4BdSS5GJkTjo1V5onLHduTrW4biUqXy1B+r+GJDcvWqVknrYPMHTflIteLKup0uXtWjeTKsB9CEL8bSgIj1MouT2Qt2Ihf1DIroRbeghAbd16FMRBP2K4l5Z3a4NTVut4gs7Ct2mz+rtV8pV7Is+220/rtrVNgdVVbM9oDxbC6wos8/1hLmNjuiKJKYb+TjfxK56uPNDH51DU8sOcjRHCORfjoOZZ/duv+fLW9wcVQYB+Pr1/M8hUquIt43nj/TV/O6NYlD4x6FxDUw76IzVtxLKj+GoetTbHMXgE8EjJ8L5nyPg76CvsH9sOddhlyskuRYdSSPnDIbj13clYu6hfLNtrT2ITotihwUTMT5d6LfgLugOcTPLcXckLKXN4NH8VfqCm7f8zrHv5kCOQfOadqMYgu3LtjJU0vPbR6J6kgOoRZgaMp2BhSmY3MKLNyZwcRuoXx4Qz8OZJVx1cebSS44uxPUoRNeJWLIfc1k7dlhtrs4WZhPoWINJbYSkp2/Iddm1Sqy11qUCMmYtWkgk0PnKZC+hVBtHIK5Yw2H0PzNKWSVWpk2tIgb/7oBt+gmxieGZwY/iy33cpbsTSEvbSNphxfxcYAPFnUjHBoqncdxIDgYavgP9qIKp9L/BoIhDFxWWPVMEzx5/RzLLWf2gp1c++lWUossvHxFT9Y8PIbL+kQgl1c5gr48+CWjFo4i25TNIxM7Mzg+gGeWHuJEIxZo8zel8NCi/QyJD6B/jB9J+S0XPaAsS0UlE5FfPc8TJfLHfxDdbm5beRu/Jv5a50mlt3Uygrkjcd5d6ejXsf6bVDiEAr09ItILyw7RJy6aMnvNhVJQ7Ej+vvZvpgx+AIB8e4Vjwl491aOTfyeGhw8nQOsR1jxceJg3d77JyMiRLL5sMaFejRSsLzzJ8/a3yHJH8tVVqxgSOpCUb6bChrcaN18bwOkWUHglYhZqajoQN9JzKnhoCYgiBo0OtdpGia3+k7GcMhsaIYathS6GluTBpJcgvA/8ejeUZqCUK9mTt4ct2VsosZUwa3jNEvQ5ZVau/3wraUUW5s8axIRuVX+zcD9d5X3OhoLU9ezK3lqteuLpyFRaxEkvIXS+uNb+5mRt2lr6rr+bOeEhHN//DSR6Sv26BHebOixoDKmFZu75fje9X1jJ7d/s4qddGRSeTaXIYffweXgcl/5yKXah/uu2xPTjoogg9ufXTOXMGnQrXyttJJYkUSx6o6kQNbY4LZhCn2df2fIa15wTu77kXU0B86Py8dbWdHCfzv3jO9LNGMI7eQVc1vESwo3Po7VXPzzpqLqMCXkjwasisjGkKyu9dKg7vUWuOaeWWauzN6OUk/kmnpnajX4xfjzw495zOqhoLAWOY1gMSxoUIQQQ4FeMOnglq0+cJhRdlIhdruDZ/f+jRL6ZKT3Dql0zMiGatdcvZ0zEVF5dvYnZX++s0jQ8uQr+frHygKO5EGurMibkeVLG3PUfbDoFN3f9sIlc3cf83xVxzJv8MbE+sQ26r40clN6HOJLX8lFgVqeAvWASA/wuq7Vfo9CQb80lJvhfFXYFJ9cEqHnFnsqC0GiWFJy/qbOCW2RHSjGv/HmE8e+s56J3N/DmiuM4BZGHLurM8gdGsemJcVw3KJpSi5Pyhh5suN30PLmBe2QBdI+feFY2Xd3pahZeupBeo+fyy0WPYbMUnbHinrcqAGfRWDpZisE73JNy2XGiR9+mopz9sbI9GDr/H0llVdkACzanEh2gY3zXEO4Y3YFSi5PFu1susr3ZsJfzjr83VoWC+/o1z37y+O7P+cpbT6feN3NDtxm83f9RuqBh6w+X4z6HStkbKpyvyw/msiWp7ew1z3ckh1ALMMvi4kZdDMsP5lBsdnDzsDim9Yngx9uHUG5zcdUnW9ieXPspb228vPk57lxxazNa3HB+2ZuFW9Dx1uCl3NjtRhad/JbIsGw2nKhlQ9ZKZAsb2eqTBoZQ6HoJhPdlgN8Y7PlTsZ8Wm15gtPPxuiQu6hZKz8gAAnWBlQK9F3ccxoDwHnyf/Dq3rbufSLkX8uOP0CdweF23rRtVxemD00KMIR6zy4zdUg5FiRDcBUY+5BGKbKZy0RnFFh5etI8p729kR2oxj0/uwvrHxnLT0FhUCs9Hwu683dy0/CbK7GXE+MRwc/ebCfcKZ0vOJj6c3hcvjYJ7vt9zxgpNp/PRukReXHaEyT3CmH/LIHpH+ZFUYG4xHSG9NZtiZSgEd4YJz8OJFRj3fIWX0guVvO4T72L/VzB0fpkVZQ+eedFf8SwBXhqUchmBDl/mlJajltXcQKWWpbIxcyNy5NicAoWnIlXs1e/hpfLizTEesesfjv7AluwtrE1fS4mtpFYRxgZjCKE4cjy32R9hf4GbBzc+zgNhoQjHljVvmo+1BNa9BmdI1WoMDsGFLmIJssQXah9w1edw618gk3Gi5ASqyPlkW5LqnTO33EZMyD+sFMtQx47w6J1c85VH62vzewDM6DaDXy77BY1Cw+biBXQJ07Jgi6cEfUaxhes+20p+uZ1vZg9mZKegqslFkb5ZP9JNlkZ2PbpDtTFu63xWyaIJN4TX2m8X7MxeNZuVKU3sGGgAAZveZ4LMmxcGP0Nn33hPlJAo8t6ak1z64SaO1lKmudHYTfDPG82emlZidvB/fxxm4n/Xs+5YAWO6hHA4q4zHFx9g0CtruOaTLXy6Pomkug54HBbY+A5YS5jRbQbPDH0GjaL+6kx9ul/Dbb3mEFpL9Elcj2vYceNOghQDKRG9UQgeh6JepWeM//0U5HY7q8/neilKgtXPMdYdRV7hJXhp6v/cCTRo6BzjwyOhwfyZ+wZO3985ZK+eCr1Omcn7QZqqSmVhvUnw64N/7ihU1J9GBPDTzgx0KgXTB0fz9W2DGZYQyCM/7+fHHelnvLYpKXNlYVZvw+lu2Eb4hp4TMR5/jqKS07QDi5PQ+MZwacD/EEpHMrF7TSd/kEFP527rCer8CZtT0pn6wUa2JhXBoDmACJ+Ngd1fN5sGoSpyPin26mnVvX0mYU58Gi+VT73XvrTsCNszkvH3KyAk4Owc3zf3nIFP/stkFbf8dsXscOF2BBHj3bnWfplMxoLJC7iyw40cyy0jv0JvDnMBlxvNjPTrwia1jD32Io+47nlEmdXJE4sPMPDl1Vz32Va+3pJGTICel67oydanxvPH/SN5YEInukd4qqRG+3vWtRnFDUvty7LkkDbxOe646P06i27UhUwmo3tgd44UHeGFkz+wdOJjcNH/eToLT9aqh+OrCsSnYDAdHHbwrnC4Tn0Lbl8LCs/nWbR3OM6yvsgqIoQOZ5exI7WYWcPiUMhlDIz1p2+0H/M2pbQpWYxGYS7k09x8usv0jPqqFwVHlpz5mrNkR+IyvvD3g9DuqBVqLu41iwNXvMcdQQYWL50BSWsbNe+G4wUERmwhPNDMi38cwSWcP1Up2zKSQ6gFmOWj4BnzMb7ZmkaHYC9GdPQ4GQbEBrD0nuEEeKm56cvtLN3bsNOt68x2HkxrfbX79CILry0/SkKXdZTKtxKsD2bNtWuYGns9e9JLmm4xeo7EijMYUXI5jPgP9J8J133NHuMKvDq9jOW08pLvrj6OzSkwpl82g8IG8elFn1ZzFFzeN5KOOUHcXZDHb72vx+p/iBDDmReuNdD5g08kCE4OWBaii/wRY14KTqDMEAIjHwb/eNj03yZ4+ioKjHZe+P0w49/5hz8P5nDH6A5sfHwc94ztiF6tpNBayMvbXuZo0VG8VF7YXDbyLHlMjJ3I7b1vZ0XqCu79+15OmnbzwfR+JBWYeHrpwQY5dMptTj46+DL9uh/jvRt68UviIgL8jJjsrkrR3lPklduaxUnk58jFpIvw/DDkLug/CzG4Cx9O+JBpCdPqvE7vGIq9YCJXRj2Mr8b3zDdSG1Co1EQH6DGYfbm/tAydomZa0tb1/8cLW1/A7rJRaLJjwhMp8m+H0Cl+Ov4TazPWcnOPm/lp2k8NriZWA8EJ5Tmg9cVr+nxyZMFsTizktp63MbfXXcidFji2rHFznwlrKeK3V8L61+F40zsqFCh4O03NFfY60sB8IkCphrJMunnH4l38EGpX7eLyp8grsyHT7WaVlx5iKtKvAhPglmVw8WuV4wxqA1uzt/LjsR+5uL+bY7lGftyRwbWfbsVoc/HD7UMYFPev8skOEzE7XuQJ5cKzihASBDfz3cX8V163g1Kr0DI/J5/JOfU7vJqDPkXpvKftyJVdr+Ojvpfw1eDryS23M2+TR89o6d6sM8xwFuz+Cv55FbZ/2nRznobNKfDZ+iRGv7WOr7ekcnX/KNY/NpYPb+jH5ifHs+z+kfxnQiesFenGE95Zz/i3/+G15UfZmVpctXHY8zX8/SIHEpdT7ihnavzUM97bS+XFfZ2uJ3PrezhNp6URl+ewdMUDLNz/GSUmkdcVdyB/6GBl99QOE5EpTBzOboJywm4Bfr0H5CqSwh9CYetZeXBQHyWDBgJwW69ZeKmV2BynLdrdbgKtu1AoT3umwATEqd+TYRyF6K7f4WS2u/hjfzaX9g7HW6tCr1by5axBjO0czFO/HGxQpb+mILnAREpqT6b6zKuM4DwTId7eRIZn8Ffa4qrGoiRWBoSwKnkrw2I74Kev/fPryk5X8tjgh1hy53i8NEpmzNvGu3sEXLOWg38s/PEAfDICcg/Wen1jEUURa9oddNVX15jLtB1EE74Ys6NuZ+yCLUksPLGAWYP7s3b6CoZFnF0Kq12wown9nUPF2xpl+7lgsbvw6vBf9pX9WucYu2BnefHjqAPXV0bGu4253FRuZErkKOZ1v4tXyqxQ1vLRa43FKbi5+7vd/LI3k7FdQvhoRn92P3sRX982mJlDYwn31dW4JjrA05ZR3LCDjZ+O/8Tdu16lKCD6zIProEdQD76Z8g3X972TDbnbKMzZ53GMLpldTRsI4HjpQWxd3+D3rldD1CBPY0A8eId6xtqNdA7sgD3vcjR4nLVfb0lFp1JwRb8wntr4FIXWQu4Y3YG0Igurj7SebllT4NB4s33EHYRHDORikxGZqYkjbUSRmfHTWN3tHnxOWzf3ir+INwc/w5WacA4smYmpqP5Uv3/jEtxsScnC4fs7YQnLKtZZLXsI0F6RHEItwEi7k86iL/sySpk5NLaaLktsoBdL7x7BgFh/Hlq0n/fWnDjjZriHTxwJVgtuR+uI7IHnTfnoz/tRyESCg3JJKvNsOtxuN8eEjxB1h9ie0vCop+akTExim94fht7taXCYiZWpcRl7YHV6Tm2O5pSzaGcGVw5W89beuXx75Nsa81zSK5xd9omUR73OH85iVL678a9j4VYvfabDw0fAEMLEyOuxZV+HJS+V9wL8GHnwLRxyOcxYBNN/OJfHrsRoc/LuquOMeWsd325L45oB0ax/bBxPTemGt1bBsuRlbMnaglqhZkXqCo4VH6NrQFd+nvYznf2rTsYujruYd8a8w4iIEeh9MnlwQkd+25fNDw34MF5+MB1UBfSIgUxjOq/teA1BlQJA4mlpYysP5zLk1b+Z8v5GftqV0WQVZARBIMRdgNO7ovKUXE7uhKcZv+E//JH4W70VFnwdk3AZuzEsfMSZbxTUEZ7Ogh5XEhuo50sZ9ImPo5CaJxjXudSsLIUAXSBFJgdGsX6H0L397mVw2GBEUcRHXf+JbJ2Iokc/6fMxYCnGV6+iZ6QvW5OKGBQ2iPhOU/ksLAZhXx2Vjc4BwS2y9nAmyflGnKKCrBN7m/weDreLbH05mbp6NmclqfBBP9R7f0CjdlDqKK13zpwyG8+Zwni/1AEhp1X0iejrcS7lHfYIwgOT4yez7Mpl3DlkDD6hW3j61z243G4W3jGU3lF+1Sd22UHjjRg7gmBZKTkNjBBKKzIz66O/yJaLJNdRYWxXajFJ+WZEmRxXS1cZczm4X2XkIfKRy+SkuIyk2Yv5ZOUeuomJ9In247d9WWd1wrr2WB7pdYnKDq0Q1W7iiMrKiovvrOe1v44xMNafv/4zmtev7k2IjyclVCaT0TPSlwcv6syfD4xi85PjefHyHkT665i/OYVrP93KoFfW8MSinTg3/BfiRvFFwTae2PAEIg17/i3Jf3Fb9nI27/yoqjFnH1uSlrEmfR1FZgcBBm21a4rEXehjv2BDSuMOjg5nl1VFLe/5GjK2UTDxWb4zzkUXsrr+iysYHT2OF4e/yPDI4YwIuAVj9mVVa5vMnXyWsZKrinpXuyax1FNlLNlYv91/HsjB7BC4flDVZlKrUvDpzAFM6h7K878f5rP1zesIFUWRZ5Yeopf3KnTyN3GLDT+l9vI/TppzXdXvY9h9fKPRUKZcz5SetUf8AST4JXBlpyvZXfI7r0735ur+UXzw90lm/OXmo/iP+Kv7mxRY3Xx/2E6J2dHgCkxnQnCLIHci+9eOodzpqTJmryP6ZePJAl75eyWa4NX065J1xoi42tAoNJiUu8mxprdoVVIAk92FLfs6+geO9JQpz6opDq1Vahkc3he9PIRNFWlj6eYcBsTFsNKaRUH8cB4fcSP7haav+tcciKLIc78dYktSEa9f1Zv/Xt+XSyocr/VxKkIos6QB+5LyHO7Z9Quf93mIIF3QmcfXQ9+QvpidZp7c+CT/TfwJRj8Kh36B+RdDaVVql68qCHvReMSeD3q+u09hN8KH/WHD2+SYMzB0fpGjZRspNjv4dV82V/WPZGPOSg4VHqLIVkTvOJHoAB2fb2iFYg1NSJ5o59mMP3H4RjK3qIQgZ+O0KOtiQ9ZGHpcVIfaZXq1dJpMxpdt0bDMWcXdEJK8cqT/V798cyCrDaHPzcLcvWXzFVwzp4M87q09QajktbdVhhv0LKwuISDQMySHU3FiKub2okIiSSPRqBVcPiKoxxFev4pvbhnB1/yjeW3OSh3/aX2+JzcXWDKZFR2Ayto6Iot0lcMf3GzgovsrYoQdYOO07HhnwCADeam/M7jxUagsbTrSN3M481uLU/AKlFY6LhTcy68gC7LlX4hLkiKLIy38ewVunZO6kMXw1+Stmdp9ZYx5/4wnGdA7hg5QopkbcgyXjNvz09X9J1ou5kDjfSJAJGAsT6Wuzc338NGTISNfoPCJvZVlVdjeCpXszGf3mOj5Ym8i4riGsfmg0r13VC6eswJOuJJPz2f7PWJq4FB+1D39f+zdXdroSoEZ5dblMzqS4SSSWJjJrxSy8QzczunMw//f7kTPqgqw4VIB/2SO8OPohEvwSWHPNGrqFRKIwHKl0CDkFN6//dYzoAB2iCI8vPsCI19fyzqrjVaHYjaQwNx21TEDmVxUNopKruKnztfRf/369+ef53q/h1eEDlqd/dFalOeMCvcguiWJOrznoahHs22BK4ajBF5lMRqHJTr7oT1Hn6eBT+4ZAp9RxR+870Cq1tfY3iO2fejZ4fW8EvcdpMiwhkL0ZJVgcLvYU7OVTnYwj2Vs9UURNgM0p8NPmo1z9zu/ctjiN2ao3SBQjceScVq1OFCFtK3w+rtK50hgstjLeDdays759h38cxA7Huu1/FBo+Is9VdwUYt1ukwJ7GcvUBCqP7wb9D20URfrsXfp5VKQQf5hXG0ZIDiAF/EB5xkpev92Vn8W9YnBasLqvHQXNwMXw8FMoykUUOoJM8i9zSM6c8/bE/m0s+2IQpL4W5RSXc6X9DjTFrjuRx/efbuPfH3cwOC+IPS+oZ521SSlIZZLXR39/jPHt99OvcmPAICcef4Bvtu9w3xJ+8cnuDc/+P5ZZz9/L/477fajrpAU/K0dinIG1zk71mtyYVcflHm3lw0T58dSq+nzOEr24dTJcwb4946aFfqgaveBqWPwZ/v0Tk4S+4Wb2eb4dms/vJEfxvRj+mxCsIOvoNKkse++Lm8MaoN3h/3PvI/727roMhPWfwpkXO4PTTXqfFybxVUMS8iz6h0GhnjPqY571T7HGyT0kYi7JgDlmFZ/9ZUWpxcPOXO7jhi22eqOU+N5A35VWCB8yhi2I2Po4zCOtXsH3Ppzy35TlOFB6mVLYLZdQHFJgqXuOHf+ELXz/+9K+eWt5v73zuLXBgUNSvi7ZoVwbxwXp2li4i05jJ5wc+Z0PmBjRKBR/d2J9Le4fz2l/H+ODvk83mRPhlVxo7kvMZGHycVSV7kZ/FbWYkPIIx6f6qyll9rqef7xvYs29kUo/6n90pOPn26LdsyVnP29f24b/X9+FobjlvrTrB3XuiGFT4HM+szmPa239S+u4g3Lu+PueS0nbBiT7mS5KtG6u19/KbiDnx6WoRAKdIzDdxz5KfiDf04MepP3NZx0sbdW+5TM79Hb/FlD+C/BYu+W202xBskXRU6iFlA3x1CRz9o8a4Z4c9y4jw0WxISkMURfRRg5jT5w46dpiIXuPL7vzd5FvyW9T2xjJvYwo/7shg1mgfruofya7cXdz8182klafV++//rJ+Dd8iGBqWMrdv8GovNyfSNaJoKed5qb76Y9AVPDnmKxJ6XceLy9z2VLj8fWynYHqAJJaSwLwnmgupplRpvj77g9s/wdTrA1A+lGMiPO9JxuNzcMjyOaQnTeHDAg3x+4HPuXnMntwyPZk96KbvTWq4oSlMTbirlzy530ju4N2NjIlla0LSV8AqOLOVE0eG6tTl9o3lr3Hs82P9Bcv55lbRNDdOu3HgiH6+Ed8hzb+SXxF9wh35EudXOu6tPK4ay9SNYeif8+WhTPMoFg+QQakJ2p5XU/IAoSuLayAhecOVxRb9IfOrwsquVct6+tjePTurM0r1ZzPxyR3WP52mMDOzFa/mFqJupTGB92JwCt32zgbVHTAyJ6MP4jp4IklM5wAq5gp+n/cTAoClsTGy5Sln1Ee+8kd+zDsCBnzwN0UPY4kzD0Oklsk05/H00n82JRfTvs5m3975Iv5B+6JT/Cok9sQo+HcGdoUfILbexI9GN6AxoXIQQeEQg/zeQLMse9LFfkFF6jBgBnhj+PK/ueJWZf82k3FoMX06E3+8/6wWd2e7ikZ/289Ci/SQEG/j9vhG8P7035aInPPPtXW/z/JbncYtuvpj0BW+MfgOgQSd4nfw78eLwF5nedTqPTPXH30vG3d/vpsxa+ylhqdnBTudc4jtuRy6XI5PJCPUKZXXGb+jDllVqbizckU5KoZkXpvVgxYOj+H7OEPrF+PG/dYmMeGMtDy7cy/6M0rP6PZwiw+lLN9t87D2uBTyL6pOlJ3lw0ONEqv1g1bNQ/K8Tn8KTsOIp7iw7yWVGE3fu+QG+vaL+GxUlwWejIXk9cYF6upmMzEk+ipez5kL2W6GAb1Se6I0ik4N8/LFM/i9E9GvUM9ZL9j7YOQ9WPg1dL4Xxz1Z2DU8IwimI7EotYVLsJP4c/ym9hj8KtaS5nQ2lFgf/W3uSSa//SfzKm3nX9jwfT+/N349NIFsdh4/xtPKjaZvhq8mQvcfzXyPxy97NqvQshhrOsNAc+xTepgJmGYegtA6oc1ixxYFbUcAKgxpxWC3l3WUyuOITj37NL3MqF5oDwwby87Sf2HLfo6Rb9/HWzrdQyBV8f/R7Bn03EMuvd/OPtx9vHfsWZ3A31LigqO5yrFaHwJNLDnD/j3vpEubNR5eGcH9IEN/npVYbtzutmHt/2INereBknoUv8su4XBtZ/++iiRELT3JzuZGZ3W4EPI7XZ1b8xlsxpWzSOhl/7Hmu124j7Z8FNd9ztfDaXwdRB27khGljzQIMO+chfj2NQ6GdPBE3R347J9sT843MXrCTG77YRqHJzrvX9WHZ/SMZESH3vH/mXQT/G+D5TD51+pi22aP5tuldWP2sJ23n51vwkdm5tHcEr2i+4TG+4ZiyC9dtO8QLa7+la0DXBtukUqgZ3ukKfivcj6nYs7nJLDjEs6FhpDnKSS+2EKiVed43FWllQfogOgXEsj//cH1T18rrfx2j1Oqkb6SBd35awwfbtnPpyQX8nvwHPq4R+Kgblqo6BD03lBnp4duRAC8vREFPRmmp5z1y+FeOaiOwK6pHQ/oF9+Qaaz5qZ+1C6eD5G+1OK2FqXxULDi9gReoK/kr5iy3ZWwAocxTz/vR+XNU/kndXn+Ctlceb3ClUbHZg/fNplvq8wxM9r2ZTWqZHA7CB9IoyoAn5k5+PrIXSdHZufZvfkj9jQEwIQYb6v4P1Kj2LLl3EwwMfxuw0c2W/KPY9N4njL0+u+G8Kf/1nFL2CFRwrVyFf9gDGz6dUbowbgww5ltS76GoY52nIPQTFyWRaD6EJX4zpX1GtpRYHs374HsI/Zcb4AnqG1K7B01AK2YYmbGnd+lx14bB4dEoauVZOL8/AkPAO6RnfeyK2w3rCopmw5cNqazKby8ZO98MYtas4nmfEX+3HvX3vJcEvAV+NL39rezJx64JG2dCSrDqcy6t/HWVCTyWrSh9n3sF5KOQK1Ao1MmT1/ruTfyciFJPIKDlDVIZbYH36On4ODEUZdG6vi9PpEdgDg8rAc1ue44n0X3HPWQ1OC2x8F4DDJbsp6/IutnU31rx47FMgOPDfOR9t+dWoXXF8ty2NkR2D2FywhIXHFjI+ejw3dL2Be/veyw2D4/HVqfhiQ0qT2d/SZB5byoGNrxCo9mOsU0ZUPUEIZ4uQc4CrtsxnaeTl9epcDo8cTog2iKfSf+feY1/iWv/mGfc6GxJzCHCPZkTUYLxV3kR4B3Hd4GC+25bGsVxPFJ7r0BII7ERSv+swO82eQ/XzTMOrNZAcQk3ImyuOcd1n2/j4n8SqsqDRg/AOup48S3duHlZ/VQWZTMZ94zvx/vS+7Esv5aqPt5BaWPOLLMqvA73tDtyWlvVOm+wurluwkP08zh0XO1hw+cuV0SSnY3aaSdO+QLprFTllrR+y53bvYZ9W46ksABA7jHCXkyBTODYnvLr8KB2CvegXHYxGoal5cuswe9JsgrrQa+x16NUK/jzgOYlutEMobiRYSxjrKMOSNoe9oZdzTUQwK9JWcWuPW3mw/4P46AIoH3YPJP/jqYzUQA5nlzHtw038sjeT/0zoxIc3JdAz0of5h+Zz8183k23K5uGBD/PjJT+ikCsI8wpr8Gn1KS7veDlu0c0D6+fQf8Df5JTaeOzn/bUuvJcdSsNljmdsh27V2h8a8BDxjidJzDdhsrt4/++T9OxQRP84NZ8d+IzvUp/l05n9+Pvh0Z4yxkfyuPyjzVz9yRaWHcg+KyG5zBIrVrREBHvCk9ekr+H2VbezI28nXPYhyFUenYxTJ0cFJ+CjIbBzHh3sCdjLRtFhxOMVAp6AuahaOHIlTgvk7Ad7OXFBXqj8djHUtIHcspoLh0/zS3nX35PLXmCyAyLBjiwwneEk0WnzfMGdWuC7HLD+Tc9pyKKZMH8yfNAP3jlt07nsQc9rOKwXXPlZlZArMCjOH5VCxuakQuQyOfrgbtztTGFVI06MRFHkUFYZz/92iOGvr+XjVQf4QvkmAxVJxF/1AlP7RqOQy/gn5j5uVLxddeGeb0Hj49HXytlf5/xnvH/K3yzVRnAisE/9A2OGIu8wjgGWtdgddUeV5JbZcJl68GK/34nsUEcllJBuMPVNzwlyxeIToGtAV2QyGbf3up0N129Ao9DQX27grjIj+qDOHO99BSvS1qAM702ZXIZP6fFapz+ea+Sy/21i0a4M7h2XwMI7huId6E2K2ofdJVWLnBN5Rm5bsIsIPx3L7h+JTqVAcIMgtGzKWGbBIYbERrHa6nl/7EwtZsdRX4b73caYIQ+iSFzFG3zATVkvY0/cUO9cW5OKWH+8lOsDFyEUXMUnm/+lI3LgZ4oshdx34EN+iOrS6GjKAqOdp5ce5OL3NrIjxSO0v+7RsVzVLxL5r3fBO1087x+HGSa+BPfv9lSLBLhzPTyRCs8Vw1OZ8NARuHsr6CscJwNuhalvEz37O0LCjvNH0p/8d83ZRa6kxAzk1SB/tu7+BIDs0hQ26DT8czKXrFIrvbtUlPA2V0Vdlet+IU/9Q73Rxv9mR0oxC3dmMGdkPIu6b+U33ZMsWp5EP79LGBk5EpPNhZe6YUL2cZoAni4uQSmTMzpyDNaM27DZdZC+FUy5dHJfToj1jmrXZPmGMC4mirSiP+ucd9HODJQKJzcP7s/vV/zOLT1u4adLf+KBfg+wMXMjFy++mP0Fe3n7mj7cMDiGj/9J4qVlR5vUKbTq+3e5iT+J7tKfFSo3H/j7npUju0d4ECq/PezJOQrJ/3Bg23uUaTYztWfD9FSCdEEsObGEyUsmU2gtRCGXoVEqKv/rFu7Dx3dPI+/Kn3lVcSdi9j6c/xuKZd27lRWVzgaXWwC5A5lMrEg7fhi+uQKjswCl1wmsp1XLcwpubv9uPQUF0czu8hQ39brirO/3b9yKIhS6dBLzG1DJzVIM+36EhTfCmx1g2UNwKqr2LCMIVfjSIXsIFx38xpNaNOsP6H4ZrJrr+R1U/C61Si23dL8Dp7EHG08U8u1vNzHg695YnJ5omZX2XGYZ9+Jqw5vSQ1ll/GfhPrpFO/nfdRO4redtXNrhUvqF9GPepHnE+MTU/m9DFP3Ugdzd925UfltJOdNncNI6XshJ5+u+j9aIQj9XZDIZb415izdHv4nFN5IdI+6AnlcB4K8JZVSxL8FK35qRvoEJ0HcGjl1f4ox8hhUZHk2/WcNi2Zu/l/1ZW5Ctfo5BuggmxE7g0wMfMKJPBiuP5Na6Rzsf2FJ6nKdCgnApNbwg+jPI0XQOoYXb3uDqyHCMnSedcaxMoeCFad/xok9f3OteYd/y++p0ChltTg7kpHFJ9AxGRY1icvxk3h//PtcP9cVbD//f3n3HR1FtARz/3d1ssum9V0hI6L33IgKCAoIIqIAFsAv6RMX+bNgbdkVsgKCgVfhfkwAAQ95JREFUIr1L7zX0hARI7z3ZTXbeH7OEFhAU5WnO9/Phk93ZmdnZ5c7u7Lnnnvv8L/vRMvbzXy2TMUG+TNz5Jg+suA++uRE+7wWZB2rcr9BJQOgK+mx0a/o2CuK1xYcY/eUWsrOzOZSQyL74DrT07k39oEur+zGweSjfjW1HXqmFwR+uZ1vS2YGf/ZVF9A8PYWfBhXuUr7SCMisjv1hJfJILrfy6MrZdl7NXSN4IH3aAxNW4ObrRKrAVmsXn7Kk4z5WTANMH6NkZf6FU42985el+eihOaGuaWqoYkuXBD1sKSMwuZGCHfB5ocT9PtqthuvfVr0DBcbj+HZydnenTKIhKm4bZZMDZ8fJmR6hWpzt4RhB88CcUDhRZjPQPeoSPlxhIznBmcL3BfLP/GwafnEdGSFNY/MTvzsqkaRpfb0xi8IcbKLFUMuOu9nRuUkC/eX3YlLqJG6Jv4O0ebxPgEkCkR+SlTVdus0Fhao1jcd0c3ZjUZhKPd7ifCdeGsvRgEl+sOz/w8eu+RAKsI7izxcCzlntVlOLmfYDDuYl89lsi2cWlFLhP4+kNT+Pu6I6v2RcHgwMf7n8eq88MNk7uxeT+sWQVVXD/jJ10fW0VH61OuGAm3ZncD8zkM9ObhHroAbyeET15vdvrtAlqA56h+g/64xvhC/sXmH8s9J0CE/czMTiFJWE7SWjYFxrYi0+vfAGmttEDMWeOvT5VR0IZqOPnSkFZXe7KL8TlwOKzjkezlDHDqYoMsyugZwi5Ohoxf9r+/OK4ZXn67DGzR8Fr0fBSILzTRK9pAGBw0I9j7xzIOqTfD2kBDQedDnANeBvG/wZ3LtOHIp7BxdGBFuHe+ow1gIejB6UVBZTv+o68D9qhzboVlj0L26dD4poae1vTC8r5eE0Cfd75jQHvr2PmlhNc38CTrXU+Jc6yHzXkc1SjQdXrh0XGcLDAQa9zUZZP1f6f2VO/N2+H1OFQRg21haxl8MMdsKSG8xPAVkV6QTkjj1/DRwGKEvMlFC3uMZkXfZ1wc5hxweFL6QXlNAn6kPRDT1384rXFbdDkJr248TlD3pRSeJm9ICeBlgueZHyVC9zyA+NbPcTym5bz5vEF9I2IYVVpxFk/WjVNY8bm49wwdR15pVa+GdOCR/23YjowD4/Yfgyo9wOHT7Qms7Cc1PwyRk/bgqODga/vaEukryv9mwbzQIAH35edvkC32TQyC8vZl1KApfKvmZnD1Go0Q+JuJtKvEZqm8fLCAwR6OPNOvwfZHNmK1655kN2DltPGqz9PZ6dByo4asxfySy289dMGAkKXUe41C796X7I44+3TEwEUnKT05GZyYnrQPbw7dfq+CX1fvqxjLbVU8t6KI3R/fRWzt57g1rbhrL3Nm3srvsSMVc8Ac/bWA8Hj18I9G6DTg6dnqTmTUvrwA89QCGx4+kdH3W7QdiyuwbGsvHU6ffwe570VR5j0wx6slxjUblZvAPPK3eidpJ8bbfPSWeXSkjkbq6jr50qXZnH2F3S6bt9N0XdTeuI2DqdfWlZFRWUVT8zdQ5i3MxMal7Ft27sMjAwiJNaVpevasHCXPgnA7005f/r9sF9ealUoUz4ukR+yNuU32DeXk06ufOG6BKvp7KyawNDWPJWdS+wFpq62VNqYuyOFOrEreXjtWHz2/ojD+60wLXsWl4IUYr1jubn+zTTxa8Ky40vp3TqL0R0imbb+GE/9tO90R92fsGfTMganvE6yZxu8B73OXks2K11da6wvcyFmB0ea2t6mMKMD5BxlTGE5xUcmc13j80sKXEjLwJb0jux9wRkylVIMbBHOA4++xJfNZrG6qikua55nydL5lz1DUqm1DJeIaRwr3agHvk9shrjr6GNxoOToZHzMevBT0zQemPsTBxwe5/be5UxoP/LPzYRp95+290HKwyRmXWQ4ks0G3w6F12Pgp7v1z5UWt9o7QIx67bh3GsN3w/TP6EsIEJZbNZpVlOJbZdOzg0zOMHQ6dJpgn83q9Pl7b8sxRHr6svzofppVwp0VChf7jLIGrygcqqzkZ9cc9L/a0gvKufOrrbj77ifF7Tn25e5kbNOxF5zBksoKOLIM5k+AtxvCpz0oqSgkme/JrLh48HXK5hd5LSAYz0ZD/5LXEuoWSj3very7413uPjGfE4F6FpKvYwjD88DPfIHr3m6TMGkabUvNFBf7E+HjQivvdN4tquTFjd/Dya36pBTAjswdBAfkYDIYarzm/ScYjDu/5FXh4+zDneFR/Cco4Pc3uhQ2G0Epu2jg5IuHd9QlbRLlHUPLoTP4qGFXbs9aQ+rPd9c4W+KGhCwcIz4hQTs9Y+WxgmOMWTacri0PszExh4RV39Ckwkr7qGt5qdNL3N/iQQq6T+Ielc2hab1g/Xt/2UyM/3R//pNaVPMwm3hqYDCdYvx4fn48n30wh0m2z6kMb0bd6GuBS59doU2UD/Pu7cTt07cy8rPNvH5TUwY211P/o+r04mVHR2KC2v5Fr+RsuSUWBn0zhVynRbw45BNGtDw/K4j0vZC5X/+yHTGTt3q+wNrNC1hxOJFhrWvo9co/oc8GYC2BpLVQpyvUu0AP/J/Uu7Ad9xRvBnf7DFNObmwOqM/3jjtJPbmdBvVK+PzI13SLiaJ5QPOzN949CzZ+CC1HQaQ+xfzA5iHM25nyx7ODQM/QaHEr2uqXca5zjKwUVwLzOhCfdw23fbGFPo0CuaVLM3pF9MK3w7VUfdEb48oXoP+bNe6uoNTKpB93syQ+g25xXnhFzCXJmsVQ/6Hc1eQuojyjCHINIsj1nB8yVZVQlAqe4foPmp3fwfEN+v9P/nF9ZgybFW6bB9E99YssTYPQlqAU/ev2R9M0tpQ9TXBcIVMWmWkR4UWrSL0+TVpBEfvU0zSq0xulep5+3iPLsHx/C3vDAyk39OeT33y4rkkYD/f9HIAY75jqVaM9ozEZTbg7ObAw51Fu7NWDRs7D+XzdIV5dfJB3VxzmxpZh3N4xinqBFxivnL2LaONRnM2OHM07yub0zQyOGXw6M6rpzXptgIO/6m05qAm003uvwxhIsXaCaK/o0zvs8jCU5cKql2Dnt9D3FYi77qyAUKiXM4ctnXjVeIAVuz9lYPMRGHzqApBvK+dtH28eC4yhIZBTUoGfuxls7vqwj8NL9X3F9dV7POc/qLffeteCT11wC9BnyDjVlian6gWOL+R3hqF1iPbl/ZVHKCi14uliYnqvj2H1FDq67WJQ4V4eO7yYyT4edCstpc/oFWzVSgndvxTDoc3sLvFmU74Hx2yBxAbVY8wNrbiucSBec0dA+ha48bPqXrpTmvkbeM/0PmmbC/F2L+FHZyMvFG4FIKI0lzhLCTi6nt5AGU5nyXV7DMxnBNeLMqiYPpBXC4eRaWnAlD6z6BEbddHXC0B4W96OHMJzO0N45ud4Fj3U5bzZk9IKynBwPkFewe8UyFdKD7plHYSSrJrXObQI0ODWedXBaaUUncO7cSzTiQWHvMkvteLt6khhuZUn5u5lwZ40esR48F6Dg7gvmqifk/UHsMEnmM0l36KMXZm/J42ZW45TXF7J9+M7EO6j/wgZ3iaceV+NZ0tYHW79fDMn80pJzS/HYg9CBLg7cUu7SEa2i8Df/fKLvV6In7Mfj3V8BoDF+9LYeTyfV4c0wdnRyK6sXSSWZdGkY2sqNxnYmZ7Bqv0Diag/kOgBU6v3kVdi4e2PpjKn+HmmRLSgiE6Ma3w/L/xyjJ93pTKibQTE/8S3Hu58kLqAu6I+IdI9hg0n19PRM0afOeYiqmwaP24/yZvLDpFRWMHwOCOPhuzF9+jzsOsgGJ2g4UAIbwv9plRvV15Zjslg4mj+UdamrOWG6BsIcLm0C+m3tr2FQRl4+6aHiPQ+wrsrjpBRVMGHt7TE7XemcVdKYe4yiRfSVjO+NJOvIxtgtXlwKL2Yt4Y1w+hqL6Jeejqw2TWqPkbzb6w+to8mYb9fEP+TNYkkZJUwZ6ALth9GUs/oQcfw7vyn3bVM/iGBp37ah8moiA08vx5ajU4FxDSNcC8vNJsjhWU2aDacAo9gKg9uwOOcWkFeQY1oV2JDpcyH0oeq65ydsvJgBjklFkbGdMItdxGmxU+AXxxs+RRCWhDY9CYm1RuOVpLNrIOzsGk2vrz+SxwcrHyxVq8JMmVIU4yGP5aZUJ5zgtAlY8k2+BJ4x0wwOvBYuydg/1r9u/EyhASmsTN5NgmZlbzmH0RDg5VAj0uv+VTHsw7PdHiGzWmbcXZwpql/0xrXczebeOjG7hzu2JLJP8xlxhpHGh9Zy9SGB4jqNup0pttFmJRZHzIW2Q7WPKNnW5flYj76JObgnuRXtCQYZ75cf4zFOzVaNu/GPe17/u5+L1VWWRbuEbPYndULaGRfeEj/zk5eD7f8oLc3rwh9NtkGAyBEv0apZvbUvzs2fwzTr4PQ1npwt/6A8zNG7PblbWF+nb3cUliHOCf7tYXBAL2f1zNzHRwhYz+YPSh39SPP+3UyCpoRZyih5Rltu3fsYHqv+xjyT0Jg4yv2vlwJJRWV3PHVZkqqMvh26C1syDbTzP8CGbaaps/gdXgJWIrB5AoxPSGuPxFFOSxKLWJSkYnsYkvN3ymVFqrKClAB9S9+vXIFPNTyIQZEDyC8pIDKhU8SH9KfT6Pz+VSrQ/uaNvCKQF37IoEbKoksdeLpgPfps+QQL+cW0bvNXXq7UgrTgYV8YfHAqe1DJJ/4iTnbk5jYOxYf17/29VxpO0tOUOHiztpNx2kT2gNflz84Uck5ChKW0yEnhV5dn7u8DQ0G7hw4g7glEwk5soZtyStoFdX7rI64tUey0LJuZNx1pz9b6njW4cl2T9Iz/BqOHNnHqqNp3FqnM85tHqleZ6/BxFGvYDS3+qSvfA51aD6Bgz49fQ0tAAkIXVEHsuMZtWgUzwT3YlPzCir3/0qGYzhDGw2gZVCTy95flJ8rc+/pyPhvt/PQrF2cyC3lvh4xeDh50Ny/+RXpefk9qfnF3PblWjIKI+ndvjdDmzeoecV24/Qv4e+GwcwRVNz0JVWhL7Appw02W1cMpy7AqqxgNIFXOIfa3cFHlWkMStpF95/vh3s3nncBeCUUGo+wz8mRLmcU63UN70q9xDWk2Zx5o99wMssa0rwoF/a/Cqk7YdjX+hfW3jn6dK7XPF+9becYP3xdHS84Newlaz4Sx9WvMDI7lt8840nw3MgL3SZQVG5l6sqjrD6kMb7bUNYFZfJedAM+2v0tgV3+c17R4e3JuTw4cxdZFYkM7mLjzX7X8eCqmVRUVmBSRu6PvhHc7MGwtW/qPVv5x/WgT2EKaFXwaAK4+unj7ZPW6hdWIS309GivCPCtp2//2+v6dOF+sfpsaU1vRnmGMbbJWArLK5iSobh35loW3t8XXzcnluxPoyKzDyPa9zt9wCe2wuxR+Di68Wyjj5l8IANvUzLK+xfM5WMJcws53U6Ae5rrs8NZqix0C+9GA9/6dAhx5eldk5h44z2kJDfnh51HmLH5OF3q+XFHpzp0i/U/3eYA55IUchwC8QVWnljJZ3s+Y0DdM4pcKgVDvoD8ZPCPO+v9fbbXTTgaHKt7+wD9PRn2tT6cb9FjMGskxPTWLzgBlAEHo4FwHxfecm/PNnWEgIUP0ulWfTp3b7M3m0ZuQqGwVtk4mlmMr6sjWNz1ANPObyGsrR4Q8qkL920Fv3pnX+Ce6U9eXHWM9uXdFUeYtfU447tFo8weVF37Ag8dbkqMVwwW30YcmH8T9f1asTbPlXs3j6BFbhiT8k7wfvgR7qSAZ4pL+LbSnTbqUbzcH8Qa2BhTy1HQ5PyewPqRwTQzbOdwYl2oiqeHSwSbg4cSeczAkOLn9BoVEe302jyFqWSaI/ih7ofcm3iv3v5OzVxRkk3Z9MGQk0iuwYnpdzTnhGUT2WVuuJpcz3vecxmaD6evexpT56Xz1ZoD3NWz0VmP5+YXMDv1JMbOD/7+m+jkDuN+O2s4HqBfRCsFHe/XA49u/mc93D64PWVuubg6zSa1oAfJuaU8MHMHGfklfN1kL10yvkUtS4HQ1hzv8QRHvAKxWUvIt6bh7ezCiwv2YzLqmUENQ05f1LWK9KZhsCdxGfNRzk3xCmlHn8ZBhHg68nP6S5QUhPL28vZ8sOoIA5qGMKZT1Pkzof0Bb3/djYWmSpbcvIHXFh+iXoAbQ1rqmQ8PtHiAo/lHMRgUt9R5mg9/i+fReiu5OW09j9q3zymuYOYHz/Bs6Seg4PH+H0Cgnm307bof+HD7NwxvMxkVP5dhzpHMq7yRNxflMDthGpXGzayo8MZl3OoLHt+aw1m8svAAB9OLaB7uxdwGawjd/T4kaxDeHga8g9ZwIDh7k1GSzoLEBVwffT0Hcw/ywMoHmD1gNhmlGby74136RvVlxfEVTN83nTe6vYHZwYzJYDr7s8Ku0FKIg8EBpRQTe8cS4mVm8rx93PzJRr4c06Z65rILsYY2Z/7OV+iWe5BEN292JmpE+bpwQ7MQMBrA5KIPfbUL9HTAOXQGa1IqeICLB4QSs4qZuuook+oms2vrmzzj5czsa7/kNfv0zB/e4sUDM3ewJD4D198JXlU7FWy3VRLi7g/p43GOjGCvuYo3jjWnKKkRk8ae/dOsXLNyfaQfQ4q9eNzoxrnvyMytx/AN3sQ9Vjdcts+DRjfCjZ/qw3lOveerX0XtnsGndXtS0Oh6UgsSWVR4HwM7jWPOerBU2XjzpmY4nBP8BX1IgqODASeHCwQIfnyF+rYykgd8R6infh7PPjSbkoiG3O574VpkNYnwc0ClZbElL5cDZiP9ovx/f6NzWKusPLP+GWJ9Ynm/5/sXXTc2yIOX7htN+z1p/Dz/J6LWPUHWlvdwHPwBng26X3TbSs0GBgsBBbv1AEy/18DsSV7CfMyu+ymvLOfH3Xt4I34SneLG8c3QN8/6/v2zzA5mbKYTaDm7yfn5AK6JizAX6PXHcryasHTlVrKUL8WGsRQXVVKwppQyyxYyrPvJMMynsdMYWoaFEu7flb73j8M5/ge9DtDsUdB1EvSsOfPU2xjDo5kVBIXX0KHi4KhnJf1wB5TlYR45i7Fxz/LGr8WMc3kFD0dXXi21UmatQjnH8IGfD5V7Pual2D5XfKjUH1Vl05jw/S4Sq2bgVTeeSL/raB527+kVchP1jozkDTDsG/27TRn0bNi46/SOXJN9xkVLCSeMVpz9F3Mib1yNAaEiWwVP3rUDKq/sjFY1cXZwJcqtAZN/ewBj1lq6O4QxKr8Mr+CQC2/U/m4WHbiW5sZSGuckMKhea1pd/zr4nTH8PvsITru+42DuQTYbs6hyG8C3m+J4sFe9v/w1AbD7e2zxP2G48WM9yPkHfWNNJ9NBY/vP8bzbpIwbzJsh9qY/fXhf7HiPHyNCWR7Tk98PNZ/Nzcmdvjd8zm9Hf+W+3x7hraqX6R3Zu7qNrU7eSIvAxrQJbqlnzuckQP5xhuWnsnb/BPrEhPBafAgfVC5lZXkuPmb992QT/yYsHLoYk3Lg0V9uZktOPEtPbsZJAkJn+csiCkqpvsC7gBH4XNO0Kb+zyT9ejEddRuTn0fnYZ9gcXfELbcDGpoOY0Pz2Gi8QL4W3qyPf3NmWx3/cyxtLD5OUU8rzN8Ry3bzruNerOfcMvMDMK1fAybxSBs4eT4VzAV9c/wWdY2rodd37g55F0vEBPZ1y9C/w9UDMc8YwpNk9TDsWyv60QhqHekJGPFU/3M7KZoOo3+w2cuIGsmPtY9zd/jUOLRxO9IFfcGg15oq/jg2uJ0h1DqeL0+kfSyHdn2fVuqW0q/caR+dPZWBaAqABCvzrQ3G6/qP/xs/A7HXWjzwHo4HnbmiE7c/WJPAKh5aj8D+axqiCIpaXdeWGpiF4upgY3CKUVxbqs6QE7skgKCIch9vePCsYZLNpfLQmgbdXryfYNZy+HRPZkbsey8mmvG+OQ+1dAr8+q/cAPnJQ32jPbP1HtlcERHbQM4O8Ik4XEL7xs/N/0J5p0Ed64dbds/TC2CtegDpd6DLwQwgL57c2L7IgYRn3f+/Bd7d358d9GwkzdWZgA3t2XNZhmHETuAXCnUtxT0+kld/X3Fe1kSfSfbF9MRsq7UNCuk+G7o/pAaz17+LoHsxE90AoryTv5DaG1RnANXVbY4g2sKzsBQb5Ps6q3Yrbvz5OXR9/xnSKYkjLMFydHPCypJPlqn9hj2s6jhuib8Dz3JlRTObzgkEAY1fcCsDe0XvPfz/qdoe71+kFZwtTTwds7D+GIn1dyChsz1cN82l5ZA3WkmxMrn4c3TeL9bu+oE/Pd5i8tJT41EJeGNQYHB7Wi5NG96zOSEMpfQjbX6hlpDedYnx5ZdFBDqUX8d9BjXFzcmB4fT3wkphVTCfXN/lkQwop+Xtw87wb9+hoMvvHEZf6Pl4hXchSZl7b8ChPmk0EWArpnrWEp6Lb0L+ynFkHZ9EjogeRHnodNS9XMwcN4bjk7OPzKC/MWgPmrqqPs2MSK+tfx4feYYRUFKF9exNlGUcYYHmLHK2Ypo5+NN8xG7dmwyH/BEWfX4+p6CRPOD7Bs+NG42jO5/a5z/BCpxeqn+tiPtj1AXllOSx328v6NfVIazmLYK/Tn9UpGXN4PMCLZ0KbcUmXXgaDHsxc/IQ+m1mbu2DWCGg2ApoOOy8YdMr01HcoCk3m8yXbWHykBB8PN2aM7UjrJa+x3iuAxQ068t8+nzJz2+vMWfsWG0ZsoHdkbyaW7+KnXSm8N7w57eueXexXKUWe+6c4V2UzOWMWy0xhrHeMZnTrN8hxaoyDcuCD/l0Zs3Q4S042Ye7ULjSPcOaOTvXp1zjovGypC8k4mcCJncupOraO4PzttDbnkuTZgc/WHiMxu4TPR7Wu/vHtYHCoLqg8qEUoU1cd5TFjDwYlTYfCVLI0L3774G7ut/xMTlhPdvW8kw83P8P73d8lxCOMmLqHWZ/1I2v3X88RSypZhnYcOBLH0FZh/LinC48FG3HJnKHPtnXOxd7+1EKmLIzHmriWh5w34H3NaNr16ohKKKPIw8hqvzBa1O1LkaWIu+cP5pUur+BucuedHe9Qz7seMV4x3NXkLtwc3Yj2imb9iPW4m9w5kncEB4MDPs4+TNs7jY/3fMy64etIyE8grzyPLmFdqLJV8VzH584aSnFzmwgCPMzc990OBn+4ga/uaENMQM0ZjqD3hK5p9jjOy1/DNWocIxOreHFozOnARp+X9UxWgMwDeAQ0INr6NNaSiwcaTk2f7mTOYUDbEHK3h5Ib1wOn4NNZAo4OBqaObMk7yw/TPe4ShxZEdoIxC8AtAAW4hM3geHohExflklrmxuN936dtnbM7gMxGMy1d7+TrRFdWvLuOdztU0DJAQVxf0grK2JC6HnPYT2y39qVLk2H695HR4eyOpM4TwD0Q0+7v8ftlOdnOnvSKiOO+ti3wdcrk6y3LKP+uivdHtsTRQX/vrFU23lhyiC92/YTN4oUbdfF3dyLOuZBOajdhhhx2Rt/Lx8n9uCO2F5PanA6wbUvfRk5lHrc3P3/Gv4u5rWk/3v7ZwGDzHRRWXkP/ITXmLVyUyWjiw2s+JMw9jHUp6/B28qaRX6MLrq+U4oZmIfSsP46Zc13pdPBF/L8fyKGwocSMfBOji1eN2+WXF+ASMY2CNC/9u7vlKCjJpm9JKZvz25Bf6Mpz89diDoHH+zX648EgS4leQ684U8+ULUyFzHg8rnuTMRGf0PzoKDx3HGCTrQFLbGNYVtWK9HRfSM/CYN6No+aHi1sGVv/PCSyZiNlkxGi0cDjFxPqUHzAH/crkOU8SHWrAM3QQE+uHUa9BD/2zfff3emmA1ndWtydDWTHdKnJwC21Z8/EaDHDTl3pH6JfXMeaGj3jP9TgxFRXEmGJo9eIyKu3D8+4IMpN3MoPGr08hwMWfWM/maK47ifQKolt4B46VryXGO4AOlkoWHluIX1khbUuKWVhwCL+KMto+sJeE/ASCDyzCxTMConvonRB/wn8XbmH5oSQevGYUoSEpeJu99eF0hxbCkaWQbZ+5KaCR/v/hEQxDPq95Z46u7PKvR7yWxdHMbFpGeJ/1sFZVxchfbqJdWGeeav/UnzruyiobmUUVpBWUk15QTlpB2Xm3M4sqqLJptGwWRG+XIDocnYupOBiPphcP3HYJ6YnVJ4/kps/xZJ1rzl+h63/Apw71f7qXKd4BrPdqxPQNiYzrWhezSQ8kZxSWs+tEPh2jfXG/wERCf8iC/8DWzzAAWYtfxX/Q5Q2RPtOUyBv5eHs624GfsxYwxfM4GyotqD/ZuXhNs7sITFmPs4vv7698AZ2jr+O/tgp6rv+UPeveo/6wWaSVO5LnNp1Aj5awt1iv+XlG7bLFgUHs9wqid/SDrEgu5UiqRru6p/d5amjtQz3f4kDqFkyxg3h0zaNcbzXSte2D1cMBa7O/JCCklDICHwC9gZPAVqXUL5qm7f8rnu//hcnRmYf7T6PQ1YcR6ybRPKA5yw5OY5hWzGNtH/vD+3VyMPLWsGZE+rrwzvIjpOSV8UppCXHel5i6/QfsTk3hnq8PYDG04I4ugTUHg46u0Kf2i+gA7e/R025dfPSg0IapjGs1gWnbZzFv31ZiUhLJWfEsBgdXHk2YjefBPE4m9qBKu5/r9qfjGRPG4PIMnvkLXotj8RM4+rqelV1RpmXh3fBZ9mtWlCkIetwMYa0htNXZUfcLZCxd3+wKfXjc8B7ffdmLbIMPN5e1xNM+jX2wpzPvjWjBLe0iePaXeHZvD2B8fi4eoXfzZsNbsPq2YeL3u9iasQLnurN4tdeXxHnej+nD7zAf6KPv26eunrUVccZQxXs2Xjzgc7HHAJy9oNVo/V/uMT3AdHixPoQJuNUIeDZlzvZiHvt5NcdMb9M4sj9K9dEv7r69Ua9xc9tccAsgsfhH9vkn0CT2vyxzMGBuZgJbpV4cNcJ+gVyUro9XL8msHpLlDTwc3Qs6PEVKfhK3WozckTeLTjEOPFt2iGtyurF8oQevL2vD8JYxPGrLJMWtB7MPzeZA7gEmt518yf9FCwZfuMApoGcytdezmLCUwLjV+nuPPvX81mO5tOj+HB/6fMqm3x7myz5fsjNlA29UpbN83m7WnfTk5cFNGNkuArj9ko/rStIzTNoxdeVR3l1xmJ0n8nnlxiYcySxm7o6T7Dyej0FB53r+TOobx7UN+1fXz+oZqw9j1DSNteHtMRqMWG1Wbm98O/V965NUmMSb298k1D0Um2bjjiV38FKnl1CudQku3c7nFgO5mSVc0yCQoqoq4ktSOJR+EM9lL5Cfs4+7XLtSJ8CVmxs58+BBNxaeXIsxYQMVM0dhsJbwou/LPD5mFLnWYyxOWMWSIUvwcvK6pNc9qc0kLFUWDlS9x8Bd3zJzxhvccu/pTyFTyUEOOTriFtnlIns5h8EBitJg+5f6uZG0Vg8IXcRtkTfgtO4FdlheZZ3zYdb0mMTEzc/y64jvSEnfxJa9X5Bnyee2hrcxsv7I6oubZwY05M7OdfSAew3e6v4WW1M3YnUMJnXXJ8TnHaLow7Y8XP96uPkbyirLuMYngBYxweQWOfNWyn94ZNEAXlzQmYGtXBjfqc3Zsx5pGqlJh0jet5655a3ZfCyXacX30tqQSpHmTKJLU0q9BrAhuS0Ljh2ibZQPvRrUHECICXCjaZgnizMaku/pQdPtX7N4cxXPWn4mtf4YQoa9hTltEwEY8Z/WD+5cxvPd76H3W3HMdqpgp0cUedlGnuhXn/HdookNdOPLpXkcCfbl/p3TqdNLz+pMKyjj6/nLcTs4hxcd1pHmUUywcsLJ7RqG/TqMu5rcReN2Y5n8Y1+eNntwbeS1dAvrhpeTF/W867Fu+Lrq4PEDLR6oPn4PR72DoUdED3pE6LMvdQ7rjKvJFVeTKzMPzmRj6kZWDVvFqEWjiPaK5sXOL571HvSIC+D7cR24ffpWhny0kc9Ht6ZN1IWzZE/kHmKISib86CRifR5jUIszZpBrbf/syIiHjztDvT609LqemcmLsFZ2wXSBrJe524/jd3wO5rgNfFF6Lc/fsYbmNWQwmIwGHu1z6bOjEdhQ/6tpkH8cV6M7TYvW07GwLqui7+KuLnXP28RoMPJW/9v4wH82K7cXU7T0dWzGfRR1/y+zrb2IKzbzSJdv6FK3+enMu3P51YNez0CPpyB5HX67ZvLC4cXgHk6Fy2wCIlZw4KA747618vEtbUkvLOXuOT9wMCmAmEZHMHGCZwqj+FltwruykFty81nlGMAHJ5rjYQ7l2mvrc7zwOBEeEXy8+2O6h3fnuqg++vAl92D9OuISeLs6EhyxnDauQbQp9ma89x/rNIz2ikbTNN7d8S6ORke+7fctZZVlF+2EdHNyYMSI0SSk9GXhzMfpc+JH8l5fRcagWTRqdn4pAjeTO6VJd+PSqS7UddY7mbzC2egZxhHTJn5Y+TCOahg/Df6RcO9zMjNtVfq1obUMElbpgYWSLP1vcab+2E3T9XWntoXCk2dv7+ILXR5B81zB1y1aUBr5BY7ufvQ1WvDPWU6zgFBcHU3cvmwyL3Z6kc6hN/P53iJujutClGcUoAdJ92c04ZeDLSn3bsiKtBkkFS5j6Lancdo3FRevQ3xQ6k9w4QKMG94hrOmtGDrez47ipXwVFsLuut0u/B8Q0ADuWg4zh+P04xg8I+tSXFpJWZIPsYHu3GafTMa5/BsKcWN70ni8LL40PXmAmf6rqExRxK4MYUpkIZRHsjvnV94LC6R5hYXYEnfe8Vc0dQ2iSVkZY5eOpW1eBlPSTvKxtzctvGJpFzdYH0ruG33hY6zBjM3HmJPyNNH13ZjgMxx1Kjtk1Ut6vZzITtD6Dojrp3duXIJb4oYzfuljzPRPBM7OmKlMWMbQ4/uIjLr+ovuw2oM96QVlpOafCvKcHfTJLCrn3DJYziYjwV5mgj3NdIz2I9jTTEGZlW82QRMfZx53/4xVQQW8Ed6Gi129v9PncSaumsikrS+zOKIrjjXNttp4CHjXof+skXjaJrM8IJLvtoZyc6v6fLImgc+3L0Jz2QE/9KV3bAw3toyka72Ayx+qWlGMtv8XVIMBzExawJaMnURWDqauSqPPrs+o6Ho3Tj4Rl7dPuw9NoXxW4sct7SLI3O/HTWo/lSWZmDwvvY7ZuRILEnENasIt9Qf94X0AGJSBwbFDyCzM4869bzNsVj+iY7+gNOke7h/TElxsEHONHpj2CgfPcB4zgINyIDHvBHune/PQrF30bhhIkKeZQA8zQR5mAj2cCPQM5JrYweSU55CQe5C8pL1UbJtBco9JxLa978JZ+LWAutLTcQIopToAz2ma1sd+/wkATdNeqWn91q1ba9u2bbvix3G1aJrGp3s+pVNoJ8ory4n2itYj71fAvJ0nmfTDHuY4TyAxIJiY2Ac5YqyiwNmfWOcoclMWUGGzEmeOIMmSRoXNSox7A/a7eFJRVU6r0kKSy0+ct05g1M2cKEvGmHeA4Eojj574iPCSAD6Ibk+QqVQvmuofB7tmwLp39PoppTl6z8HtC2pMXbTarLT7qiOdywrJcNCotLmSnPQoeeYiGvo1oGu9ADpF+/HbkWym75mDVhrLk9GHcPMxEOPWgMSKFGxoRDtHsdvNF02z0bS8jOTiQ9jQiHEKq14nIOx6EitScSxKpqFmrl4e4xTGM3vm4eZ9Dd/eNqb62PLL83l357sMjB5IM/9mVzWF95HPr2epKYkHw55hbK/zUzYrq2zM3HKc19cswtX/U17PyeZlj0h6FVkYW3GcOT6+DLtzI+5OHvqQLu86enbJ3x3xrrLC23pP0hyPIF7zdCE6O47HmzWied+n9dmjZo+GYV+Bvfe52FLMpN8mUVZZxrQ+0y7+/1BVab+QTNeDRI5uUKeLnjo6dzwUp5NQmsESVcY9+QW85R/E127u2A7/h1+d72Nt9GgKGkSzM2Mnn/e5QC/XFfb1xiSe+TmeJqGeePrvxcm4m1FGHwoL9tH+xHo6V0zn7eGtua7JBYo3XgWbEnOYMGsX6YV6WndcoDtDWoUysHnoZdW4OFN+eT6ORkcySzP5bO9n3Nn4TlbNexFz3hLezX6eTs2b8PqQNhzLLmHu+48Q6/UrsRWVvG+8jY3By3m357vU867H1MWfEbdrL6v9XHg2fwOfNBzD6soFLBmyhEXHFvHKlldYPnQ5/i6XPvxi0bFFTPptElOKfGmeG8/8uDtoHdaTZPcgWHAv7bQSwibvurwXXJYHH3fVe5yvfUkfLnYRtsIMln7SnEcD/PiOUFT7e/ghZwf3NrsXP2c/jBeocfF7VhxfwUubXmJyu8l0C++GQ3EOKv5HPWB17Yt6cdAX9YBNrsHAN15edKtyI8nmydN+BVhTRnF3kCsuLkdolJqMV8lu8h2LaVFeQX/jG/iHGxnpZSQk1JeKAHdaBbem39x+dArsR3pSL/5zbdxZw9jOtXhfGvfP3IhPzDP0KvThl8qOPNXEl5t7P8Kw+cPoW6cvd4X0gPdb6YWcQ1rwbZEz71clkZkyllHtYnluQMvqz42nftnAmqzxTCgyUNLsAY6W1iNr8woMwTPoXVJGd/+2dOEo9zcdzx3NxvPQyocYUX8EnUM7k5CfQJRn1BUbil1eWc7JopPEeMcwZcsUGvs1PnuY6hlO5JYyetoWjuWU4OPiiJeLCW/7Xy8XR7ztf121E7x5Qh+++FjcD9za/vyMRqqssOkjWD2FOc4m/uvrwcNeo6nyCSHcrxMUJZGVs4l6TuGU2SpYs+cTnik8wMJrn6RVs1Hn15n7sxY/ATu+YYm5AT+6HMOtaDj/ffC5C9ZNenzt4yxPXs6CQYt5ecVMDmVMY2Z6Ev/xiyC2soDHBs7Us1svh30IsrWyghPvNyW0MJ0bQiKJqWhEsbWUHd6JTGz4GYMax5DzcUfqleQzJSIWR+9IHm73JIM3TSbIJZS3ur3H4Pn9aebfjFe7vsrgnwfTMqAlT7d/Si9mXFGoZxQ7uenZG6Gt9NpiAAsn6Vmoju7Vjw/fNZd4wxGu8ZvA2/3v/FNvc7GlmLzyPJwcnBgwbwBPtH2CLmFdGLN4DA+2eJA2QW2YvG4ytzW8jcZ+jZm6cyoD6g4g2jOaNxe/QvS+TTxfNJ6OjfMZHeiAm8HMoYrjhJkCsFoVk/fsYlzn0YztdHr41HfTbmCKUS+q+2T0RIYXHjwn4JOlZ7IM+0qfmfP1M4KAzt56tpF3FIz8Xl+2a4Ye6HML1LMp3YPB1R+U4q3tb3Gs4Bgejh60D25Pr4hedJrZibub3c3YpmNZkrSE9sHtL/laO6+0lP2ppcza/xP7cvaQndQfZ7+PMDknsebkcX5yc2alSxTby/qx+ZFLyGixlMLcsew4tozRIYGQeT0/jnqC2DPrGqbvJfvTrpjQ8LRpZJs9UO7hWHxasiByLKn5VlxS49lZDHsL3CgsM6OMRWiaEWxmPHwS8DS50pEKVnp9zrDiKibmHOe68FCaBt9Ll5DB5GbMIcrogbvRhYPlyYSa/HE3urDV2ZVg17oEFqWwNX0dlh0phPrspn7FcVpUVMC4NRDSXB+G4xbwx7KPClP5YFp7Dhoas6NsAs0NsxlCIg6ejUiybWNwXjq/dFtGbplGXqmV/FILeaUW8sus5JdaySu1UFBmPa/et4ujkWBPM8Gezva/ZoI8nasDQMEezng4O9R4/fjb4Swe/nEJFSGvAjCt+3zaREZd8CXcvexuqrQqHm71MA18L1Aio/r1phH/422Msxmw5A8gwHUON2U6EOySyUs+8HWmYobJhRneGs4ZT3Jr1El8PUto6hJDqjWb3MoCGjtHc8TNj2xbGS0MvuTm7aDYkkfr1H18X76RPY5G2paN4SunI5RWKLr63Euh69t0PLGehk43crRVb6KKUggxerO3LAE/B0+CTX7sLUvAFNSDQNcokk78QJDNUL3cx+jGpNSPcC7swdp732bq1DcYVTSFPc0m4hIxmL3WVPyqNGLKS4gvS8TLwZ1Qkz/xZYm4ukXhGdidI7mbCC1KqV7u5eDOwvQf2Krlc1PwV6TnV3Iyr4yU/DLSC8sxGRTOjkb9n8mIs6MDziYDLo4O9vv6chdHI2b7X2dHI/mpnzLywGd84hGEyeLHoxOXoow1Z10tTVrKI2seYWKTV/hxnScn88ooKDt/ggIXRyNBHmYCPEw0NufgWvQC013L+MIaTVpkb3LdQony60xm1ga0ogTq+LQjsn6r3x3W/U+glNquaVqNvRZ/VUBoKNBX07S77PdvA9ppmnb/GeuMA8YBREREtEpOTr7ix/FvtTkxh9eX9iTL0cqa4ykM9m/EIQcXIpKG0CD8DZJMDsxLSWdigB9JJgdePmFisH9jDI7ZbEjdz/OBzuetk5jwXypC5xHudIhlqYl87OVBl9JyGlks+pSdN03XewoOLtCHC7n46F/abe6qzg6pyS9Te9ExZxevuFxDXtgNDGzQXa/B43b2+OKTeaV89utqdpU/jIfNxjdpGYwN8qdcGZiaWkT7gPYog5Uf05J5K6SMcmU4a53spAkkhS0jwpjCkvRD1cu/SctgYGgwkQTx3tjVf+1/zB+0f2p/8ou3EXf/EXzdLvzjKbfEwie/LOGhg3fwcJAn1yhPhkb01HtyGtzw+9k9fwdrORxeRML26XxRuJdnc3JwcguBR+zTPVZV6in+Z1iQuIASawnD4oZdmWOwB44OZu5ir62YTgEDeHT+IIpdnfj5xl/QNO1vCwDmllj4eE0C8akF7E8t5Enr+1i8dvCKnw/fJlkpGrmOzvX8/pZjuRy5JRZ+3ZNKywhvGoV4/CXv14M/3sbB/G2MdBrH6FsmVD/He5+O4QeHLTQxduDlYR9hUyXVF/nl1io6f/wcFR4/8VSTqTQI9+bXxF8Z13QcLg4uKKVwdri8keul1lJ+O/kbXb1b8M5X3Znp5cCnCU6Mdu+Oi9cGrnfpxQu3vHD5LzD7KKTv1nsTL0H+rm/YYM2nU9NR5w9n/IM2pG4ADTqEdKj5/9BWdbqmWMHx6tpi2RX5fF3vOjJTmxCVcCcf+Bv4+mQRGzzq8LFHNh82fpFCTyOPr3+CXwb9woGcAzy29jHm3TCPHZk7UEpx0yXWI9ienMehb+4iwRrF4rht9Kvbm6faP8XT65+mbVBbro++HuLnwf5fIGMfCQXHGBQWzKDK63n+9pfOGp5is2nM+eQpbs6YSuuISIoKOjAw4DbSDM8zsNEIhja9g23p24jxitFnfvs/kldi4euNyWQUlVNg/3F05o+mcqueHbnV6W48VSnq6ayLD+srOEnmTxNxSl7OFrMTDwf6U5I4ga7mlWwP2cOPJ9NINjnwSIAf7wcMptt1f6CNX4rcY7DyBaafWMmbPu580WU2bete/IeWpcqCo9GRlcdXMmv/XAbHl7DPtBJXz2bce9tPf+67riCFgl3f8OLBGdyYl04ji4UN3iH0uXcPyuigZ1j51D2r2HJ8djwAjfwasSFlAz7OPtT3qY9Ns52emOCQPRuwokgvuFtRrGdt9H1FrzXzZqz+2Bn1UzQUsZZvWfFITyJ8/1iG0Lmyy7KZc3gOXcO6EuQSxKtbXuWmuJuIcI9gwqoJjG82nnre9bj515t5ou0TNPVrynXzruOZdv9l11Effsm5nxezcmhVXk6/8FBezMqhfoWFoWHBjA28kwf7Tqh+rr2Lv2DlunX43/AgI31yYc4Y/XrQLVAP5LgF6hNQNBuuvwdpu04/9geHpoxcMJJrIq/hjsZ3kFGSQYBLwBX5fqqyaaxM2Mum44lUpTqzu+S/OGrFFFW8z8IJXS9tJzYb8ZvnMmjtFsa0uJYne58z5MhSqmeS+dTRO+5c/S6YkaBpGrklFpJzSzmeU0pyTim5JRXkVX82VJBXVoJr2Qms3vM5XtADY4UPTvXe5JnsHLqVltMrIvSs2+Vpg3m1fDXP1snj7rwC7nauizGuL8T2gaBmV+QactinzXApDMfq+yB7DI9wbw4MLE6jT2QwrXICWZ05EdCz1PSA96ngtx749nZxtAd87AEgLzPuTjUHey5VZlE5308by315v5B951YCwi88BH/CqgkEuwZf+qgOTePXPWk8MGcNMXVe5KkSA90Cm4FHGBSlsaUomenB3ajIGoBHwV2sd69kS/JJ3vDxYra7G1uST9LNox853kcYl9AYS8BqZru7sTgpl9dcG7DTJRgP472EeTsTE+jB6I7hvL79ZdISylga3xW3uKcZXVjAo3k5tIoM59bCQibmFdAqMpzy3M6UZF2Pd9zjjCosqF5+S2ERowsKWR/7ODcMf4y5K77ihROv06eklMrUoSyuu4bIIn8W5K+lc0Qo1xWXMjk3j84RocQWebEy7Uk8Yp9jeHFW9fLriksZn1/AVGNHviy6l0APJ0K9nAnzdiHI04zNplFqraLcUkWppYoyaxVl9r+llkrKrTZKLZWUWauqv+tO6WDYS0rMN3QshykjFup1XWtQai1lfsJ8hsQOqe7YKbNUkVFYTnphuf634OzbGYUVZJdk08VtBh+W/sZTAV6scgwkK+EpGoa+idGcyojkBrgOnVo9sdM/2dUICN0E9DknINRW07QHalr/35Yh9HdISj3MwYSNRJlDSVaVlDr7EuUUQm76GqyalShzKCkVmVg1KxFuMSSa3bDaLNQvKyG1PPW8dfzD+pFWnoYqSCDa6EGonw/uPgHg7AOOf/xCpaKijMy0k4RFxlzSB/r2QxvIyUwgwhzMiYp0NE0j3DmMIy5eaJqNepZyUkqOoWnaWev4B/fkhCUTh5JU6uJUvTzCHMzJigxaNe6Nt9cVmlbxCrNUVFCUm4Fv8KWlfqYdP4K3lzdmj/+/QMKZKgoysJbk4hYUe8FZPP4uR/KOYNNsxPnU0KP+N9E0jYz8UhIPLiPLkk276B4EhV1emve/iaZp7E/cRKPos3v7S8qLOZJ2iOZ1ah7rfzI/l7KqImJ8Iq54oOpY+mH2HPqNuh4NyXD1I7cik2tjWuDl/PsFqv+tUo5vY392Mp0b96PcVkFyYTL1fepTVllW422rzYqzg/NlZdqUlhRRWlKCi7fH79fbs5SyP2EjcfW6YKzhR6WtspLEvRvYV5FJQHBjOkZexjCn/2Pl1iryS60U5Ofi52LA1//SMnmOH9xORt5Jkk1GQnxaYitJIyd3J5HmYKy2SkzenjSv3/2vPXigID+djIIMYiMvMIPRRWiaxu6D62gW1wl1pTo+NI2MY/vw8QvA5HHxWemuqCqrHhiqKMJWUUy6uS4hXpdbfvXKsWk2iixFOBmdUEqxMXknzhlpOBvMHCtPIcjRF2eDmbSqHHq1GYaD6fQ5Z6uqIjMjhaCQiAsP4fsHO56bh5uT62XPIHUit5Qwb+e/rePJWmUjv9RKRn4uCccWEWjyxtXoTGLZSQIdfXE1OrPfyRl/lzB8izNJKoynU4Me+AVc+euP4xlHsVjKiQyJIz4nnjD3MMw2E2vjFxMR0g1/Ty+8nB2r63f9XWxVNjJOHiU48uL1GIstxdiwVQ8JvlQncksJdVMYHC98Lh9NWM+Bkwep5xJJpiWXgsoi6rlEctzsST4W6hs8yc/fT0FVMU1i+xPq73/BoL/NprEvtYADufsILk4nwOTF4dIkvB088Hf04XBpEk4B7fFzCeVEyhJ8NUP1cm8HDwKdg6jbpAMOJhOazcbK7fNwsFTi5duSw9YsvKpshFvLOVp2HHejK4GOvhwtO46LSxie/m04lrcb/5KM6uX6On44hzcnyM/rgoX5L4XNplFeaQ8c2YNGuVmHqB8eiZfn5Rffv5Tnyy21kJ1yjNSsHRS6BhDu04rsnJ3Yio8T5t2c0LoN/3EzydXkagSEavWQMSGEEEIIIYQQQoir7WIBob8qRLsVqKeUqqOUcgSGA7/8Rc8lhBBCCCGEEEIIIS7DXzLLmKZplUqp+4El6NPOT9M0Lf6veC4hhBBCCCGEEEIIcXn+koAQgKZpC4GFf9X+hRBCCCGEEEIIIcQf838wLZEQQgghhBBCCCGE+DtJQEgIIYQQQgghhBCilpGAkBBCCCGEEEIIIUQtIwEhIYQQQgghhBBCiFpGAkJCCCGEEEIIIYQQtYwEhIQQQgghhBBCCCFqGQkICSGEEEIIIYQQQtQyEhASQgghhBBCCCGEqGUkICSEEEIIIYQQQghRy0hASAghhBBCCCGEEKKWkYCQEEIIIYQQQgghRC0jASEhhBBCCCGEEEKIWkZpmna1jwGlVBaQfLWP4wrxA7Kv9kEIcZVI+xe1mbR/UZtJ+xe1nZwDojaT9v//LVLTNP+aHvi/CAj9myiltmma1vpqH4cQV4O0f1GbSfsXtZm0f1HbyTkgajNp//9cMmRMCCGEEEIIIYQQopaRgJAQQgghhBBCCCFELSMBoSvv06t9AEJcRdL+RW0m7V/UZtL+RW0n54CozaT9/0NJDSEhhBBCCCGEEEKIWkYyhIQQQgghhBBCCCFqGQkICSGEEEIIIYQQQtQyEhC6QpRSfZVSh5RSR5VSj1/t4xHir6CUmqaUylRK7TtjmY9SaplS6oj9r/cZjz1hPycOKaX6XJ2jFuLKUEqFK6VWKaUOKKXilVIP2ZfLOSD+9ZRSZqXUFqXUbnv7f96+XNq/qDWUUkal1E6l1K/2+9L+Ra2glEpSSu1VSu1SSm2zL5P2/y8gAaErQCllBD4A+gENgRFKqYZX96iE+EtMB/qes+xxYIWmafWAFfb72M+B4UAj+zYf2s8VIf6pKoFHNE1rALQH7rO3czkHRG1QAfTUNK0Z0Bzoq5Rqj7R/Ubs8BBw44760f1Gb9NA0rbmmaa3t96X9/wtIQOjKaAsc1TQtUdM0CzALGHiVj0mIK07TtN+A3HMWDwS+st/+Chh0xvJZmqZVaJp2DDiKfq4I8Y+kaVqapmk77LeL0H8UhCLngKgFNF2x/a7J/k9D2r+oJZRSYUB/4PMzFkv7F7WZtP9/AQkIXRmhwIkz7p+0LxOiNgjUNC0N9B/MQIB9uZwX4l9LKRUFtAA2I+eAqCXsw2V2AZnAMk3TpP2L2uQdYBJgO2OZtH9RW2jAUqXUdqXUOPsyaf//Ag5X+wD+JVQNy7S//SiE+P8i54X4V1JKuQE/AhM0TStUqqamrq9awzI5B8Q/lqZpVUBzpZQXME8p1fgiq0v7F/8aSqkBQKamaduVUt0vZZMalkn7F/9knTRNS1VKBQDLlFIHL7KutP9/EMkQujJOAuFn3A8DUq/SsQjxd8tQSgUD2P9m2pfLeSH+dZRSJvRg0Heaps21L5ZzQNQqmqblA6vRa0NI+xe1QSfgBqVUEnppiJ5KqW+R9i9qCU3TUu1/M4F56EPApP3/C0hA6MrYCtRTStVRSjmiF9H65SofkxB/l1+A0fbbo4Gfz1g+XCnlpJSqA9QDtlyF4xPiilB6KtAXwAFN09464yE5B8S/nlLK354ZhFLKGbgGOIi0f1ELaJr2hKZpYZqmRaFf56/UNO1WpP2LWkAp5aqUcj91G7gW2Ie0/38FGTJ2BWiaVqmUuh9YAhiBaZqmxV/lwxLiilNKzQS6A35KqZPAs8AUYLZS6k7gOHATgKZp8Uqp2cB+9NmZ7rMPNxDin6oTcBuw115HBWAycg6I2iEY+Mo+U4wBmK1p2q9KqY1I+xe1l3z+i9ogEH2YMOjxgxmapi1WSm1F2v8/ntI0Gc4nhBBCCCGEEEIIUZvIkDEhhBBCCCGEEEKIWkYCQkIIIYQQQgghhBC1jASEhBBCCCGEEEIIIWoZCQgJIYQQQgghhBBC1DISEBJCCCGEEEIIIYSoZSQgJIQQQoi/nVKq+Jz7Y5RSU6/W8fwTKaWGKqVylVK77P+qznhsulLq2BmP7Tr3PRdCCCFE7eZwtQ9ACCGEEEL8YT9rmnY7nB9kAx7VNO2HU3ckICSEEEKIM0mGkBBCCCH+ryilrldKbVZK7VRKLVdKBdqXP6eU+o/9di+llKaUam2/rymlppyxj81KqdX2265KqWlKqa32fQ60Lz8rK0kpNVUpNeaM/e9USu21b+tkX55kX3ZQKbVUKeVqX/6RUmqbUipeKfX8GftMUkr52W/7KaWSzn1upVScUqpSKTXUfr+VUmqNUmq7UmqJUir4Am+VCaj4k2+3EEIIIWopCQgJIYQQ4mpwPnM4E/DfMx5bB7TXNK0FMAuYVMP2zwJHz7hfArRSShmVUg0B7YzHngRWaprWBugBvH4qkFMTpZQZmA7crGlaE/SM6nvOWKUH0AgIBKJPPYemaa2BpkA3pVTTi776s70AHLQ/twl4HxiqaVorYBrw0gW2cweKLuN5hBBCCCGqyZAxIYQQQlwNZZqmNT91x56Z09p+Nwz43p4Z4wgcO3NDpdQQYCvQ6px9LgH6ogdsvgRG2JdfC9xwKrsIMAMR9ts3K6U622+HAtuAOOCYpmmH7cu/Au4D3rHfXwX4AvuAvfZlw5RS49CvrYKBhsCeU+vb6/sYz30TlFKt0DvottkXxQGNgWVKKezbpJ27nV0gkHuBx4QQQgghLkoyhIQQQgjx/+Z9YKo9O2c8egDnFCN6xtArNWz3DXAH0AzYfsZyBQzRNK25/V+EpmkH7I99f2o58P0Z619MD/TgUQYwQilVB/gP0EvTtKbAgnOOuYd9/z1q2NeLwNPnHGv8GcfaRNO0ay9wHPXRg1JCCCGEEJdNAkJCCCGE+H/jCaTYb48+57FbgQWapmWfu5GmaRlAHjDnnIeWAA8oe8qNUqrF7zz/QSBKKRVjv38bsOac59LQh2v5AR7oQ9YK7PWO+v3O/k/pBqSdEZwCOAT4K6U62I/VpJRqdO6GSilvoCd6ppQQQgghxGWTIWNCCCGE+H/zHDBHKZUCbALqnPFYIPD2hTbUNO0ugFPFpu1eQB/utcceFEoCBlxkH+VKqdvtx+CAHnT5+IxVVimlNPQMocmapuUrpXYC8UAisP7SXib1gP7nPLfFXlz6PaWUJ/q12jv2fZ/pIHrgbLE9zgV6XaaFmqZdd4nPL4QQQohaTOkdXEIIIYQQ4p9CKZWkaVrUpS4XQgghhDiXDBkTQgghhBBCCCGEqGUkQ0gIIYQQ4h9GKeWkaVrFpS4XQgghhDiXBISEEEIIIYQQQgghahkZMiaEEEIIIYQQQghRy0hASAghhBBCCCGEEKKWkYCQEEIIIYQQQgghRC0jASEhhBBCCCGEEEKIWuZ//zlmjgs5VGwAAAAASUVORK5CYII=",
      "text/plain": [
       "<Figure size 1440x504 with 1 Axes>"
      ]
     },
     "metadata": {
      "needs_background": "light"
     },
     "output_type": "display_data"
    }
   ],
   "source": [
    "fig, ax = plt.subplots(figsize=(20,7))\n",
    "# ax.set(yscale=\"log\") #xscale=\"log\", \n",
    "sns.lineplot(data=df_rez[['Макс. ПДЗ за 2020 год, дней',\n",
    "                         'pred_y',\n",
    "                         'Ошибка дней']],\n",
    "            # x=df_rez.index,\n",
    "            # y='Ошибка дней',\n",
    "            ax=ax);\n"
   ]
  },
  {
   "cell_type": "markdown",
   "metadata": {},
   "source": [
    "### Качество прогнозов по категориям\n",
    "- факт просрочки;\n",
    "- просрочку более 30 дней;\n",
    "- просрочку в диапазоне от 60 до 90 дней?"
   ]
  },
  {
   "cell_type": "code",
<<<<<<< HEAD
   "execution_count": 28,
=======
   "execution_count": 13,
>>>>>>> 02d134c60765e53fc6aa839a5e557bb0a5c5d07d
   "metadata": {},
   "outputs": [
    {
     "name": "stdout",
     "output_type": "stream",
     "text": [
      "Точность предсказания:\n"
     ]
    },
    {
     "data": {
      "text/plain": [
       "Факт просрочки                100.000000\n",
<<<<<<< HEAD
       "Просрочка > 30 дней            83.647799\n",
       "Просрочка от 30 до 60 дней     86.163522\n",
       "dtype: float64"
      ]
     },
     "execution_count": 28,
=======
       "Просрочка > 30 дней            91.823899\n",
       "Просрочка от 30 до 60 дней     89.937107\n",
       "dtype: float64"
      ]
     },
     "execution_count": 13,
>>>>>>> 02d134c60765e53fc6aa839a5e557bb0a5c5d07d
     "metadata": {},
     "output_type": "execute_result"
    }
   ],
   "source": [
    "df_data_perd3 = pd.DataFrame()\n",
    "df_data_perd3['Факт просрочки'] = df_rez['Макс. ПДЗ за 2020 год, дней'] > 0\n",
    "df_data_perd3['Просрочка > 30 дней'] = df_rez['Макс. ПДЗ за 2020 год, дней'] > 30\n",
    "df_data_perd3['Просрочка от 30 до 60 дней'] = ((df_rez['Макс. ПДЗ за 2020 год, дней'] >= 30) \n",
    "                                            & (df_rez['Макс. ПДЗ за 2020 год, дней'] <= 60))\n",
    "df_pred_perd3 = pd.DataFrame()\n",
    "df_pred_perd3['Факт просрочки'] = df_rez['pred_y'] > 0\n",
    "df_pred_perd3['Просрочка > 30 дней'] = df_rez['pred_y'] > 30\n",
    "df_pred_perd3['Просрочка от 30 до 60 дней'] = ((df_rez['pred_y'] >= 30) \n",
    "                                            & (df_rez['pred_y'] <= 60))\n",
    "print('Точность предсказания:')\n",
    "100/df_rez.shape[0] * (df_data_perd3 == df_pred_perd3).sum()"
   ]
  },
  {
   "cell_type": "code",
   "execution_count": null,
   "metadata": {},
   "outputs": [],
   "source": []
  }
 ],
 "metadata": {
  "interpreter": {
   "hash": "c89bcb6113d743952ed059c0b2faacbcea7cf8699666afefa60508d089399299"
  },
  "kernelspec": {
   "display_name": "Python 3.8.12 ('SkillFactory')",
   "language": "python",
   "name": "python3"
  },
  "language_info": {
   "codemirror_mode": {
    "name": "ipython",
    "version": 3
   },
   "file_extension": ".py",
   "mimetype": "text/x-python",
   "name": "python",
   "nbconvert_exporter": "python",
   "pygments_lexer": "ipython3",
   "version": "3.8.12"
  },
  "orig_nbformat": 4
 },
 "nbformat": 4,
 "nbformat_minor": 2
}
