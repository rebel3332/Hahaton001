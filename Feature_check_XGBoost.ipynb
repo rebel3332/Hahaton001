{
 "cells": [
  {
   "cell_type": "markdown",
   "metadata": {},
   "source": [
    "# Обучение и предсказание"
   ]
  },
  {
   "cell_type": "code",
   "execution_count": 148,
   "metadata": {},
   "outputs": [],
   "source": [
    "import pandas as pd\n",
    "import xgboost as xgb\n",
    "from xgboost import XGBClassifier\n",
    "from sklearn.metrics import accuracy_score\n",
    "import seaborn as sns\n",
    "import matplotlib.pyplot as plt"
   ]
  },
  {
   "cell_type": "code",
   "execution_count": 149,
   "metadata": {},
   "outputs": [
    {
     "data": {
      "text/html": [
       "<div>\n",
       "<style scoped>\n",
       "    .dataframe tbody tr th:only-of-type {\n",
       "        vertical-align: middle;\n",
       "    }\n",
       "\n",
       "    .dataframe tbody tr th {\n",
       "        vertical-align: top;\n",
       "    }\n",
       "\n",
       "    .dataframe thead th {\n",
       "        text-align: right;\n",
       "    }\n",
       "</style>\n",
       "<table border=\"1\" class=\"dataframe\">\n",
       "  <thead>\n",
       "    <tr style=\"text-align: right;\">\n",
       "      <th></th>\n",
       "      <th>Unnamed: 0</th>\n",
       "      <th>Итого</th>\n",
       "      <th>Макс. ПДЗ за 2020 год, дней</th>\n",
       "      <th>2018, Заёмные средства (краткосрочные), RUB</th>\n",
       "      <th>2019, Заёмные средства (краткосрочные), RUB</th>\n",
       "    </tr>\n",
       "  </thead>\n",
       "  <tbody>\n",
       "    <tr>\n",
       "      <th>526</th>\n",
       "      <td>526</td>\n",
       "      <td>0.7</td>\n",
       "      <td>-0.277778</td>\n",
       "      <td>-0.033402</td>\n",
       "      <td>-0.055626</td>\n",
       "    </tr>\n",
       "    <tr>\n",
       "      <th>527</th>\n",
       "      <td>527</td>\n",
       "      <td>0.0</td>\n",
       "      <td>-0.277778</td>\n",
       "      <td>-0.033402</td>\n",
       "      <td>-0.055626</td>\n",
       "    </tr>\n",
       "    <tr>\n",
       "      <th>528</th>\n",
       "      <td>528</td>\n",
       "      <td>0.5</td>\n",
       "      <td>-0.277778</td>\n",
       "      <td>-0.033402</td>\n",
       "      <td>-0.055626</td>\n",
       "    </tr>\n",
       "    <tr>\n",
       "      <th>529</th>\n",
       "      <td>529</td>\n",
       "      <td>0.7</td>\n",
       "      <td>-0.277778</td>\n",
       "      <td>0.681483</td>\n",
       "      <td>-0.039705</td>\n",
       "    </tr>\n",
       "    <tr>\n",
       "      <th>530</th>\n",
       "      <td>530</td>\n",
       "      <td>0.1</td>\n",
       "      <td>-0.277778</td>\n",
       "      <td>-0.033402</td>\n",
       "      <td>-0.055575</td>\n",
       "    </tr>\n",
       "  </tbody>\n",
       "</table>\n",
       "</div>"
      ],
      "text/plain": [
       "     Unnamed: 0  Итого  Макс. ПДЗ за 2020 год, дней  \\\n",
       "526         526    0.7                    -0.277778   \n",
       "527         527    0.0                    -0.277778   \n",
       "528         528    0.5                    -0.277778   \n",
       "529         529    0.7                    -0.277778   \n",
       "530         530    0.1                    -0.277778   \n",
       "\n",
       "     2018, Заёмные средства (краткосрочные), RUB  \\\n",
       "526                                    -0.033402   \n",
       "527                                    -0.033402   \n",
       "528                                    -0.033402   \n",
       "529                                     0.681483   \n",
       "530                                    -0.033402   \n",
       "\n",
       "     2019, Заёмные средства (краткосрочные), RUB  \n",
       "526                                    -0.055626  \n",
       "527                                    -0.055626  \n",
       "528                                    -0.055626  \n",
       "529                                    -0.039705  \n",
       "530                                    -0.055575  "
      ]
     },
     "execution_count": 149,
     "metadata": {},
     "output_type": "execute_result"
    }
   ],
   "source": [
    "df = pd.read_csv('data/feature_check_003.csv') # , index_col='Наименование ДП'\n",
    "df.tail()"
   ]
  },
  {
   "cell_type": "code",
   "execution_count": 150,
   "metadata": {},
   "outputs": [
    {
     "data": {
      "text/html": [
       "<div>\n",
       "<style scoped>\n",
       "    .dataframe tbody tr th:only-of-type {\n",
       "        vertical-align: middle;\n",
       "    }\n",
       "\n",
       "    .dataframe tbody tr th {\n",
       "        vertical-align: top;\n",
       "    }\n",
       "\n",
       "    .dataframe thead th {\n",
       "        text-align: right;\n",
       "    }\n",
       "</style>\n",
       "<table border=\"1\" class=\"dataframe\">\n",
       "  <thead>\n",
       "    <tr style=\"text-align: right;\">\n",
       "      <th></th>\n",
       "      <th>Unnamed: 0</th>\n",
       "      <th>Итого</th>\n",
       "      <th>Макс. ПДЗ за 2020 год, дней</th>\n",
       "      <th>2018, Заёмные средства (краткосрочные), RUB</th>\n",
       "      <th>2019, Заёмные средства (краткосрочные), RUB</th>\n",
       "    </tr>\n",
       "  </thead>\n",
       "  <tbody>\n",
       "    <tr>\n",
       "      <th>count</th>\n",
       "      <td>531.000000</td>\n",
       "      <td>531.000000</td>\n",
       "      <td>531.000000</td>\n",
       "      <td>531.000000</td>\n",
       "      <td>531.000000</td>\n",
       "    </tr>\n",
       "    <tr>\n",
       "      <th>mean</th>\n",
       "      <td>265.000000</td>\n",
       "      <td>0.300565</td>\n",
       "      <td>1.218037</td>\n",
       "      <td>18.653844</td>\n",
       "      <td>19.576265</td>\n",
       "    </tr>\n",
       "    <tr>\n",
       "      <th>std</th>\n",
       "      <td>153.430766</td>\n",
       "      <td>0.484067</td>\n",
       "      <td>3.857701</td>\n",
       "      <td>137.827411</td>\n",
       "      <td>117.192284</td>\n",
       "    </tr>\n",
       "    <tr>\n",
       "      <th>min</th>\n",
       "      <td>0.000000</td>\n",
       "      <td>0.000000</td>\n",
       "      <td>-0.277778</td>\n",
       "      <td>-0.033402</td>\n",
       "      <td>-0.061962</td>\n",
       "    </tr>\n",
       "    <tr>\n",
       "      <th>25%</th>\n",
       "      <td>132.500000</td>\n",
       "      <td>0.100000</td>\n",
       "      <td>-0.277778</td>\n",
       "      <td>-0.033402</td>\n",
       "      <td>-0.055626</td>\n",
       "    </tr>\n",
       "    <tr>\n",
       "      <th>50%</th>\n",
       "      <td>265.000000</td>\n",
       "      <td>0.200000</td>\n",
       "      <td>0.000000</td>\n",
       "      <td>0.000000</td>\n",
       "      <td>0.000000</td>\n",
       "    </tr>\n",
       "    <tr>\n",
       "      <th>75%</th>\n",
       "      <td>397.500000</td>\n",
       "      <td>0.300000</td>\n",
       "      <td>0.722222</td>\n",
       "      <td>0.966598</td>\n",
       "      <td>0.944374</td>\n",
       "    </tr>\n",
       "    <tr>\n",
       "      <th>max</th>\n",
       "      <td>530.000000</td>\n",
       "      <td>3.700000</td>\n",
       "      <td>26.888889</td>\n",
       "      <td>2563.562510</td>\n",
       "      <td>1807.535172</td>\n",
       "    </tr>\n",
       "  </tbody>\n",
       "</table>\n",
       "</div>"
      ],
      "text/plain": [
       "       Unnamed: 0       Итого  Макс. ПДЗ за 2020 год, дней  \\\n",
       "count  531.000000  531.000000                   531.000000   \n",
       "mean   265.000000    0.300565                     1.218037   \n",
       "std    153.430766    0.484067                     3.857701   \n",
       "min      0.000000    0.000000                    -0.277778   \n",
       "25%    132.500000    0.100000                    -0.277778   \n",
       "50%    265.000000    0.200000                     0.000000   \n",
       "75%    397.500000    0.300000                     0.722222   \n",
       "max    530.000000    3.700000                    26.888889   \n",
       "\n",
       "       2018, Заёмные средства (краткосрочные), RUB  \\\n",
       "count                                   531.000000   \n",
       "mean                                     18.653844   \n",
       "std                                     137.827411   \n",
       "min                                      -0.033402   \n",
       "25%                                      -0.033402   \n",
       "50%                                       0.000000   \n",
       "75%                                       0.966598   \n",
       "max                                    2563.562510   \n",
       "\n",
       "       2019, Заёмные средства (краткосрочные), RUB  \n",
       "count                                   531.000000  \n",
       "mean                                     19.576265  \n",
       "std                                     117.192284  \n",
       "min                                      -0.061962  \n",
       "25%                                      -0.055626  \n",
       "50%                                       0.000000  \n",
       "75%                                       0.944374  \n",
       "max                                    1807.535172  "
      ]
     },
     "execution_count": 150,
     "metadata": {},
     "output_type": "execute_result"
    }
   ],
   "source": [
    "df.describe()"
   ]
  },
  {
   "cell_type": "code",
   "execution_count": 151,
   "metadata": {},
   "outputs": [
    {
     "name": "stdout",
     "output_type": "stream",
     "text": [
      " Всего данных 531,\n",
      " Обучающая выборка X (372, 4),\n",
      " Тестовая выборка X (159, 4), \n",
      " Обучающая выборка Y (372,),\n",
      " Тестовая выборка Y (159,)\n"
     ]
    }
   ],
   "source": [
    "df_x = df.drop('Макс. ПДЗ за 2020 год, дней', axis=1)\n",
    "df_y = df['Макс. ПДЗ за 2020 год, дней']\n",
    "\n",
    "# 1234 - bool=100% day=20\n",
    "# 90 - bool=100% day=13\n",
    "\n",
    "random_state = 90\n",
    "df_train_x = df_x.sample(frac=0.7, random_state=random_state)\n",
    "df_test_x = df_x[~df_x.index.isin(df_train_x.index)]\n",
    "df_train_y = df_y.sample(frac=0.7, random_state=random_state)\n",
    "df_test_y = df_y[~df_y.index.isin(df_train_y.index)]\n",
    "\n",
    "# df_train, df_test = df.random_split([0.9,0.1],random_state=1234)\n",
    "print(f' Всего данных {df.shape[0]},\\n \\\n",
    "Обучающая выборка X {df_train_x.shape},\\n \\\n",
    "Тестовая выборка X {df_test_x.shape}, \\n \\\n",
    "Обучающая выборка Y {df_train_y.shape},\\n \\\n",
    "Тестовая выборка Y {df_test_y.shape}')\n"
   ]
  },
  {
   "cell_type": "code",
   "execution_count": 152,
   "metadata": {},
   "outputs": [],
   "source": [
    "# # read in data\n",
    "# params = {'objective': 'binary:logistic', 'nround': 1000,\n",
    "#           'max_depth': 16, 'eta': 0.01, 'subsample': 0.5,\n",
    "#           'min_child_weight': 1, 'tree_method': 'hist',\n",
    "#           'grow_policy': 'lossguide'}\n",
    "\n",
    "\n",
    "# bst = xgb.train(params, df_train_x, df_train_y)"
   ]
  },
  {
   "cell_type": "code",
   "execution_count": 153,
   "metadata": {},
   "outputs": [
    {
     "name": "stderr",
     "output_type": "stream",
     "text": [
      "/home/alexey/anaconda3/envs/SkillFactory/lib/python3.8/site-packages/xgboost/sklearn.py:1224: UserWarning: The use of label encoder in XGBClassifier is deprecated and will be removed in a future release. To remove this warning, do the following: 1) Pass option use_label_encoder=False when constructing XGBClassifier object; and 2) Encode your labels (y) as integers starting with 0, i.e. 0, 1, 2, ..., [num_class - 1].\n",
      "  warnings.warn(label_encoder_deprecation_msg, UserWarning)\n",
      "/home/alexey/anaconda3/envs/SkillFactory/lib/python3.8/site-packages/xgboost/data.py:250: FutureWarning: pandas.Int64Index is deprecated and will be removed from pandas in a future version. Use pandas.Index with the appropriate dtype instead.\n",
      "  elif isinstance(data.columns, (pd.Int64Index, pd.RangeIndex)):\n"
     ]
    },
    {
     "name": "stdout",
     "output_type": "stream",
     "text": [
      "[22:23:45] WARNING: ../src/learner.cc:1115: Starting in XGBoost 1.3.0, the default evaluation metric used with the objective 'multi:softprob' was changed from 'merror' to 'mlogloss'. Explicitly set eval_metric if you'd like to restore the old behavior.\n"
     ]
    },
    {
     "data": {
      "text/plain": [
       "XGBClassifier(base_score=0.5, booster='gbtree', colsample_bylevel=1,\n",
       "              colsample_bynode=1, colsample_bytree=1, enable_categorical=False,\n",
       "              gamma=0, gpu_id=-1, importance_type=None,\n",
       "              interaction_constraints='', learning_rate=0.300000012,\n",
       "              max_delta_step=0, max_depth=6, min_child_weight=1, missing=nan,\n",
       "              monotone_constraints='()', n_estimators=100, n_jobs=4,\n",
       "              num_parallel_tree=1, objective='multi:softprob', predictor='auto',\n",
       "              random_state=0, reg_alpha=0, reg_lambda=1, scale_pos_weight=None,\n",
       "              subsample=1, tree_method='exact', validate_parameters=1,\n",
       "              verbosity=None)"
      ]
     },
     "execution_count": 153,
     "metadata": {},
     "output_type": "execute_result"
    }
   ],
   "source": [
    "# fit model no training data\n",
    "model = XGBClassifier()\n",
    "model.fit(df_train_x, df_train_y)"
   ]
  },
  {
   "cell_type": "code",
   "execution_count": 154,
   "metadata": {},
   "outputs": [
    {
     "name": "stdout",
     "output_type": "stream",
     "text": [
      "XGBClassifier(base_score=0.5, booster='gbtree', colsample_bylevel=1,\n",
      "              colsample_bynode=1, colsample_bytree=1, enable_categorical=False,\n",
      "              gamma=0, gpu_id=-1, importance_type=None,\n",
      "              interaction_constraints='', learning_rate=0.300000012,\n",
      "              max_delta_step=0, max_depth=6, min_child_weight=1, missing=nan,\n",
      "              monotone_constraints='()', n_estimators=100, n_jobs=4,\n",
      "              num_parallel_tree=1, objective='multi:softprob', predictor='auto',\n",
      "              random_state=0, reg_alpha=0, reg_lambda=1, scale_pos_weight=None,\n",
      "              subsample=1, tree_method='exact', validate_parameters=1,\n",
      "              verbosity=None)\n"
     ]
    }
   ],
   "source": [
    "print(model)"
   ]
  },
  {
   "cell_type": "code",
   "execution_count": 155,
   "metadata": {},
   "outputs": [],
   "source": [
    "# import numpy as np\n",
    "\n",
    "# # если данные после номрашизации, их необходимо немного порпавть \n",
    "# y_pred = np.round((y_pred / 0.27777778 + 1),2)\n",
    "# df_test_y = (df_test_y / 0.27777778 + 1).round(2)\n",
    "# y_pred"
   ]
  },
  {
   "cell_type": "code",
   "execution_count": 156,
   "metadata": {},
   "outputs": [],
   "source": [
    "# make predictions for test data\n",
    "y_pred = model.predict(df_test_x)\n",
    "predictions = [round(value) for value in y_pred]"
   ]
  },
  {
   "cell_type": "code",
   "execution_count": 157,
   "metadata": {},
   "outputs": [
    {
     "ename": "ValueError",
     "evalue": "Classification metrics can't handle a mix of continuous and multiclass targets",
     "output_type": "error",
     "traceback": [
      "\u001b[0;31m---------------------------------------------------------------------------\u001b[0m",
      "\u001b[0;31mValueError\u001b[0m                                Traceback (most recent call last)",
      "\u001b[0;32m/tmp/ipykernel_11460/2365586733.py\u001b[0m in \u001b[0;36m<module>\u001b[0;34m\u001b[0m\n\u001b[1;32m      1\u001b[0m \u001b[0;31m# evaluate predictions\u001b[0m\u001b[0;34m\u001b[0m\u001b[0;34m\u001b[0m\u001b[0;34m\u001b[0m\u001b[0m\n\u001b[0;32m----> 2\u001b[0;31m \u001b[0maccuracy\u001b[0m \u001b[0;34m=\u001b[0m \u001b[0maccuracy_score\u001b[0m\u001b[0;34m(\u001b[0m\u001b[0mdf_test_y\u001b[0m\u001b[0;34m,\u001b[0m \u001b[0mpredictions\u001b[0m\u001b[0;34m)\u001b[0m\u001b[0;34m\u001b[0m\u001b[0;34m\u001b[0m\u001b[0m\n\u001b[0m\u001b[1;32m      3\u001b[0m \u001b[0mprint\u001b[0m\u001b[0;34m(\u001b[0m\u001b[0;34m\"Accuracy: %.2f%%\"\u001b[0m \u001b[0;34m%\u001b[0m \u001b[0;34m(\u001b[0m\u001b[0maccuracy\u001b[0m \u001b[0;34m*\u001b[0m \u001b[0;36m100.0\u001b[0m\u001b[0;34m)\u001b[0m\u001b[0;34m)\u001b[0m\u001b[0;34m\u001b[0m\u001b[0;34m\u001b[0m\u001b[0m\n",
      "\u001b[0;32m~/anaconda3/envs/SkillFactory/lib/python3.8/site-packages/sklearn/utils/validation.py\u001b[0m in \u001b[0;36minner_f\u001b[0;34m(*args, **kwargs)\u001b[0m\n\u001b[1;32m     61\u001b[0m             \u001b[0mextra_args\u001b[0m \u001b[0;34m=\u001b[0m \u001b[0mlen\u001b[0m\u001b[0;34m(\u001b[0m\u001b[0margs\u001b[0m\u001b[0;34m)\u001b[0m \u001b[0;34m-\u001b[0m \u001b[0mlen\u001b[0m\u001b[0;34m(\u001b[0m\u001b[0mall_args\u001b[0m\u001b[0;34m)\u001b[0m\u001b[0;34m\u001b[0m\u001b[0;34m\u001b[0m\u001b[0m\n\u001b[1;32m     62\u001b[0m             \u001b[0;32mif\u001b[0m \u001b[0mextra_args\u001b[0m \u001b[0;34m<=\u001b[0m \u001b[0;36m0\u001b[0m\u001b[0;34m:\u001b[0m\u001b[0;34m\u001b[0m\u001b[0;34m\u001b[0m\u001b[0m\n\u001b[0;32m---> 63\u001b[0;31m                 \u001b[0;32mreturn\u001b[0m \u001b[0mf\u001b[0m\u001b[0;34m(\u001b[0m\u001b[0;34m*\u001b[0m\u001b[0margs\u001b[0m\u001b[0;34m,\u001b[0m \u001b[0;34m**\u001b[0m\u001b[0mkwargs\u001b[0m\u001b[0;34m)\u001b[0m\u001b[0;34m\u001b[0m\u001b[0;34m\u001b[0m\u001b[0m\n\u001b[0m\u001b[1;32m     64\u001b[0m \u001b[0;34m\u001b[0m\u001b[0m\n\u001b[1;32m     65\u001b[0m             \u001b[0;31m# extra_args > 0\u001b[0m\u001b[0;34m\u001b[0m\u001b[0;34m\u001b[0m\u001b[0;34m\u001b[0m\u001b[0m\n",
      "\u001b[0;32m~/anaconda3/envs/SkillFactory/lib/python3.8/site-packages/sklearn/metrics/_classification.py\u001b[0m in \u001b[0;36maccuracy_score\u001b[0;34m(y_true, y_pred, normalize, sample_weight)\u001b[0m\n\u001b[1;32m    200\u001b[0m \u001b[0;34m\u001b[0m\u001b[0m\n\u001b[1;32m    201\u001b[0m     \u001b[0;31m# Compute accuracy for each possible representation\u001b[0m\u001b[0;34m\u001b[0m\u001b[0;34m\u001b[0m\u001b[0;34m\u001b[0m\u001b[0m\n\u001b[0;32m--> 202\u001b[0;31m     \u001b[0my_type\u001b[0m\u001b[0;34m,\u001b[0m \u001b[0my_true\u001b[0m\u001b[0;34m,\u001b[0m \u001b[0my_pred\u001b[0m \u001b[0;34m=\u001b[0m \u001b[0m_check_targets\u001b[0m\u001b[0;34m(\u001b[0m\u001b[0my_true\u001b[0m\u001b[0;34m,\u001b[0m \u001b[0my_pred\u001b[0m\u001b[0;34m)\u001b[0m\u001b[0;34m\u001b[0m\u001b[0;34m\u001b[0m\u001b[0m\n\u001b[0m\u001b[1;32m    203\u001b[0m     \u001b[0mcheck_consistent_length\u001b[0m\u001b[0;34m(\u001b[0m\u001b[0my_true\u001b[0m\u001b[0;34m,\u001b[0m \u001b[0my_pred\u001b[0m\u001b[0;34m,\u001b[0m \u001b[0msample_weight\u001b[0m\u001b[0;34m)\u001b[0m\u001b[0;34m\u001b[0m\u001b[0;34m\u001b[0m\u001b[0m\n\u001b[1;32m    204\u001b[0m     \u001b[0;32mif\u001b[0m \u001b[0my_type\u001b[0m\u001b[0;34m.\u001b[0m\u001b[0mstartswith\u001b[0m\u001b[0;34m(\u001b[0m\u001b[0;34m'multilabel'\u001b[0m\u001b[0;34m)\u001b[0m\u001b[0;34m:\u001b[0m\u001b[0;34m\u001b[0m\u001b[0;34m\u001b[0m\u001b[0m\n",
      "\u001b[0;32m~/anaconda3/envs/SkillFactory/lib/python3.8/site-packages/sklearn/metrics/_classification.py\u001b[0m in \u001b[0;36m_check_targets\u001b[0;34m(y_true, y_pred)\u001b[0m\n\u001b[1;32m     90\u001b[0m \u001b[0;34m\u001b[0m\u001b[0m\n\u001b[1;32m     91\u001b[0m     \u001b[0;32mif\u001b[0m \u001b[0mlen\u001b[0m\u001b[0;34m(\u001b[0m\u001b[0my_type\u001b[0m\u001b[0;34m)\u001b[0m \u001b[0;34m>\u001b[0m \u001b[0;36m1\u001b[0m\u001b[0;34m:\u001b[0m\u001b[0;34m\u001b[0m\u001b[0;34m\u001b[0m\u001b[0m\n\u001b[0;32m---> 92\u001b[0;31m         raise ValueError(\"Classification metrics can't handle a mix of {0} \"\n\u001b[0m\u001b[1;32m     93\u001b[0m                          \"and {1} targets\".format(type_true, type_pred))\n\u001b[1;32m     94\u001b[0m \u001b[0;34m\u001b[0m\u001b[0m\n",
      "\u001b[0;31mValueError\u001b[0m: Classification metrics can't handle a mix of continuous and multiclass targets"
     ]
    }
   ],
   "source": [
    "# evaluate predictions\n",
    "accuracy = accuracy_score(df_test_y, predictions)\n",
    "print(\"Accuracy: %.2f%%\" % (accuracy * 100.0))"
   ]
  },
  {
   "cell_type": "code",
   "execution_count": null,
   "metadata": {},
   "outputs": [],
   "source": [
    "df_rez = pd.DataFrame(df_test_y)\n",
    "df_rez['Макс. ПДЗ за 2020 год, дней_bool'] = df_rez['Макс. ПДЗ за 2020 год, дней'] > 0\n",
    "df_rez['pred_y'] = y_pred\n",
    "df_rez['pred_y_bool'] = df_rez['pred_y'] > 0\n",
    "df_rez['Ошибка дней'] = (df_rez['pred_y'] - df_rez['Макс. ПДЗ за 2020 год, дней']).abs()\n",
    "df_rez['acc_bool'] = df_rez['Макс. ПДЗ за 2020 год, дней_bool'] == df_rez['pred_y_bool']\n",
    "\n",
    "print(f'Верность предсказания факта просрочки {100 / df_rez.shape[0] * df_rez[\"acc_bool\"].sum()}%')\n",
    "print(f'Средняя ошибка предсказания {int(df_rez[\"Ошибка дней\"].mean())} дней.')\n",
    "df_rez"
   ]
  },
  {
   "cell_type": "code",
   "execution_count": null,
   "metadata": {},
   "outputs": [],
   "source": [
    "fig, ax = plt.subplots(figsize=(20,7))\n",
    "sns.histplot(data=df_rez,\n",
    "            x='Ошибка дней',\n",
    "            # log_scale=True, #log от 0 найти нельзя :-(\n",
    "            kde=True,\n",
    "            ax=ax);"
   ]
  },
  {
   "cell_type": "code",
   "execution_count": null,
   "metadata": {},
   "outputs": [],
   "source": [
    "fig, ax = plt.subplots(figsize=(20,7))\n",
    "# ax.set(yscale=\"log\") #xscale=\"log\", \n",
    "sns.lineplot(data=df_rez[['Макс. ПДЗ за 2020 год, дней',\n",
    "                         'pred_y',\n",
    "                         'Ошибка дней']],\n",
    "            # x=df_rez.index,\n",
    "            # y='Ошибка дней',\n",
    "            ax=ax);\n"
   ]
  },
  {
   "cell_type": "markdown",
   "metadata": {},
   "source": [
    "### Качество прогнозов по категориям\n",
    "- факт просрочки;\n",
    "- просрочку более 30 дней;\n",
    "- просрочку в диапазоне от 60 до 90 дней?"
   ]
  },
  {
   "cell_type": "code",
   "execution_count": null,
   "metadata": {},
   "outputs": [],
   "source": [
    "df_data_perd3 = pd.DataFrame()\n",
    "df_data_perd3['Факт просрочки'] = df_rez['Макс. ПДЗ за 2020 год, дней'] > 0\n",
    "df_data_perd3['Просрочка > 30 дней'] = df_rez['Макс. ПДЗ за 2020 год, дней'] > 30\n",
    "df_data_perd3['Просрочка от 30 до 60 дней'] = ((df_rez['Макс. ПДЗ за 2020 год, дней'] >= 30) \n",
    "                                            & (df_rez['Макс. ПДЗ за 2020 год, дней'] <= 60))\n",
    "df_pred_perd3 = pd.DataFrame()\n",
    "df_pred_perd3['Факт просрочки'] = df_rez['pred_y'] > 0\n",
    "df_pred_perd3['Просрочка > 30 дней'] = df_rez['pred_y'] > 30\n",
    "df_pred_perd3['Просрочка от 30 до 60 дней'] = ((df_rez['pred_y'] >= 30) \n",
    "                                            & (df_rez['pred_y'] <= 60))\n",
    "print('Точность предсказания:')\n",
    "100/df_rez.shape[0] * (df_data_perd3 == df_pred_perd3).sum()"
   ]
  },
  {
   "cell_type": "code",
   "execution_count": null,
   "metadata": {},
   "outputs": [],
   "source": []
  }
 ],
 "metadata": {
  "interpreter": {
   "hash": "c89bcb6113d743952ed059c0b2faacbcea7cf8699666afefa60508d089399299"
  },
  "kernelspec": {
   "display_name": "Python 3.8.12 ('SkillFactory')",
   "language": "python",
   "name": "python3"
  },
  "language_info": {
   "codemirror_mode": {
    "name": "ipython",
    "version": 3
   },
   "file_extension": ".py",
   "mimetype": "text/x-python",
   "name": "python",
   "nbconvert_exporter": "python",
   "pygments_lexer": "ipython3",
   "version": "3.8.12"
  },
  "orig_nbformat": 4
 },
 "nbformat": 4,
 "nbformat_minor": 2
}
