{
 "cells": [
  {
   "cell_type": "code",
   "execution_count": 1,
   "metadata": {},
   "outputs": [],
   "source": [
    "import pandas as pd\n"
   ]
  },
  {
   "cell_type": "code",
   "execution_count": 4,
   "metadata": {},
   "outputs": [],
   "source": [
    "for i in range(2019,2022):\n",
    "    file_in = f'data/agents{i}.csv'\n",
    "    file_out = f'data/agents{i}.xlsx'\n",
    "    df = pd.read_csv(file_in)\n",
    "    df.to_excel(file_out, encoding='utf-8')"
   ]
  }
 ],
 "metadata": {
  "interpreter": {
   "hash": "c89bcb6113d743952ed059c0b2faacbcea7cf8699666afefa60508d089399299"
  },
  "kernelspec": {
   "display_name": "Python 3.8.12 ('SkillFactory')",
   "language": "python",
   "name": "python3"
  },
  "language_info": {
   "codemirror_mode": {
    "name": "ipython",
    "version": 3
   },
   "file_extension": ".py",
   "mimetype": "text/x-python",
   "name": "python",
   "nbconvert_exporter": "python",
   "pygments_lexer": "ipython3",
   "version": "3.8.12"
  },
  "orig_nbformat": 4
 },
 "nbformat": 4,
 "nbformat_minor": 2
}
